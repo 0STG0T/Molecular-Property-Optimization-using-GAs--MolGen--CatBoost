{
  "cells": [
    {
      "cell_type": "code",
      "execution_count": 1,
      "metadata": {
        "colab": {
          "base_uri": "https://localhost:8080/"
        },
        "id": "VRJtK9VOx5ZH",
        "outputId": "a66cce95-4d08-4482-c948-b55ee6caf95d"
      },
      "outputs": [],
      "source": [
        "! pip install rdkit catboost selfies -q"
      ]
    },
    {
      "cell_type": "code",
      "execution_count": null,
      "metadata": {},
      "outputs": [],
      "source": []
    },
    {
      "cell_type": "code",
      "execution_count": 1,
      "metadata": {},
      "outputs": [],
      "source": [
        "from rdkit import Chem\n",
        "from rdkit.Chem import AllChem, Descriptors\n",
        "import pandas as pd\n",
        "from sklearn.model_selection import train_test_split\n",
        "from catboost import CatBoostRegressor\n",
        "from rdkit.Chem.Descriptors import ExactMolWt\n",
        "from pred import CatLgKPredictor\n",
        "import selfies as sf\n",
        "\n",
        "import numpy as np"
      ]
    },
    {
      "cell_type": "code",
      "execution_count": 2,
      "metadata": {
        "colab": {
          "base_uri": "https://localhost:8080/"
        },
        "id": "S0VXCr4v-J1x",
        "outputId": "4adc855e-853c-40a7-e888-c8e29a5d73b0"
      },
      "outputs": [
        {
          "name": "stderr",
          "output_type": "stream",
          "text": [
            "[05:16:21] SMILES Parse Error: syntax error while parsing: C@@1(OC=2C=C(O)C=C(O)C2C[C@H]1O)([H])C3=CC(=O)C(=C4C(=C3)C([C@]5(OC=6C=C(O)C=C(O)C6C[C@H]5O)[H])=CC(O)=C4O)OOC(=O)CC(O)(CC(O)=O)C(O)=O\n",
            "[05:16:21] SMILES Parse Error: Failed parsing SMILES 'C@@1(OC=2C=C(O)C=C(O)C2C[C@H]1O)([H])C3=CC(=O)C(=C4C(=C3)C([C@]5(OC=6C=C(O)C=C(O)C6C[C@H]5O)[H])=CC(O)=C4O)OOC(=O)CC(O)(CC(O)=O)C(O)=O' for input: 'C@@1(OC=2C=C(O)C=C(O)C2C[C@H]1O)([H])C3=CC(=O)C(=C4C(=C3)C([C@]5(OC=6C=C(O)C=C(O)C6C[C@H]5O)[H])=CC(O)=C4O)OOC(=O)CC(O)(CC(O)=O)C(O)=O'\n",
            "[05:16:21] SMILES Parse Error: syntax error while parsing: OC[C@@HC@@HC@HC@@HC(O)=O\n",
            "[05:16:21] SMILES Parse Error: Failed parsing SMILES 'OC[C@@HC@@HC@HC@@HC(O)=O' for input: 'OC[C@@HC@@HC@HC@@HC(O)=O'\n",
            "[05:16:21] SMILES Parse Error: syntax error while parsing: OC(=O)C@@HC@@HC(O)=O\n",
            "[05:16:21] SMILES Parse Error: Failed parsing SMILES 'OC(=O)C@@HC@@HC(O)=O' for input: 'OC(=O)C@@HC@@HC(O)=O'\n",
            "[05:16:21] SMILES Parse Error: syntax error while parsing: CC(C)(S)C@@HC(O)=O\n",
            "[05:16:21] SMILES Parse Error: Failed parsing SMILES 'CC(C)(S)C@@HC(O)=O' for input: 'CC(C)(S)C@@HC(O)=O'\n",
            "[05:16:21] SMILES Parse Error: syntax error while parsing: H+].[Cl-].C[C@@HNC(=O)C1)N1CC(=O)NC(=O)C1\n",
            "[05:16:21] SMILES Parse Error: Failed parsing SMILES 'H+].[Cl-].C[C@@HNC(=O)C1)N1CC(=O)NC(=O)C1' for input: 'H+].[Cl-].C[C@@HNC(=O)C1)N1CC(=O)NC(=O)C1'\n",
            "[05:16:21] SMILES Parse Error: syntax error while parsing: O=C(O)CN1CCN(CC(=O)O)CCN(C[C+O)CCN(CC(=O)O)CC1\n",
            "[05:16:21] SMILES Parse Error: Failed parsing SMILES 'O=C(O)CN1CCN(CC(=O)O)CCN(C[C+O)CCN(CC(=O)O)CC1' for input: 'O=C(O)CN1CCN(CC(=O)O)CCN(C[C+O)CCN(CC(=O)O)CC1'\n",
            "[05:16:21] SMILES Parse Error: syntax error while parsing: O=C(O)CN1CCH]N(CCCO)CCN(CC(=O)O)CCN(CC(=O)O)CC1\n",
            "[05:16:21] SMILES Parse Error: Failed parsing SMILES 'O=C(O)CN1CCH]N(CCCO)CCN(CC(=O)O)CCN(CC(=O)O)CC1' for input: 'O=C(O)CN1CCH]N(CCCO)CCN(CC(=O)O)CCN(CC(=O)O)CC1'\n",
            "[05:16:21] SMILES Parse Error: syntax error while parsing: O=C(O)CN1CCN(CCCO)CCN(CC(=O)O)CCN(C[C+O)CC1\n",
            "[05:16:21] SMILES Parse Error: Failed parsing SMILES 'O=C(O)CN1CCN(CCCO)CCN(CC(=O)O)CCN(C[C+O)CC1' for input: 'O=C(O)CN1CCN(CCCO)CCN(CC(=O)O)CCN(C[C+O)CC1'\n",
            "[05:16:21] SMILES Parse Error: syntax error while parsing: CCCC@@HO)CC(=O)O)N(CC(=O)O)CC(=O)O\n",
            "[05:16:21] SMILES Parse Error: Failed parsing SMILES 'CCCC@@HO)CC(=O)O)N(CC(=O)O)CC(=O)O' for input: 'CCCC@@HO)CC(=O)O)N(CC(=O)O)CC(=O)O'\n",
            "[05:16:21] SMILES Parse Error: syntax error while parsing: CCC[C@@HO)CC(=O)O)N(CC(=O)O)CC(=O)O\n",
            "[05:16:21] SMILES Parse Error: Failed parsing SMILES 'CCC[C@@HO)CC(=O)O)N(CC(=O)O)CC(=O)O' for input: 'CCC[C@@HO)CC(=O)O)N(CC(=O)O)CC(=O)O'\n"
          ]
        }
      ],
      "source": [
        "chelates = ['CC(=O)NC1=C2SSC=C2NC1=O', 'OC(CS)C(O)CS','C@@1(OC=2C=C(O)C=C(O)C2C[C@H]1O)([H])C3=CC(=O)C(=C4C(=C3)C([C@]5(OC=6C=C(O)C=C(O)C6C[C@H]5O)[H])=CC(O)=C4O)O' 'OC(=O)CC(O)(CC(O)=O)C(O)=O', 'OC[C@@HC@@HC@HC@@HC(O)=O', 'OC(=O)C@@HC@@HC(O)=O', 'Oc1c(I)cc(Cl)c2cccnc12', 'O=C(O)CN(CC1)CCN(CC(=O)O)CCN(CC(=O)O)CCN1CC(=O)O', 'OCC(S)CS', 'C1CSCCSCCS1', 'CC(C)(S)C@@HC(O)=O', 'C1=CN=C(C=C1)C1=CC=CC=N1', 'CCCCC(O)(Cn1cncn1)c1ccc(Cl)cc1Cl', 'H+].[Cl-].C[C@@HNC(=O)C1)N1CC(=O)NC(=O)C1', 'C(=S)(S)N(CC)CC', 'Cc1cc(-c2ccc(cc2)S(O)(=O)=O)c2ccc3c(cc(C)nc3c2n1)-c1ccc(cc1)S(O)(=O)=O', 'OC(=O)CN(CCOCCOCCN(CC(O)=O)CC(O)=O)CC(O)=O', 'OC(=O)CN(CCN(CC(O)=O)CC(O)=O)CC(O)=O', 'CC(O)(P(O)(O)=O)P(O)(O)=O', 'OC(=O)CNCC(O)=O', 'OP(O)(=O)CP(O)(O)=O', 'N1=C(C=CC2=CC=C3C=CC(=NC3=C12)C)C', 'OC(=O)CN1CCCN(CCN(CCCN(CC1)CC(O)=O)CC(O)=O)CC(O)=O', 'CN1C(=O)C(NC(C)=O)=C2SSC=C12', 'CCCCCCCc1cc(O)c2ccccc2n1']\n",
        "additional_chelates = ['O=C(O)CN1CCN(CC(=O)O)CCN(CC(=O)O)CCN(CC(=O)O)CC1', 'O=C(O)CN1CCN(CCCO)CCN(CC(=O)O)CCN(CC(=O)O)CC1', 'O=C(O)CN1CCN(CC(=O)O)CCN(C(=O)O)CCN(CC(=O)O)CC1', 'O=C(O)CN1CCN(CC(=O)O)CCN(CC(O)O)CCN(CC(=O)O)CC1', 'C=C(O)CN1CCN(CC(=O)O)CCN(CC(=O)O)CCN(CC(=O)O)CC1', 'O=C(O)CN1CCN(CC[CH]O)CCN(CC(=O)O)CCN(CC(=O)O)CC1', 'O=C(O)CN1CCN(CC(=O)O)CCN(C[C+O)CCN(CC(=O)O)CC1', 'O=C(O)CN1CCH]N(CCCO)CCN(CC(=O)O)CCN(CC(=O)O)CC1', 'O=C(O)CN1CCN(CC=NO)CCN(CC(=O)O)CCN(CC(=O)O)CC1', 'O=C(O)CN(CC(=O)O)C1CCCCC1N(CC(=O)O)CC(=O)O', 'O=C(O)CN(CC(=O)O)[C@@H]1CCCC[C@H]1N(CC(=O)O)CC(=O)O', 'O=C(O)CN1CCNCCN(CC(=O)O)CCN(CC(=O)O)CC1', 'O=C(O)CN1[CH]CN(CCCO)CCN(CC(=O)O)CCN(CC(=O)O)CC1', 'O=C(O)CN1CCN(CC=PO)CCN(CC(=O)O)CCN(CC(=O)O)CC1', 'O=C(O)[CH]N1CCN(CC(=O)O)CCN(CC(=O)O)CCN(CC(=O)O)CC1', 'O=C(O)CN1[CH]CN(CC(=O)O)CCN(CCCO)CCN(CC(=O)O)CC1', 'O=C(O)CN1[CH]CN(CC(=O)O)CCN(CC(=O)O)CCN(CCCO)CC1', 'O=C(O)CN1[CH]CN(CC(=O)O)CCN(CC(=O)O)CCN(CC(=O)O)CC1', 'O=C(O)[C]N1CCN(CC(=O)O)CCN(CC(=O)O)CCN(CC(=O)O)CC1', 'O=C(O)CN1CCN(CCCO)CCN(C(=O)O)CCN(CC(=O)O)CC1', 'O=C(O)[CH]N1CCN(CCCO)CCN(CC(=O)O)CCN(CC(=O)O)CC1', 'O=C(O)CN1CCN(CCCO)CCN(CC(=O)O)CCN(C[C+O)CC1', 'CCCC@@HO)CC(=O)O)N(CC(=O)O)CC(=O)O', 'O=C(O)CN1CCN(CCCO)CCN([N]C(=O)O)CCN(CC(=O)O)CC1', 'O=C(O)CN1CCN(CC(=O)O)CCN(CC(=O)CO)CCN(CC(=O)O)CC1', 'O=C(O)CN1[C]CN(CCCO)CCN(CC(=O)O)CCN(CC(=O)O)CC1', 'O=COCN1CCN(CC(=O)O)CCN(CC(=O)O)CCN(CC(=O)O)CC1', 'O=C(O)CN1CCN(CCCO)CCN(OC(=O)O)CCN(CC(=O)O)CC1', 'O=C(O)CN1[C]CN(CC(=O)O)CCN(CC(=O)O)CCN(CC(=O)O)CC1', 'CCCCCC(CN(CC(=O)O)CC(=O)O)N(CC(=O)O)CC(=O)O', 'O=C(O)[C]N1CCN(CCCO)CCN(CC(=O)O)CCN(CC(=O)O)CC1', 'O=C(O)CN1[C]CN(CC(=O)O)CCN(CC(=O)O)CCN(CCCO)CC1', 'O=C(O)CN1CCN(CCCO)CCN(NC(=O)O)CCN(CC(=O)O)CC1', 'O=C(O)CN(C[C]1CCCCC1N(CC(=O)O)CC(=O)O)CC(=O)O', 'CC1N(CC(=O)O)CCN(CC(=O)O)CCN(CC(=O)O)CCN1CC(=O)O', 'O=C(O)CN1CCN(CCCO)CCN([O+]C(=O)O)CCN(CC(=O)O)CC1', 'O=C(O)CN1CCN(CCCO)C[N]N(CC(=O)O)CCN(CC(=O)O)CC1', 'O=C(O)CN1CCN(C=C(O)O)CCN(CC(=O)O)CCN(CC(=O)O)CC1', 'CC=CCCC(CN(CC(=O)O)CC(=O)O)N(CC(=O)O)CC(=O)O', 'O=C(O)CN1CCN(CCCO)CCN(CNC(=O)O)CCN(CC(=O)O)CC1', 'O=C(O)CNN1CCN(CCCO)CCN(CC(=O)O)CCN(CC(=O)O)CC1', 'O=C(O)CN(CC(=O)O)[C@@H]1CC=CC[C@H]1N(CC(=O)O)CC(=O)O', 'O=C(O)CN1CCN(CC(=O)O)CCN(CCCO)OCN(CC(=O)O)CC1', 'O=C(O)COCN1CCN(CCCO)CCN(CC(=O)O)CCN(CC(=O)O)CC1', 'CC1N(CCCO)CCN(CC(=O)O)CCN(CC(=O)O)CCN1CC(=O)O', 'O=C(O)[CH-]N1CCN(CC(=O)O)CCN(CC(=O)O)CCN(CC(=O)O)CC1', 'O=C(O)CN(CCN(CC(=O)O)CC(=O)O)CC(=O)O', 'O=C(O)CN1C[CH]NCCN(CC(=O)O)CCN(CC(=O)O)CC1', 'O=C(O)CN1CCNCCN(NC(=O)O)CCN(CC(=O)O)CC1', 'O=C(O)[C-]N1CCN(CC(=O)O)CCN(CC(=O)O)CCN(CC(=O)O)CC1']\n",
        "new_add =['O=C(O)CN1CCN(CC(=O)O)CCN(CC(=O)O)CCN(CC(=O)O)CC1', 'O=C(O)CN1CCN(CCO)CCN(CC(=O)O)CCN(CC(=O)O)CC1', 'O=C(O)CN1CCN(CCCO)CCN(CC(=O)O)CCN(CC(=O)O)CC1', 'O=C(O)CN1CCN(CC(=O)O)CCN(C(=O)O)CCN(CC(=O)O)CC1', 'N=C(O)CN1CCN(CC(=O)O)CCN(CC(=O)O)CCN(CC(=O)O)CC1', 'O=C(O)CN1CCN(CC(=O)O)CCN(CC(O)O)CCN(CC(=O)O)CC1', 'C=C(O)CN1CCN(CC(=O)O)CCN(CC(=O)O)CCN(CC(=O)O)CC1', 'O=C(O)CN1CCN(CC[CH]O)CCN(CC(=O)O)CCN(CC(=O)O)CC1', 'O=C(O)CN1CCN(CC[N]O)CCN(CC(=O)O)CCN(CC(=O)O)CC1', 'O=C(O)CN1CCN(CCNO)CCN(CC(=O)O)CCN(CC(=O)O)CC1', 'O=C(O)CN1C[CH]N(CCCO)CCN(CC(=O)O)CCN(CC(=O)O)CC1', 'O=C(O)CN1CCN(CC=NO)CCN(CC(=O)O)CCN(CC(=O)O)CC1', 'O=C(O)CN1CCN(CC[N+]O)CCN(CC(=O)O)CCN(CC(=O)O)CC1', 'O=C(O)CN1CCN(CC[C]O)CCN(CC(=O)O)CCN(CC(=O)O)CC1', 'O=C(O)CN(CC(=O)O)[C@@H]1CCCC[C@H]1N(CC(=O)O)CC(=O)O', 'O=C(O)CN1CCN(CCOO)CCN(CC(=O)O)CCN(CC(=O)O)CC1', 'O=C(O)CN1CCNCCN(CC(=O)O)CCN(CC(=O)O)CC1', 'O=C(O)CN1[CH]CN(CCCO)CCN(CC(=O)O)CCN(CC(=O)O)CC1', 'O=C(O)CN1CCN(CC=PO)CCN(CC(=O)O)CCN(CC(=O)O)CC1', 'O=C(O)CN1CCN(CC#CO)CCN(CC(=O)O)CCN(CC(=O)O)CC1', 'O=C(O)[CH]N1CCN(CC(=O)O)CCN(CC(=O)O)CCN(CC(=O)O)CC1', 'O=C(O)CN1CCN(CCSO)CCN(CC(=O)O)CCN(CC(=O)O)CC1', 'O=C(O)CN1[CH]CN(CC(=O)O)CCN(CCCO)CCN(CC(=O)O)CC1', 'O=C(O)CN1[CH]CN(CC(=O)O)CCN(CC(=O)O)CCN(CCCO)CC1', 'O=C(O)CN1[CH]CN(CC(=O)O)CCN(CC(=O)O)CCN(CC(=O)O)CC1', 'O=C(O)[C]N1CCN(CC(=O)O)CCN(CC(=O)O)CCN(CC(=O)O)CC1', 'O=C(O)CN1C[C]N(CCCO)CCN(CC(=O)O)CCN(CC(=O)O)CC1', 'O=C(O)CN1C[CH]N(C(=O)O)CCN(CC(=O)O)CCN(CC(=O)O)CC1', 'O=C(O)CN1CCN(CCCO)CCN(C(=O)O)CCN(CC(=O)O)CC1', 'O=C(O)CN1CCN(CC#[PH]O)CCN(CC(=O)O)CCN(CC(=O)O)CC1', 'O=C(O)[CH]N1CCN(CCCO)CCN(CC(=O)O)CCN(CC(=O)O)CC1', 'O=C(O)CN1CCN(CC=[S]O)CCN(CC(=O)O)CCN(CC(=O)O)CC1', 'O=CNCN1CCN(CC(=O)O)CCN(CC(=O)O)CCN(CC(=O)O)CC1', 'O=C(O)CN1CCN(CC[P]O)CCN(CC(=O)O)CCN(CC(=O)O)CC1', 'O=C(O)CN1CCN(CC[CH-]O)CCN(CC(=O)O)CCN(CC(=O)O)CC1', 'O=C(O)CN1CCN(CC[SH]O)CCN(CC(=O)O)CCN(CC(=O)O)CC1', 'O=C(O)CN1CCN(CC[P@H]O)CCN(CC(=O)O)CCN(CC(=O)O)CC1', 'CCCC(CN(CC(=O)O)CC(=O)O)N(CC(=O)O)CC(=O)O', 'CCC[C@@HO)CC(=O)O)N(CC(=O)O)CC(=O)O', 'O=C(O)CN1CCN(NC(=O)O)CCN(CCCO)CCN(C(=O)O)CC1', 'O=C(O)CN1CCN(CCCO)CCN([N]C(=O)O)CCN(CC(=O)O)CC1', 'O=C(O)CN1CCN(CNC(=O)O)CCN(CCCO)CCN(C(=O)O)CC1', 'O=C(O)CN1CCN(CC(=O)O)CCN(CC(=O)CO)CCN(CC(=O)O)CC1', 'O=C(O)CN1[C]CN(CCCO)CCN(CC(=O)O)CCN(CC(=O)O)CC1', 'O=COCN1CCN(CC(=O)O)CCN(CC(=O)O)CCN(CC(=O)O)CC1', 'O=C(O)CN1CCN(CC=[N+]O)CCN(CC(=O)O)CCN(CC(=O)O)CC1', 'O=C(O)CN1CCN(CCCO)CCN(OC(=O)O)CCN(CC(=O)O)CC1', 'O=C(O)CN1[C]CN(CC(=O)O)CCN(CC(=O)O)CCN(CC(=O)O)CC1', 'CCCCCC(CN(CC(=O)O)CC(=O)O)N(CC(=O)O)CC(=O)O', 'O=C(O)[C]N1CCN(CCCO)CCN(CC(=O)O)CCN(CC(=O)O)CC1']\n",
        "\n",
        "\n",
        "chelates+=additional_chelates\n",
        "chelates+=new_add\n",
        "\n",
        "\n",
        "al = []\n",
        "for i in chelates:\n",
        "  try:\n",
        "    if Chem.MolFromSmiles(i):\n",
        "      al.append(i)\n",
        "  except Exception:\n",
        "    pass\n",
        "\n",
        "chelates = al"
      ]
    },
    {
      "cell_type": "code",
      "execution_count": 3,
      "metadata": {
        "id": "OzisvhJzzVoD"
      },
      "outputs": [],
      "source": [
        "from collections import Counter\n",
        "from rdkit.Contrib.SA_Score import sascorer\n",
        "\n",
        "data = pd.read_csv(\"logK.csv\")\n",
        "\n",
        "def check_molecule(smiles):\n",
        "    # Разрешенные элементы и элементы для подсчета атомов\n",
        "    allowed_elements = {'C', 'H', 'O', 'N', 'P', 'S'}\n",
        "    count_elements = {'O', 'N', 'P', 'S'}\n",
        "\n",
        "    # Счетчик элементов в молекуле\n",
        "    elements_counter = Counter()\n",
        "    temp_element = '' # Временная переменная для хранения элементов более одного символа\n",
        "\n",
        "    for char in smiles:\n",
        "        if char.isalpha():\n",
        "            \n",
        "            if temp_element:\n",
        "               \n",
        "                elements_counter[temp_element] += 1\n",
        "                temp_element = ''\n",
        "            if char.isupper():\n",
        "              \n",
        "                elements_counter[char] += 1\n",
        "            else:\n",
        "            \n",
        "                temp_element += char\n",
        "        elif temp_element:\n",
        "       \n",
        "            elements_counter[temp_element] += 1\n",
        "            temp_element = '' \n",
        "\n",
        "\n",
        "    if temp_element:\n",
        "        elements_counter[temp_element] += 1\n",
        "\n",
        "\n",
        "    if not all(element in allowed_elements for element in elements_counter):\n",
        "        print('# 1. Все элементы в молекуле должны быть из разрешенного списка')\n",
        "        return False\n",
        "\n",
        "\n",
        "    if sum(element in allowed_elements for element in elements_counter) < 3:\n",
        "        print('# 2. Молекула должна включать не менее трех разных элементов из списка')\n",
        "        return False\n",
        "\n",
        "\n",
        "    if sum(count for element, count in elements_counter.items() if element in count_elements) > 12:\n",
        "        print('# 3. Суммарно не более 12 атомов элементов O, N, P, S')\n",
        "        return False\n",
        "    \n",
        "    if smiles in data[\"smiles\"].tolist():\n",
        "      return True\n",
        "\n",
        "    weight = ExactMolWt(Chem.MolFromSmiles(smiles))\n",
        "    if weight > 500: \n",
        "        print('Вес: ', weight)\n",
        "        return False\n",
        "\n",
        "    if sascorer.calculateScore(Chem.MolFromSmiles(smiles))>5: \n",
        "        print('Sas > 5', sascorer.calculateScore(Chem.MolFromSmiles(smiles)))\n",
        "        return False\n",
        "        \n",
        "\n",
        "    return True\n",
        "\n",
        "\n"
      ]
    },
    {
      "cell_type": "code",
      "execution_count": 4,
      "metadata": {
        "id": "9d0kvitu7MGl"
      },
      "outputs": [
        {
          "data": {
            "text/plain": [
              "(114, 1)"
            ]
          },
          "execution_count": 4,
          "metadata": {},
          "output_type": "execute_result"
        }
      ],
      "source": [
        "sub = pd.DataFrame({\"smiles\": chelates})\n",
        "\n",
        "sub = sub.rename(columns={0:\"smiles\"})\n",
        "\n",
        "sub.shape"
      ]
    },
    {
      "cell_type": "code",
      "execution_count": 5,
      "metadata": {
        "id": "kC0wBfnkTCt3"
      },
      "outputs": [
        {
          "name": "stdout",
          "output_type": "stream",
          "text": [
            "# 1. Все элементы в молекуле должны быть из разрешенного списка\n",
            "# 2. Молекула должна включать не менее трех разных элементов из списка\n",
            "# 2. Молекула должна включать не менее трех разных элементов из списка\n",
            "# 1. Все элементы в молекуле должны быть из разрешенного списка\n",
            "# 1. Все элементы в молекуле должны быть из разрешенного списка\n",
            "# 2. Молекула должна включать не менее трех разных элементов из списка\n",
            "# 1. Все элементы в молекуле должны быть из разрешенного списка\n"
          ]
        },
        {
          "data": {
            "text/plain": [
              "(79, 1)"
            ]
          },
          "execution_count": 5,
          "metadata": {},
          "output_type": "execute_result"
        }
      ],
      "source": [
        "checked = [check_molecule(smiles) for smiles in sub[\"smiles\"]]\n",
        "\n",
        "sub = sub.iloc[checked]\n",
        "\n",
        "can_smiles = [Chem.MolToSmiles(Chem.MolFromSmiles(m), isomericSmiles=True, canonical=True) for m in sub.smiles.tolist()]\n",
        "\n",
        "can_smiles = list(set(can_smiles))\n",
        "sub_can = pd.DataFrame({\"smiles\": can_smiles})\n",
        "\n",
        "sub_can.shape"
      ]
    },
    {
      "cell_type": "code",
      "execution_count": 6,
      "metadata": {
        "id": "WT3pOKv-CEqv"
      },
      "outputs": [
        {
          "data": {
            "text/plain": [
              "(79, 2)"
            ]
          },
          "execution_count": 6,
          "metadata": {},
          "output_type": "execute_result"
        }
      ],
      "source": [
        "model = CatLgKPredictor('./mymodel')\n",
        "sub_can[\"lgk\"] = model.predict_lgK(pd.DataFrame({'smiles': sub_can[\"smiles\"].values}))\n",
        "\n",
        "sub_can.reset_index(drop=True, inplace=True)\n",
        "\n",
        "sub_can.shape"
      ]
    },
    {
      "cell_type": "code",
      "execution_count": 7,
      "metadata": {},
      "outputs": [],
      "source": [
        "from rdkit import DataStructs\n",
        "\n",
        "def return_unsimilar(sub: pd.DataFrame):\n",
        "    sub = sub.copy()\n",
        "    \n",
        "    ms = [Chem.MolFromSmiles(sm) for sm in sub['smiles']]\n",
        "    fpgen = AllChem.GetRDKitFPGenerator()\n",
        "    fps = [fpgen.GetFingerprint(x) for x in ms]\n",
        "    sim = 0\n",
        "    for i in range(len(fps)):\n",
        "        for j in range(i+1, len(fps)):\n",
        "            try:\n",
        "                if DataStructs.TanimotoSimilarity(fps[i], fps[j]) > 0.5:\n",
        "                    if sub[\"lgk\"][i]>=sub[\"lgk\"][j] and sub[\"lgk\"][j]<sub['lgk'].mean():\n",
        "                        sub.drop(labels=[j], inplace=True)\n",
        "                    elif sub[\"lgk\"][i]<sub[\"lgk\"][j] and sub[\"lgk\"][i]<sub['lgk'].mean():\n",
        "                        sub.drop(labels=[i], inplace=True)\n",
        "            except KeyError:\n",
        "                pass\n",
        "    return sub"
      ]
    },
    {
      "cell_type": "code",
      "execution_count": 8,
      "metadata": {},
      "outputs": [
        {
          "data": {
            "text/html": [
              "<div>\n",
              "<style scoped>\n",
              "    .dataframe tbody tr th:only-of-type {\n",
              "        vertical-align: middle;\n",
              "    }\n",
              "\n",
              "    .dataframe tbody tr th {\n",
              "        vertical-align: top;\n",
              "    }\n",
              "\n",
              "    .dataframe thead th {\n",
              "        text-align: right;\n",
              "    }\n",
              "</style>\n",
              "<table border=\"1\" class=\"dataframe\">\n",
              "  <thead>\n",
              "    <tr style=\"text-align: right;\">\n",
              "      <th></th>\n",
              "      <th>smiles</th>\n",
              "      <th>lgk</th>\n",
              "    </tr>\n",
              "  </thead>\n",
              "  <tbody>\n",
              "    <tr>\n",
              "      <th>0</th>\n",
              "      <td>CC(=O)Nc1c2sscc-2n(C)c1=O</td>\n",
              "      <td>6.314102</td>\n",
              "    </tr>\n",
              "    <tr>\n",
              "      <th>1</th>\n",
              "      <td>O=C(O)CN1CCN(CC=NO)CCN(CC(=O)O)CCN(CC(=O)O)CC1</td>\n",
              "      <td>21.478995</td>\n",
              "    </tr>\n",
              "    <tr>\n",
              "      <th>2</th>\n",
              "      <td>O=C(O)CN1CCN(CC[N]O)CCN(CC(=O)O)CCN(CC(=O)O)CC1</td>\n",
              "      <td>21.702111</td>\n",
              "    </tr>\n",
              "    <tr>\n",
              "      <th>3</th>\n",
              "      <td>O=C(O)CN1CCN(CCCO)CCN(OC(=O)O)CCN(CC(=O)O)CC1</td>\n",
              "      <td>20.628941</td>\n",
              "    </tr>\n",
              "    <tr>\n",
              "      <th>4</th>\n",
              "      <td>O=C(O)CN1CCN(CC(=O)O)CCN(CC(=O)O)CCN(CC(=O)O)CC1</td>\n",
              "      <td>23.664383</td>\n",
              "    </tr>\n",
              "  </tbody>\n",
              "</table>\n",
              "</div>"
            ],
            "text/plain": [
              "                                             smiles        lgk\n",
              "0                         CC(=O)Nc1c2sscc-2n(C)c1=O   6.314102\n",
              "1    O=C(O)CN1CCN(CC=NO)CCN(CC(=O)O)CCN(CC(=O)O)CC1  21.478995\n",
              "2   O=C(O)CN1CCN(CC[N]O)CCN(CC(=O)O)CCN(CC(=O)O)CC1  21.702111\n",
              "3     O=C(O)CN1CCN(CCCO)CCN(OC(=O)O)CCN(CC(=O)O)CC1  20.628941\n",
              "4  O=C(O)CN1CCN(CC(=O)O)CCN(CC(=O)O)CCN(CC(=O)O)CC1  23.664383"
            ]
          },
          "execution_count": 8,
          "metadata": {},
          "output_type": "execute_result"
        }
      ],
      "source": [
        "sub_can_sim = return_unsimilar(sub_can)\n",
        "sub_can_sim.head()"
      ]
    },
    {
      "cell_type": "code",
      "execution_count": 9,
      "metadata": {
        "colab": {
          "base_uri": "https://localhost:8080/"
        },
        "id": "QP1w-egVLbo6",
        "outputId": "806df12a-4887-49ed-c258-64d792d3cdb8"
      },
      "outputs": [
        {
          "data": {
            "text/plain": [
              "19.445796805377306"
            ]
          },
          "execution_count": 9,
          "metadata": {},
          "output_type": "execute_result"
        }
      ],
      "source": [
        "sub_can_sim.sort_values(by=\"lgk\", ascending=False)[\"lgk\"][:100].mean()"
      ]
    },
    {
      "cell_type": "code",
      "execution_count": 10,
      "metadata": {
        "colab": {
          "base_uri": "https://localhost:8080/",
          "height": 245
        },
        "id": "rJ5NKcSNIWZO",
        "outputId": "ccc662f1-15c2-4ba6-cfa6-cb611e2f0c1c"
      },
      "outputs": [
        {
          "data": {
            "text/html": [
              "<div>\n",
              "<style scoped>\n",
              "    .dataframe tbody tr th:only-of-type {\n",
              "        vertical-align: middle;\n",
              "    }\n",
              "\n",
              "    .dataframe tbody tr th {\n",
              "        vertical-align: top;\n",
              "    }\n",
              "\n",
              "    .dataframe thead th {\n",
              "        text-align: right;\n",
              "    }\n",
              "</style>\n",
              "<table border=\"1\" class=\"dataframe\">\n",
              "  <thead>\n",
              "    <tr style=\"text-align: right;\">\n",
              "      <th></th>\n",
              "      <th>id</th>\n",
              "      <th>smiles</th>\n",
              "      <th>lgK</th>\n",
              "    </tr>\n",
              "  </thead>\n",
              "  <tbody>\n",
              "    <tr>\n",
              "      <th>191</th>\n",
              "      <td>193</td>\n",
              "      <td>O=P(O)(O)CN(Cc1cccc(CN(CP(=O)(O)O)CP(=O)(O)O)n...</td>\n",
              "      <td>29.30</td>\n",
              "    </tr>\n",
              "    <tr>\n",
              "      <th>149</th>\n",
              "      <td>151</td>\n",
              "      <td>O=C(O)N1CCN(CP(=O)(O)O)CCN(C(=O)O)CCN(C(=O)O)CC1</td>\n",
              "      <td>28.60</td>\n",
              "    </tr>\n",
              "    <tr>\n",
              "      <th>150</th>\n",
              "      <td>152</td>\n",
              "      <td>O=C(O)CCP(=O)(O)CN1CCN(C(=O)O)CCN(C(=O)O)CCN(C...</td>\n",
              "      <td>25.50</td>\n",
              "    </tr>\n",
              "    <tr>\n",
              "      <th>136</th>\n",
              "      <td>137</td>\n",
              "      <td>O=P(O)(O)CN1CCN(CP(=O)(O)O)CCN(CP(=O)(O)O)CCN(...</td>\n",
              "      <td>24.78</td>\n",
              "    </tr>\n",
              "    <tr>\n",
              "      <th>71</th>\n",
              "      <td>72</td>\n",
              "      <td>O=C(O)CN1CCN(CC(=O)O)CCN(CC(=O)O)CCN(CC(=O)O)C...</td>\n",
              "      <td>24.26</td>\n",
              "    </tr>\n",
              "  </tbody>\n",
              "</table>\n",
              "</div>"
            ],
            "text/plain": [
              "      id                                             smiles    lgK\n",
              "191  193  O=P(O)(O)CN(Cc1cccc(CN(CP(=O)(O)O)CP(=O)(O)O)n...  29.30\n",
              "149  151   O=C(O)N1CCN(CP(=O)(O)O)CCN(C(=O)O)CCN(C(=O)O)CC1  28.60\n",
              "150  152  O=C(O)CCP(=O)(O)CN1CCN(C(=O)O)CCN(C(=O)O)CCN(C...  25.50\n",
              "136  137  O=P(O)(O)CN1CCN(CP(=O)(O)O)CCN(CP(=O)(O)O)CCN(...  24.78\n",
              "71    72  O=C(O)CN1CCN(CC(=O)O)CCN(CC(=O)O)CCN(CC(=O)O)C...  24.26"
            ]
          },
          "execution_count": 10,
          "metadata": {},
          "output_type": "execute_result"
        }
      ],
      "source": [
        "data.sort_values(by=\"lgK\", ascending=False).head()"
      ]
    },
    {
      "cell_type": "code",
      "execution_count": 11,
      "metadata": {
        "id": "bSit9SrfvSva"
      },
      "outputs": [],
      "source": [
        "from pred import CatLgKPredictor\n",
        "model = CatLgKPredictor(\"./mymodel\")"
      ]
    },
    {
      "cell_type": "code",
      "execution_count": 12,
      "metadata": {
        "id": "FXVoQWsB5iFq"
      },
      "outputs": [],
      "source": [
        "da = pd.read_csv(\"./logK.csv\")"
      ]
    },
    {
      "cell_type": "code",
      "execution_count": 13,
      "metadata": {
        "id": "5XmUf1Ci-QDO"
      },
      "outputs": [],
      "source": [
        "da = data.sort_values(by=\"lgK\", ascending=False).loc[data[\"lgK\"]>21.5]\n",
        "ind = []\n",
        "for i in da[\"smiles\"].tolist():\n",
        "    try:\n",
        "        predicted_log_k = model.predict_lgK(pd.DataFrame({\"smiles\": [sf.decoder(sf.encoder(i))]}))\n",
        "        ind.append(sf.encoder(i))\n",
        "    except Exception:\n",
        "        pass\n",
        "\n",
        "initial_population = ind\n",
        "\n",
        "#ind += chelates\n",
        "\n",
        "best_sub = pd.read_csv(\"./BBBEST_SUB.csv\", header=None)\n",
        "best_sub['lgk'] = model.predict_lgK(best_sub.rename(columns={0:\"smiles\"}))\n",
        "best_sub = best_sub.sort_values(by=\"lgk\", ascending=False).loc[best_sub[\"lgk\"]>21.5]\n",
        "ind_bs = []\n",
        "\n",
        "for i in best_sub[0].tolist():\n",
        "    try:\n",
        "        predicted_log_k = model.predict_lgK(pd.DataFrame({\"smiles\": [sf.decoder(sf.encoder(i))]}))\n",
        "        ind_bs.append(sf.encoder(i))\n",
        "    except Exception:\n",
        "        pass\n",
        "    \n",
        "ind+=ind_bs\n",
        "\n",
        "ind += ['O=C(O)CN(CC1)CCN(CC(=O)O)CCN(CC(=O)O)CCN1CC(=O)O']"
      ]
    },
    {
      "cell_type": "code",
      "execution_count": 14,
      "metadata": {},
      "outputs": [
        {
          "data": {
            "text/plain": [
              "26"
            ]
          },
          "execution_count": 14,
          "metadata": {},
          "output_type": "execute_result"
        }
      ],
      "source": [
        "len(ind)"
      ]
    },
    {
      "cell_type": "code",
      "execution_count": 15,
      "metadata": {},
      "outputs": [],
      "source": [
        "chelates = ['CC(=O)NC1=C2SSC=C2NC1=O', 'N[C@@H](CCN[C@@H](CCN1CC[C@H]1C(O)=O)C(O)=O)C(O)=O', 'OC(CS)C(O)CS','[C@@]1(OC=2C=C(O)C=C(O)C2C[C@H]1O)([H])C3=CC(=O)C(=C4C(=C3)C([C@]5(OC=6C=C(O)C=C(O)C6C[C@H]5O)[H])=CC(O)=C4O)O' 'OC(=O)CC(O)(CC(O)=O)C(O)=O', 'OC[C@@H](O)[C@@H](O)[C@H](O)[C@@H](O)C(O)=O', 'OC(=O)[C@@H](S)[C@@H](S)C(O)=O', 'Oc1c(I)cc(Cl)c2cccnc12', 'O=C(O)CN(CC1)CCN(CC(=O)O)CCN(CC(=O)O)CCN1CC(=O)O', 'OCC(S)CS', 'C1CSCCSCCS1', 'CC(C)(S)[C@@H](N)C(O)=O', 'C1=CN=C(C=C1)C1=CC=CC=N1', 'CCCCC(O)(Cn1cncn1)c1ccc(Cl)cc1Cl', '[H+].[Cl-].C[C@@H](CN1CC(=O)NC(=O)C1)N1CC(=O)NC(=O)C1', 'C(=S)(S)N(CC)CC', 'Cc1cc(-c2ccc(cc2)S(O)(=O)=O)c2ccc3c(cc(C)nc3c2n1)-c1ccc(cc1)S(O)(=O)=O', 'OC(=O)CN(CCOCCOCCN(CC(O)=O)CC(O)=O)CC(O)=O', 'OC(=O)CN(CCN(CC(O)=O)CC(O)=O)CC(O)=O', 'CC(O)(P(O)(O)=O)P(O)(O)=O', 'OC(=O)CNCC(O)=O', 'OP(O)(=O)CP(O)(O)=O', 'N1=C(C=CC2=CC=C3C=CC(=NC3=C12)C)C', 'OC(=O)CN1CCCN(CCN(CCCN(CC1)CC(O)=O)CC(O)=O)CC(O)=O', 'CN1C(=O)C(NC(C)=O)=C2SSC=C12', 'CCCCCCCc1cc(O)c2ccccc2n1']"
      ]
    },
    {
      "cell_type": "code",
      "execution_count": null,
      "metadata": {},
      "outputs": [],
      "source": []
    },
    {
      "cell_type": "code",
      "execution_count": 16,
      "metadata": {},
      "outputs": [
        {
          "data": {
            "text/plain": [
              "'[O][=P][Branch1][C][O][Branch1][C][O][C][N][Branch2][Ring2][Ring2][C][C][=C][C][=C][C][Branch2][Ring1][#Branch1][C][N][Branch1][#Branch2][C][P][=Branch1][C][=O][Branch1][C][O][O][C][P][=Branch1][C][=O][Branch1][C][O][O][=N][Ring2][Ring1][C][C][P][=Branch1][C][=O][Branch1][C][O][O]'"
            ]
          },
          "execution_count": 16,
          "metadata": {},
          "output_type": "execute_result"
        }
      ],
      "source": [
        "initial_population[0]"
      ]
    },
    {
      "cell_type": "code",
      "execution_count": 17,
      "metadata": {
        "id": "c003svIpAmzb"
      },
      "outputs": [
        {
          "data": {
            "text/plain": [
              "[]"
            ]
          },
          "execution_count": 17,
          "metadata": {},
          "output_type": "execute_result"
        }
      ],
      "source": [
        "from concurrent.futures import ThreadPoolExecutor\n",
        "from rdkit.Chem.Descriptors import MolWt\n",
        "\n",
        "valid_fragments = ['[O]', '[N]', '[C]', '[=O]', '[=N]', '[S]']\n",
        "\n",
        "def count_onps_atoms(mol):\n",
        "\n",
        "    atom_counts = {symbol: 0 for symbol in ['O', 'N', 'P', 'S']}\n",
        "    for atom in mol.GetAtoms():\n",
        "        symbol = atom.GetSymbol()\n",
        "        if symbol in atom_counts:\n",
        "            atom_counts[symbol] += 1\n",
        "    return sum(atom_counts.values())\n",
        "\n",
        "def evaluate_fitness(selfie, model):\n",
        "    try:\n",
        "        smi = sf.decoder(selfie)\n",
        "        mol = Chem.MolFromSmiles(smi)\n",
        "        if mol is None:\n",
        "            return -1 \n",
        "        \n",
        "     \n",
        "        onps_count = count_onps_atoms(mol)\n",
        "        if onps_count > 12:\n",
        "            return -1 \n",
        "        \n",
        "        predicted_log_k = model.predict_lgK(pd.DataFrame({\"smiles\": [smi]}))\n",
        "        if predicted_log_k[0] <= 22:\n",
        "            return -1 \n",
        "        \n",
        "    \n",
        "        fitness_score = predicted_log_k\n",
        "    except Exception:\n",
        "        return -1\n",
        "    return fitness_score\n",
        "\n",
        "\n",
        "def parallel_evaluate_fitness(population, model):\n",
        "    with ThreadPoolExecutor() as executor:\n",
        "        scores = list(executor.map(evaluate_fitness, population, [model] * len(population)))\n",
        "    return scores\n",
        "\n",
        "def tournament_selection(population, scores, k=3):\n",
        "\n",
        "    k = min(k, len(population))\n",
        "    \n",
        "    if len(population) == 0:\n",
        "        raise ValueError(\"Population is empty.\")\n",
        "    \n",
        "    selection_idxs = random.sample(range(len(population)), k)\n",
        "    selected_scores = [scores[idx] for idx in selection_idxs]\n",
        "    winner_idx = selection_idxs[selected_scores.index(max(selected_scores))]\n",
        "    return population[winner_idx]\n",
        "\n",
        "import selfies as sf\n",
        "import random\n",
        "\n",
        "def split_selfie_into_fragments(selfie):\n",
        " \n",
        "    return sf.split_selfies(selfie)\n",
        "\n",
        "def combine_fragments_into_selfie(fragments):\n",
        "\n",
        "    return ''.join(fragments)\n",
        "\n",
        "def crossover_enhanced(parent1, parent2):\n",
        "\n",
        "    fragments1 = list(sf.split_selfies(parent1))\n",
        "    fragments2 = list(sf.split_selfies(parent2))\n",
        "    common_fragments = set(fragments1) & set(fragments2)\n",
        "\n",
        "    if not common_fragments:\n",
        "        return parent1, parent2 \n",
        "\n",
        "    to_swap = random.sample(list(common_fragments), min(len(common_fragments), 2))  \n",
        "    offspring1, offspring2 = fragments1[:], fragments2[:]\n",
        "\n",
        "    for fragment in to_swap:\n",
        "        idx1, idx2 = offspring1.index(fragment), offspring2.index(fragment)\n",
        "        offspring1[idx1], offspring2[idx2] = offspring2[idx2], offspring1[idx1] \n",
        "    \n",
        "    new_offspring1 = ''.join(offspring1)\n",
        "    new_offspring2 = ''.join(offspring2)\n",
        "    \n",
        "    return new_offspring1, new_offspring2\n",
        "\n",
        "def find_common_fragments(parent1, parent2):\n",
        "\n",
        "    fragments1 = set(split_selfie_into_fragments(parent1))\n",
        "    fragments2 = set(split_selfie_into_fragments(parent2))\n",
        "    common = fragments1.intersection(fragments2)\n",
        "    return list(common) if common else None\n",
        "\n",
        "def crossover(parent1, parent2):\n",
        "    common_fragments = find_common_fragments(parent1, parent2)\n",
        "    if not common_fragments:\n",
        "        return parent1, parent2\n",
        "    fragment_to_swap = random.choice(common_fragments)\n",
        "    index1 = parent1.find(fragment_to_swap)\n",
        "    index2 = parent2.find(fragment_to_swap)\n",
        "    if index1 == -1 or index2 == -1:\n",
        "        return parent1, parent2\n",
        "    new_offspring1 = parent1[:index1] + parent2[index2:]\n",
        "    new_offspring2 = parent2[:index2] + parent1[index1:]\n",
        "    return new_offspring1, new_offspring2\n",
        "\n",
        "def find_common_fragments(parent1, parent2):\n",
        "\n",
        "    fragments1 = set(sf.split_selfies(parent1))\n",
        "    fragments2 = set(sf.split_selfies(parent2))\n",
        "    return list(fragments1.intersection(fragments2))\n",
        "\n",
        "\n",
        "def mutate(selfie, mutation_rate=0.1):\n",
        "    if random.random() > mutation_rate:\n",
        "        return selfie  # No mutation occurs\n",
        "\n",
        "    fragments = list(sf.split_selfies(selfie))  \n",
        "    if not fragments:\n",
        "        return selfie  \n",
        "\n",
        "\n",
        "    mutation_index = random.randint(0, len(fragments) - 1)\n",
        "\n",
        "   \n",
        "    new_fragment = random.choice(valid_fragments)\n",
        "    \n",
        "\n",
        "    fragments[mutation_index] = new_fragment\n",
        "    mutated_selfie = ''.join(fragments)  \n",
        "\n",
        "    smi = sf.decoder(mutated_selfie)  \n",
        "    mol = Chem.MolFromSmiles(smi)\n",
        "\n",
        "    return mutated_selfie\n",
        "\n",
        "def run_ga(population, generations=40):\n",
        "    for generation in range(generations):\n",
        "        scores = parallel_evaluate_fitness(population, model)\n",
        "\n",
        "        valid_indices = [i for i, score in enumerate(scores) if score > -1]\n",
        "        valid_population = [population[i] for i in valid_indices]\n",
        "        valid_scores = [scores[i] for i in valid_indices]\n",
        "        \n",
        "        new_population = []\n",
        "        while len(new_population) < len(valid_population):\n",
        "            parent1 = tournament_selection(valid_population, valid_scores)\n",
        "            parent2 = tournament_selection(valid_population, valid_scores)\n",
        "            offspring1, offspring2 = crossover_enhanced(parent1, parent2)\n",
        "            offspring1 = mutate(offspring1)\n",
        "            offspring2 = mutate(offspring2)\n",
        "            new_population.extend([offspring1, offspring2])\n",
        "        population = new_population[:len(valid_population)]  \n",
        "    return population\n",
        "\n",
        "run_ga(initial_population, 40)"
      ]
    },
    {
      "cell_type": "code",
      "execution_count": 18,
      "metadata": {
        "colab": {
          "base_uri": "https://localhost:8080/"
        },
        "id": "f2p8OCplUGTQ",
        "outputId": "4ecc7997-0539-4a33-ef96-a316bdc74976"
      },
      "outputs": [
        {
          "data": {
            "text/plain": [
              "26"
            ]
          },
          "execution_count": 18,
          "metadata": {},
          "output_type": "execute_result"
        }
      ],
      "source": [
        "len(ind)"
      ]
    },
    {
      "cell_type": "code",
      "execution_count": null,
      "metadata": {},
      "outputs": [],
      "source": []
    },
    {
      "cell_type": "code",
      "execution_count": 19,
      "metadata": {
        "id": "-IBm436XTBxZ"
      },
      "outputs": [
        {
          "data": {
            "text/plain": [
              "26"
            ]
          },
          "execution_count": 19,
          "metadata": {},
          "output_type": "execute_result"
        }
      ],
      "source": [
        "initial_population = ind\n",
        "\n",
        "len(initial_population)"
      ]
    },
    {
      "cell_type": "code",
      "execution_count": 21,
      "metadata": {
        "colab": {
          "base_uri": "https://localhost:8080/"
        },
        "id": "bFRY3PhZR3-J",
        "outputId": "b4401a11-e949-4c64-bed8-130f9c47c6fb"
      },
      "outputs": [
        {
          "name": "stdout",
          "output_type": "stream",
          "text": [
            "1\n",
            "['O=C(O)CN1CCN(CC(=O)O)CCN(CC(=O)O)CCN(CC(=O)O)CC1']\n",
            "2\n",
            "['O=O', 'O=C(O)CN1CCN(CC(=O)O)CCN(CC(=O)O)CCN(CC(=O)O)CC1']\n",
            "3\n",
            "['CCN(CCON(CC=O)CCNCC(=O)O)CC(=O)O', 'O=O', 'O=C(O)CN1CCN(CC(=O)O)CCN(CC(=O)O)CCN(CC(=O)O)CC1']\n",
            "Object info sizes: 1 1234\n",
            "4\n",
            "['CCN(CCON(CC=O)CCNCC(=O)O)CC(=O)O', 'O=O', 'O=C(O)CN1CCN(CC(=O)O)CCN(CC(=O)O)CCN(CC(=O)O)CC1', 'N=C(O)CN1CCN(CC(=O)O)CCN(CC(=O)O)CCN(CC(=O)O)CC1']\n",
            "5\n",
            "['O=C(O)CN1CCN(CC(=O)O)CCN(CC(=O)O)CCN(CC(=O)O)CC1', 'CC(O)CN1CCN(CC(=O)O)CCN(CC(=O)O)CCN(CC(=O)O)CC1', 'CCN(CCON(CC=O)CCNCC(=O)O)CC(=O)O', 'O=O', 'N=C(O)CN1CCN(CC(=O)O)CCN(CC(=O)O)CCN(CC(=O)O)CC1']\n",
            "6\n",
            "['O=C(O)CN1CCN(CC(=O)O)CCN(CC(=O)O)CCN(CC(=O)O)CC1', 'CC(O)CN1CCN(CC(=O)O)CCN(CC(=O)O)CCN(CC(=O)O)CC1', 'CCN(CCON(CC=O)CCNCC(=O)O)CC(=O)O', 'O=O', 'N=C(O)CN1CCN(CC(=O)O)CCN(CC(=O)O)CCN(CC(=O)O)CC1', 'CCN(CCN(CCN(CCNCC(=O)O)CC(=O)O)CC(=O)O)CC(=O)O']\n",
            "7\n",
            "['O=C(O)CN1CCN(CC(=O)O)CCN(CC(=O)O)CCN(CC(=O)O)CC1', 'CC(O)CN1CCN(CC(=O)O)CCN(CC(=O)O)CCN(CC(=O)O)CC1', 'CCN(CCON(CC=O)CCNCC(=O)O)CC(=O)O', 'O=O', 'N=C(O)CN1CCN(CC(=O)O)CCN(CC(=O)O)CCN(CC(=O)O)CC1', 'CC(=O)CN1CCN(CC(=O)O)CCN(CC(=O)O)CCN(CC(=O)O)CC1', 'CCN(CCN(CCN(CCNCC(=O)O)CC(=O)O)CC(=O)O)CC(=O)O']\n",
            "8\n",
            "['O=C(O)CN1CCN(CC(=O)O)CCN(CC(=O)O)CCN(CC(=O)O)CC1', 'CC(O)CN1CCN(CC(=O)O)CCN(CC(=O)O)CCN(CC(=O)O)CC1', 'CCN(CCON(CC=O)CCNCC(=O)O)CC(=O)O', 'O=O', 'N=C(O)CN1CCN(CC(=O)O)CCN(CC(=O)O)CCN(CC(=O)O)CC1', 'CC(=O)CN1CCN(CC(=O)O)CCN(CC(=O)O)CCN(CC(=O)O)CC1', 'O=C(O)CN1CCN(CCO)CCN(CC(=O)O)CCN(CC(=O)O)CC1', 'CCN(CCN(CCN(CCNCC(=O)O)CC(=O)O)CC(=O)O)CC(=O)O']\n",
            "Object info sizes: 1 1234\n",
            "9\n",
            "['O=C(O)CN1CCN(CC(=O)O)CCN(CC(=O)O)CCN(CC(=O)O)CC1', 'CC(O)CN1CCN(CC(=O)O)CCN(CC(=O)O)CCN(CC(=O)O)CC1', 'CCN(CCON(CC=O)CCNCC(=O)O)CC(=O)O', 'O=O', 'N=C(O)CN1CCN(CC(=O)O)CCN(CC(=O)O)CCN(CC(=O)O)CC1', 'CC(=O)CN1CCN(CC(=O)O)CCN(CC(=O)O)CCN(CC(=O)O)CC1', 'O=C(O)CN1CCN(CCO)CCN(CC(=O)O)CCN(CC(=O)O)CC1', 'NC(=O)CN1CCN(CC(=O)O)CCN(CC(=O)O)CCN(CC(=O)O)CC1', 'CCN(CCN(CCN(CCNCC(=O)O)CC(=O)O)CC(=O)O)CC(=O)O']\n",
            "Object info sizes: 1 1234\n",
            "Object info sizes: 1 1234\n",
            "10\n",
            "['O=C(O)CN1CCN(CC(=O)O)CCN(CC(=O)O)CCN(CC(=O)O)CC1', 'CC(O)CN1CCN(CC(=O)O)CCN(CC(=O)O)CCN(CC(=O)O)CC1', 'CCN(CCON(CC=O)CCNCC(=O)O)CC(=O)O', 'O=O', 'N=C(O)CN1CCN(CC(=O)O)CCN(CC(=O)O)CCN(CC(=O)O)CC1', 'CC(=O)CN1CCN(CC(=O)O)CCN(CC(=O)O)CCN(CC(=O)O)CC1', 'O=C(O)CN1CCN(CCO)CCN(CC(=O)O)CCN(CC(=O)O)CC1', 'NC(=O)CN1CCN(CC(=O)O)CCN(CC(=O)O)CCN(CC(=O)O)CC1', 'O=C(O)CC1CCN(CC(=O)O)CCN(CC(=O)O)CCN(CC(=O)O)CC1', 'CCN(CCN(CCN(CCNCC(=O)O)CC(=O)O)CC(=O)O)CC(=O)O']\n",
            "Object info sizes: 1 1234\n",
            "11\n",
            "['O=C(O)CN1CCN(CC(=O)O)CCN(CC(=O)O)CCN(CC(=O)O)CC1', 'CN(C=O)NCCN(CCN(CCNCC(=O)O)CC(=O)O)CC(=O)O', 'CC(O)CN1CCN(CC(=O)O)CCN(CC(=O)O)CCN(CC(=O)O)CC1', 'CCN(CCON(CC=O)CCNCC(=O)O)CC(=O)O', 'O=O', 'N=C(O)CN1CCN(CC(=O)O)CCN(CC(=O)O)CCN(CC(=O)O)CC1', 'CC(=O)CN1CCN(CC(=O)O)CCN(CC(=O)O)CCN(CC(=O)O)CC1', 'O=C(O)CN1CCN(CCO)CCN(CC(=O)O)CCN(CC(=O)O)CC1', 'NC(=O)CN1CCN(CC(=O)O)CCN(CC(=O)O)CCN(CC(=O)O)CC1', 'O=C(O)CC1CCN(CC(=O)O)CCN(CC(=O)O)CCN(CC(=O)O)CC1', 'CCN(CCN(CCN(CCNCC(=O)O)CC(=O)O)CC(=O)O)CC(=O)O']\n",
            "Object info sizes: 1 1234\n",
            "Object info sizes: 1 1234\n",
            "12\n",
            "['O=C(O)CN1CCN(CC(=O)O)CCN(CC(=O)O)CCN(CC(=O)O)CC1', 'CN(C=O)NCCN(CCN(CCNCC(=O)O)CC(=O)O)CC(=O)O', 'CC(O)CN1CCN(CC(=O)O)CCN(CC(=O)O)CCN(CC(=O)O)CC1', 'CCN(CCON(CC=O)CCNCC(=O)O)CC(=O)O', 'O=O', 'N=C(O)CN1CCN(CC(=O)O)CCN(CC(=O)O)CCN(CC(=O)O)CC1', 'CC(=O)CN1CCN(CC(=O)O)CCN(CC(=O)O)CCN(CC(=O)O)CC1', 'O=C(O)CN1CCN(CCO)CCN(CC(=O)O)CCN(CC(=O)O)CC1', 'NC(=O)CN1CCN(CC(=O)O)CCN(CC(=O)O)CCN(CC(=O)O)CC1', 'O=C(O)CC1CCN(CC(=O)O)CCN(CC(=O)O)CCN(CC(=O)O)CC1', 'O=CN(CCN(CCNCC(=O)O)CC(=O)O)CC(=O)O', 'CCN(CCN(CCN(CCNCC(=O)O)CC(=O)O)CC(=O)O)CC(=O)O']\n",
            "13\n",
            "['O=C(O)CN1CCN(CC(=O)O)CCN(CC(=O)O)CCN(CC(=O)O)CC1', 'CN(C=O)NCCN(CCN(CCNCC(=O)O)CC(=O)O)CC(=O)O', 'CC(O)CN1CCN(CC(=O)O)CCN(CC(=O)O)CCN(CC(=O)O)CC1', 'CCN(CCON(CC=O)CCNCC(=O)O)CC(=O)O', 'O=O', 'N=C(O)CN1CCN(CC(=O)O)CCN(CC(=O)O)CCN(CC(=O)O)CC1', 'CC(=O)CN1CCN(CC(=O)O)CCN(CC(=O)O)CCN(CC(=O)O)CC1', 'O=C(O)CN1CCN(CC(=O)O)CCN(CN(O)O)CCN(CC(=O)O)CC1', 'O=C(O)CN1CCN(CCO)CCN(CC(=O)O)CCN(CC(=O)O)CC1', 'NC(=O)CN1CCN(CC(=O)O)CCN(CC(=O)O)CCN(CC(=O)O)CC1', 'O=C(O)CC1CCN(CC(=O)O)CCN(CC(=O)O)CCN(CC(=O)O)CC1', 'O=CN(CCN(CCNCC(=O)O)CC(=O)O)CC(=O)O', 'CCN(CCN(CCN(CCNCC(=O)O)CC(=O)O)CC(=O)O)CC(=O)O']\n",
            "14\n",
            "['O=C(O)CN1CCN(CC(=O)O)CCN(CC(=O)O)OCN(CC(=O)O)CC1', 'CCN(CCN(CCN(CCNCC(=O)O)CC(=O)O)CC(=O)O)CC(=O)O', 'O=C(O)CN1CCN(CC(=O)O)CCN(CC(=O)O)CCN(CC(=O)O)CC1', 'CC(O)CN1CCN(CC(=O)O)CCN(CC(=O)O)CCN(CC(=O)O)CC1', 'CCN(CCON(CC=O)CCNCC(=O)O)CC(=O)O', 'O=O', 'N=C(O)CN1CCN(CC(=O)O)CCN(CC(=O)O)CCN(CC(=O)O)CC1', 'CC(=O)CN1CCN(CC(=O)O)CCN(CC(=O)O)CCN(CC(=O)O)CC1', 'O=C(O)CN1CCN(CC(=O)O)CCN(CN(O)O)CCN(CC(=O)O)CC1', 'O=C(O)CN1CCN(CCO)CCN(CC(=O)O)CCN(CC(=O)O)CC1', 'NC(=O)CN1CCN(CC(=O)O)CCN(CC(=O)O)CCN(CC(=O)O)CC1', 'O=C(O)CC1CCN(CC(=O)O)CCN(CC(=O)O)CCN(CC(=O)O)CC1', 'O=CN(CCN(CCNCC(=O)O)CC(=O)O)CC(=O)O', 'CN(C=O)NCCN(CCN(CCNCC(=O)O)CC(=O)O)CC(=O)O']\n",
            "Object info sizes: 1 1234\n",
            "Object info sizes: 1 1234\n",
            "Object info sizes: 1 1234\n",
            "15\n",
            "['O=C(O)CN1CCN(CC(=O)O)CCN(CC(=O)O)OCN(CC(=O)O)CC1', 'O=C(O)CN1CCN(CC(=O)O)CCN(CC(=O)O)CCN(CC(=O)O)CC1', 'CN(C=O)NCCN(CCN(CCNCC(=O)O)CC(=O)O)CC(=O)O', 'CC(O)CN1CCN(CC(=O)O)CCN(CC(=O)O)CCN(CC(=O)O)CC1', 'CN1CCN(CC(=O)O)CCN(CC(=O)O)CCN(CC(=O)O)CCOC1=O', 'CCN(CCON(CC=O)CCNCC(=O)O)CC(=O)O', 'O=O', 'N=C(O)CN1CCN(CC(=O)O)CCN(CC(=O)O)CCN(CC(=O)O)CC1', 'CC(=O)CN1CCN(CC(=O)O)CCN(CC(=O)O)CCN(CC(=O)O)CC1', 'O=C(O)CN1CCN(CC(=O)O)CCN(CN(O)O)CCN(CC(=O)O)CC1', 'O=C(O)CN1CCN(CCO)CCN(CC(=O)O)CCN(CC(=O)O)CC1', 'NC(=O)CN1CCN(CC(=O)O)CCN(CC(=O)O)CCN(CC(=O)O)CC1', 'O=C(O)CC1CCN(CC(=O)O)CCN(CC(=O)O)CCN(CC(=O)O)CC1', 'O=CN(CCN(CCNCC(=O)O)CC(=O)O)CC(=O)O', 'CCN(CCN(CCN(CCNCC(=O)O)CC(=O)O)CC(=O)O)CC(=O)O']\n",
            "16\n",
            "['O=C(O)CN1CCN(CC(=O)O)CCN(CC(=O)O)OCN(CC(=O)O)CC1', 'CCN(CCN(CCN(CCNCC(=O)O)CC(=O)O)CC(=O)O)CC(=O)O', 'O=C(O)CN1CCN(CC(=O)O)CCN(CC(=O)O)CCN(CC(=O)O)CC1', 'CC(O)CN1CCN(CC(=O)O)CCN(CC(=O)O)CCN(CC(=O)O)CC1', 'CN1CCN(CC(=O)O)CCN(CC(=O)O)CCN(CC(=O)O)CCOC1=O', 'CCN(CCON(CC=O)CCNCC(=O)O)CC(=O)O', 'O=O', 'N=C(O)CN1CCN(CC(=O)O)CCN(CC(=O)O)CCN(CC(=O)O)CC1', 'CC(=O)CN1CCN(CC(=O)O)CCN(CC(=O)O)CCN(CC(=O)O)CC1', 'O=C(O)CN1CCN(CC(=O)O)CCN(CN(O)O)CCN(CC(=O)O)CC1', 'O=C(O)CN1CCN(CCO)CCN(CC(=O)O)CCN(CC(=O)O)CC1', 'NC(=O)CN1CCN(CC(=O)O)CCN(CC(=O)O)CCN(CC(=O)O)CC1', 'O=C(O)CC1CCN(CC(=O)O)CCN(CC(=O)O)CCN(CC(=O)O)CC1', 'O=CN(CCN(CCNCC(=O)O)CC(=O)O)CC(=O)O', 'CN(C=O)NCCN(CCN(CCNCC(=O)O)CC(=O)O)CC(=O)O', 'O=CN(CCN(CCN(CCNCC(=O)O)CC(=O)O)CC(=O)O)CC(=O)O']\n",
            "Object info sizes: 1 1234\n",
            "Object info sizes: 1 1234\n",
            "Object info sizes: 1 1234\n",
            "17\n",
            "['O=C(O)CN1CCN(CC(=O)O)CCN(CC(=O)O)OCN(CC(=O)O)CC1', 'CCN(CCN(CCN(CCNCC(=O)O)CC(=O)O)CC(=O)O)CC(=O)O', 'O=C(O)CN1CCN(CC(=O)O)CCN(CC(=O)O)CCN(CC(=O)O)CC1', 'O=C(O)CN1CCN(CC(=O)O)CCN(CC(O)S)CCN(CC(=O)O)CC1', 'CC(O)CN1CCN(CC(=O)O)CCN(CC(=O)O)CCN(CC(=O)O)CC1', 'CN1CCN(CC(=O)O)CCN(CC(=O)O)CCN(CC(=O)O)CCOC1=O', 'CCN(CCON(CC=O)CCNCC(=O)O)CC(=O)O', 'O=O', 'N=C(O)CN1CCN(CC(=O)O)CCN(CC(=O)O)CCN(CC(=O)O)CC1', 'CC(=O)CN1CCN(CC(=O)O)CCN(CC(=O)O)CCN(CC(=O)O)CC1', 'O=C(O)CN1CCN(CC(=O)O)CCN(CN(O)O)CCN(CC(=O)O)CC1', 'O=C(O)CN1CCN(CCO)CCN(CC(=O)O)CCN(CC(=O)O)CC1', 'NC(=O)CN1CCN(CC(=O)O)CCN(CC(=O)O)CCN(CC(=O)O)CC1', 'O=C(O)CC1CCN(CC(=O)O)CCN(CC(=O)O)CCN(CC(=O)O)CC1', 'O=CN(CCN(CCNCC(=O)O)CC(=O)O)CC(=O)O', 'CN(C=O)NCCN(CCN(CCNCC(=O)O)CC(=O)O)CC(=O)O', 'O=CN(CCN(CCN(CCNCC(=O)O)CC(=O)O)CC(=O)O)CC(=O)O']\n",
            "Object info sizes: 1 1234\n",
            "18\n",
            "['O=C(O)CN1CCN(CC(=O)O)CCN(CC(=O)O)OCN(CC(=O)O)CC1', 'O=C(O)CN1CCN(CC(=O)O)CCN(CC(=O)O)CCN(CC(=O)O)CC1', 'O=C(O)CN1CCN(CC(=O)O)CCN(CC(O)S)CCN(CC(=O)O)CC1', 'CN1CCN(CC(=O)O)CCN(CC(=O)O)CCN(CC(=O)O)CCOC1=O', 'CC(O)CN1CCN(CC(=O)O)CCN(CC(=O)O)CCN(CC(=O)O)CC1', 'CN(C=O)NCCN(CCN(CCNCC(=O)O)CC(=O)O)CC(=O)O', 'CCN(CCON(CC=O)CCNCC(=O)O)CC(=O)O', 'O=CCN(CCN(CCNCC(=O)O)CC(=O)O)CC(=O)O', 'O=O', 'N=C(O)CN1CCN(CC(=O)O)CCN(CC(=O)O)CCN(CC(=O)O)CC1', 'CC(=O)CN1CCN(CC(=O)O)CCN(CC(=O)O)CCN(CC(=O)O)CC1', 'O=C(O)CN1CCN(CC(=O)O)CCN(CN(O)O)CCN(CC(=O)O)CC1', 'O=C(O)CN1CCN(CCO)CCN(CC(=O)O)CCN(CC(=O)O)CC1', 'NC(=O)CN1CCN(CC(=O)O)CCN(CC(=O)O)CCN(CC(=O)O)CC1', 'O=C(O)CC1CCN(CC(=O)O)CCN(CC(=O)O)CCN(CC(=O)O)CC1', 'O=CN(CCN(CCNCC(=O)O)CC(=O)O)CC(=O)O', 'CCN(CCN(CCN(CCNCC(=O)O)CC(=O)O)CC(=O)O)CC(=O)O', 'O=CN(CCN(CCN(CCNCC(=O)O)CC(=O)O)CC(=O)O)CC(=O)O']\n",
            "19\n",
            "['CN1CCN(CC(=O)O)CCN(CC(=O)O)CCN(CC(=O)O)CCOC1=O', 'O=CCN(CCN(CCNCC(=O)O)CC(=O)O)CC(=O)O', 'CCN(CCON(CC=O)CCNCC(=O)O)CC(=O)O', 'O=C(O)CN1CCN(CC(=O)O)CCN(CN(O)O)CCN(CC(=O)O)CC1', 'O=C(O)CN1CCN(CCO)CCN(CC(=O)O)CCN(CC(=O)O)CC1', 'CN(C=O)NCCN(CCN(CCNCC(=O)O)CC(=O)O)CC(=O)O', 'O=C(O)CNC1CCOC(=O)CN=NCCN(CC(=O)O)CCN(CC(=O)O)C1', 'O=C(O)CN1CCN(CC(=O)O)CCN(CC(=O)O)OCN(CC(=O)O)CC1', 'O=C(O)CN1CCN(CC(=O)O)CCN(CC(=O)O)CCN(CC(=O)O)CC1', 'CC(=O)CN1CCN(CC(=O)O)CCN(CC(=O)O)CCN(CC(=O)O)CC1', 'O=C(O)CN1CCN(CC(=O)O)CCN(CC(O)S)CCN(CC(=O)O)CC1', 'O=O', 'N=C(O)CN1CCN(CC(=O)O)CCN(CC(=O)O)CCN(CC(=O)O)CC1', 'NC(=O)CN1CCN(CC(=O)O)CCN(CC(=O)O)CCN(CC(=O)O)CC1', 'CCN(CCN(CCN(CCNCC(=O)O)CC(=O)O)CC(=O)O)CC(=O)O', 'CC(O)CN1CCN(CC(=O)O)CCN(CC(=O)O)CCN(CC(=O)O)CC1', 'O=C(O)CC1CCN(CC(=O)O)CCN(CC(=O)O)CCN(CC(=O)O)CC1', 'O=CN(CCN(CCNCC(=O)O)CC(=O)O)CC(=O)O', 'O=CN(CCN(CCN(CCNCC(=O)O)CC(=O)O)CC(=O)O)CC(=O)O']\n",
            "Object info sizes: 1 1234\n",
            "Object info sizes: 1 1234\n",
            "20\n",
            "['CN1CCN(CC(=O)O)CCN(CC(=O)O)CCN(CC(=O)O)CCOC1=O', 'O=CCN(CCN(CCNCC(=O)O)CC(=O)O)CC(=O)O', 'CCN(CCON(CC=O)CCNCC(=O)O)CC(=O)O', 'O=C(O)CN1CCN(CC(=O)O)CCN(CN(O)O)CCN(CC(=O)O)CC1', 'O=C(O)CN1CCN(CCO)CCN(CC(=O)O)CCN(CC(=O)O)CC1', 'O=C(O)CNC1CCOC(=O)CN=NCCN(CC(=O)O)CCN(CC(=O)O)C1', 'CN(C=O)NCCN(CCN(CCNCC(=O)O)CC(=O)O)CC(=O)O', 'O=C(O)CN1CCN(CC(=O)O)CCN(CC(=O)O)OCN(CC(=O)O)CC1', 'O=C(O)CN1CCN(CC(=O)O)CCN(CC(=O)O)CCN(CC(=O)O)CC1', 'CC(=O)CN1CCN(CC(=O)O)CCN(CC(=O)O)CCN(CC(=O)O)CC1', 'O=C(O)CN1CCN(CC(=O)O)CCN(CC(O)S)CCN(CC(=O)O)CC1', 'O=O', 'N=C(O)CN1CCN(CC(=O)O)CCN(CC(=O)O)CCN(CC(=O)O)CC1', 'NC(=O)CN1CCN(CC(=O)O)CCN(CC(=O)O)CCN(CC(=O)O)CC1', 'CCN(CCN(CCN(CCNCC(=O)O)CC(=O)O)CC(=O)O)CC(=O)O', 'CC(O)CN1CCN(CC(=O)O)CCN(CC(=O)O)CCN(CC(=O)O)CC1', 'O=C(O)CN1CCN(COCOO)CCN(CC(=O)O)CCN(CC(=O)O)CC1', 'O=C(O)CC1CCN(CC(=O)O)CCN(CC(=O)O)CCN(CC(=O)O)CC1', 'O=CN(CCN(CCNCC(=O)O)CC(=O)O)CC(=O)O', 'O=CN(CCN(CCN(CCNCC(=O)O)CC(=O)O)CC(=O)O)CC(=O)O']\n",
            "21\n",
            "['CN1CCN(CC(=O)O)CCN(CC(=O)O)CCN(CC(=O)O)CCOC1=O', 'O=CCN(CCN(CCNCC(=O)O)CC(=O)O)CC(=O)O', 'CCN(CCON(CC=O)CCNCC(=O)O)CC(=O)O', 'O=C(O)CN1CCN(CC(=O)O)CCN(CN(O)O)CCN(CC(=O)O)CC1', 'O=C(O)CN1CCN(CCO)CCN(CC(=O)O)CCN(CC(=O)O)CC1', 'CN(C=O)NCCN(CCN(CCNCC(=O)O)CC(=O)O)CC(=O)O', 'O=C(O)CNC1CCOC(=O)CN=NCCN(CC(=O)O)CCN(CC(=O)O)C1', 'O=C(O)CN1CCN(CC(=O)O)CCN(CC(=O)O)OCN(CC(=O)O)CC1', 'O=C(O)CN1CCN(CC(=O)O)CCN(CC(=O)O)CCN(CC(=O)O)CC1', 'CC(=O)CN1CCN(CC(=O)O)CCN(CC(=O)O)CCN(CC(=O)O)CC1', 'O=C(O)CN1CCN(CC(=O)O)CCN(CC(O)S)CCN(CC(=O)O)CC1', 'O=O', 'N=C(O)CN1CCN(CC(=O)O)CCN(CC(=O)O)CCN(CC(=O)O)CC1', 'NC(=O)CN1CCN(CC(=O)O)CCN(CC(=O)O)CCN(CC(=O)O)CC1', 'O=C=NCOCN1CCN(CC(=O)O)CCN(CC(=O)O)CCN(CC(=O)O)CC1', 'CCN(CCN(CCN(CCNCC(=O)O)CC(=O)O)CC(=O)O)CC(=O)O', 'CC(O)CN1CCN(CC(=O)O)CCN(CC(=O)O)CCN(CC(=O)O)CC1', 'O=C(O)CN1CCN(COCOO)CCN(CC(=O)O)CCN(CC(=O)O)CC1', 'O=C(O)CC1CCN(CC(=O)O)CCN(CC(=O)O)CCN(CC(=O)O)CC1', 'O=CN(CCN(CCNCC(=O)O)CC(=O)O)CC(=O)O', 'O=CN(CCN(CCN(CCNCC(=O)O)CC(=O)O)CC(=O)O)CC(=O)O']\n",
            "22\n",
            "['CN1CCN(CC(=O)O)CCN(CC(=O)O)CCN(CC(=O)O)CCOC1=O', 'O=CCN(CCN(CCNCC(=O)O)CC(=O)O)CC(=O)O', 'CCN(CCON(CC=O)CCNCC(=O)O)CC(=O)O', 'O=C(O)CN1CCN(CC(=O)O)CCN(CN(O)O)CCN(CC(=O)O)CC1', 'O=C(O)CN1CCN(CCO)CCN(CC(=O)O)CCN(CC(=O)O)CC1', 'O=C(O)CNC1CCOC(=O)CN=NCCN(CC(=O)O)CCN(CC(=O)O)C1', 'CN(C=O)NCCN(CCN(CCNCC(=O)O)CC(=O)O)CC(=O)O', 'O=C(O)CN1CCN(CC(=O)O)CCN(CC(=O)O)OCN(CC(=O)O)CC1', 'O=C(O)CN1CCN(CC(=O)O)CCN(CC(=O)O)CCN(CC(=O)O)CC1', 'CC(=O)CN1CCN(CC(=O)O)CCN(CC(=O)O)CCN(CC(=O)O)CC1', 'O=C(O)CN1CCN(CC(=O)O)CCN(CC(O)S)CCN(CC(=O)O)CC1', 'O=O', 'N=C(O)CN1CCN(CC(=O)O)CCN(CC(=O)O)CCN(CC(=O)O)CC1', 'NC(=O)CN1CCN(CC(=O)O)CCN(CC(=O)O)CCN(CC(=O)O)CC1', 'O=C=NCOCN1CCN(CC(=O)O)CCN(CC(=O)O)CCN(CC(=O)O)CC1', 'CCN(CCN(CCN(CCNCC(=O)O)CC(=O)O)CC(=O)O)CC(=O)O', 'CC(O)CN1CCN(CC(=O)O)CCN(CC(=O)O)CCN(CC(=O)O)CC1', 'O=C(O)CN1CCN(CC(=O)O)CCN(CS(=O)O)CCN(CC(=O)O)CC1', 'O=C(O)CN1CCN(COCOO)CCN(CC(=O)O)CCN(CC(=O)O)CC1', 'O=C(O)CC1CCN(CC(=O)O)CCN(CC(=O)O)CCN(CC(=O)O)CC1', 'O=CN(CCN(CCNCC(=O)O)CC(=O)O)CC(=O)O', 'O=CN(CCN(CCN(CCNCC(=O)O)CC(=O)O)CC(=O)O)CC(=O)O']\n"
          ]
        },
        {
          "ename": "KeyboardInterrupt",
          "evalue": "",
          "output_type": "error",
          "traceback": [
            "\u001b[0;31m---------------------------------------------------------------------------\u001b[0m",
            "\u001b[0;31mKeyboardInterrupt\u001b[0m                         Traceback (most recent call last)",
            "Cell \u001b[0;32mIn[21], line 4\u001b[0m\n\u001b[1;32m      2\u001b[0m subs_len \u001b[38;5;241m=\u001b[39m \u001b[38;5;241m0\u001b[39m\n\u001b[1;32m      3\u001b[0m \u001b[38;5;28;01mwhile\u001b[39;00m \u001b[38;5;28mlen\u001b[39m(subs) \u001b[38;5;241m<\u001b[39m\u001b[38;5;241m=\u001b[39m \u001b[38;5;241m100\u001b[39m:\n\u001b[0;32m----> 4\u001b[0m     final_population \u001b[38;5;241m=\u001b[39m \u001b[43mrun_ga\u001b[49m\u001b[43m(\u001b[49m\u001b[43minitial_population\u001b[49m\u001b[43m,\u001b[49m\u001b[43m \u001b[49m\u001b[43mgenerations\u001b[49m\u001b[38;5;241;43m=\u001b[39;49m\u001b[38;5;241;43m10\u001b[39;49m\u001b[43m)\u001b[49m\n\u001b[1;32m      5\u001b[0m     fin_pop \u001b[38;5;241m=\u001b[39m [sf\u001b[38;5;241m.\u001b[39mdecoder(i) \u001b[38;5;28;01mfor\u001b[39;00m i \u001b[38;5;129;01min\u001b[39;00m final_population]\n\u001b[1;32m      6\u001b[0m     fin_pop \u001b[38;5;241m=\u001b[39m \u001b[38;5;28mlist\u001b[39m(\u001b[38;5;28mset\u001b[39m(fin_pop))\n",
            "Cell \u001b[0;32mIn[17], line 144\u001b[0m, in \u001b[0;36mrun_ga\u001b[0;34m(population, generations)\u001b[0m\n\u001b[1;32m    142\u001b[0m \u001b[38;5;28;01mdef\u001b[39;00m \u001b[38;5;21mrun_ga\u001b[39m(population, generations\u001b[38;5;241m=\u001b[39m\u001b[38;5;241m40\u001b[39m):\n\u001b[1;32m    143\u001b[0m     \u001b[38;5;28;01mfor\u001b[39;00m generation \u001b[38;5;129;01min\u001b[39;00m \u001b[38;5;28mrange\u001b[39m(generations):\n\u001b[0;32m--> 144\u001b[0m         scores \u001b[38;5;241m=\u001b[39m \u001b[43mparallel_evaluate_fitness\u001b[49m\u001b[43m(\u001b[49m\u001b[43mpopulation\u001b[49m\u001b[43m,\u001b[49m\u001b[43m \u001b[49m\u001b[43mmodel\u001b[49m\u001b[43m)\u001b[49m\n\u001b[1;32m    145\u001b[0m         \u001b[38;5;66;03m# Ensure only valid scores are selected for breeding\u001b[39;00m\n\u001b[1;32m    146\u001b[0m         valid_indices \u001b[38;5;241m=\u001b[39m [i \u001b[38;5;28;01mfor\u001b[39;00m i, score \u001b[38;5;129;01min\u001b[39;00m \u001b[38;5;28menumerate\u001b[39m(scores) \u001b[38;5;28;01mif\u001b[39;00m score \u001b[38;5;241m>\u001b[39m \u001b[38;5;241m-\u001b[39m\u001b[38;5;241m1\u001b[39m]\n",
            "Cell \u001b[0;32mIn[17], line 42\u001b[0m, in \u001b[0;36mparallel_evaluate_fitness\u001b[0;34m(population, model)\u001b[0m\n\u001b[1;32m     40\u001b[0m \u001b[38;5;28;01mdef\u001b[39;00m \u001b[38;5;21mparallel_evaluate_fitness\u001b[39m(population, model):\n\u001b[1;32m     41\u001b[0m     \u001b[38;5;28;01mwith\u001b[39;00m ThreadPoolExecutor() \u001b[38;5;28;01mas\u001b[39;00m executor:\n\u001b[0;32m---> 42\u001b[0m         scores \u001b[38;5;241m=\u001b[39m \u001b[38;5;28mlist\u001b[39m(executor\u001b[38;5;241m.\u001b[39mmap(evaluate_fitness, population, [model] \u001b[38;5;241m*\u001b[39m \u001b[38;5;28mlen\u001b[39m(population)))\n\u001b[1;32m     43\u001b[0m     \u001b[38;5;28;01mreturn\u001b[39;00m scores\n",
            "File \u001b[0;32m~/miniconda3/envs/torch/lib/python3.11/concurrent/futures/_base.py:619\u001b[0m, in \u001b[0;36mExecutor.map.<locals>.result_iterator\u001b[0;34m()\u001b[0m\n\u001b[1;32m    616\u001b[0m \u001b[38;5;28;01mwhile\u001b[39;00m fs:\n\u001b[1;32m    617\u001b[0m     \u001b[38;5;66;03m# Careful not to keep a reference to the popped future\u001b[39;00m\n\u001b[1;32m    618\u001b[0m     \u001b[38;5;28;01mif\u001b[39;00m timeout \u001b[38;5;129;01mis\u001b[39;00m \u001b[38;5;28;01mNone\u001b[39;00m:\n\u001b[0;32m--> 619\u001b[0m         \u001b[38;5;28;01myield\u001b[39;00m \u001b[43m_result_or_cancel\u001b[49m\u001b[43m(\u001b[49m\u001b[43mfs\u001b[49m\u001b[38;5;241;43m.\u001b[39;49m\u001b[43mpop\u001b[49m\u001b[43m(\u001b[49m\u001b[43m)\u001b[49m\u001b[43m)\u001b[49m\n\u001b[1;32m    620\u001b[0m     \u001b[38;5;28;01melse\u001b[39;00m:\n\u001b[1;32m    621\u001b[0m         \u001b[38;5;28;01myield\u001b[39;00m _result_or_cancel(fs\u001b[38;5;241m.\u001b[39mpop(), end_time \u001b[38;5;241m-\u001b[39m time\u001b[38;5;241m.\u001b[39mmonotonic())\n",
            "File \u001b[0;32m~/miniconda3/envs/torch/lib/python3.11/concurrent/futures/_base.py:317\u001b[0m, in \u001b[0;36m_result_or_cancel\u001b[0;34m(***failed resolving arguments***)\u001b[0m\n\u001b[1;32m    315\u001b[0m \u001b[38;5;28;01mtry\u001b[39;00m:\n\u001b[1;32m    316\u001b[0m     \u001b[38;5;28;01mtry\u001b[39;00m:\n\u001b[0;32m--> 317\u001b[0m         \u001b[38;5;28;01mreturn\u001b[39;00m \u001b[43mfut\u001b[49m\u001b[38;5;241;43m.\u001b[39;49m\u001b[43mresult\u001b[49m\u001b[43m(\u001b[49m\u001b[43mtimeout\u001b[49m\u001b[43m)\u001b[49m\n\u001b[1;32m    318\u001b[0m     \u001b[38;5;28;01mfinally\u001b[39;00m:\n\u001b[1;32m    319\u001b[0m         fut\u001b[38;5;241m.\u001b[39mcancel()\n",
            "File \u001b[0;32m~/miniconda3/envs/torch/lib/python3.11/concurrent/futures/_base.py:451\u001b[0m, in \u001b[0;36mFuture.result\u001b[0;34m(self, timeout)\u001b[0m\n\u001b[1;32m    448\u001b[0m \u001b[38;5;28;01melif\u001b[39;00m \u001b[38;5;28mself\u001b[39m\u001b[38;5;241m.\u001b[39m_state \u001b[38;5;241m==\u001b[39m FINISHED:\n\u001b[1;32m    449\u001b[0m     \u001b[38;5;28;01mreturn\u001b[39;00m \u001b[38;5;28mself\u001b[39m\u001b[38;5;241m.\u001b[39m__get_result()\n\u001b[0;32m--> 451\u001b[0m \u001b[38;5;28;43mself\u001b[39;49m\u001b[38;5;241;43m.\u001b[39;49m\u001b[43m_condition\u001b[49m\u001b[38;5;241;43m.\u001b[39;49m\u001b[43mwait\u001b[49m\u001b[43m(\u001b[49m\u001b[43mtimeout\u001b[49m\u001b[43m)\u001b[49m\n\u001b[1;32m    453\u001b[0m \u001b[38;5;28;01mif\u001b[39;00m \u001b[38;5;28mself\u001b[39m\u001b[38;5;241m.\u001b[39m_state \u001b[38;5;129;01min\u001b[39;00m [CANCELLED, CANCELLED_AND_NOTIFIED]:\n\u001b[1;32m    454\u001b[0m     \u001b[38;5;28;01mraise\u001b[39;00m CancelledError()\n",
            "File \u001b[0;32m~/miniconda3/envs/torch/lib/python3.11/threading.py:327\u001b[0m, in \u001b[0;36mCondition.wait\u001b[0;34m(self, timeout)\u001b[0m\n\u001b[1;32m    325\u001b[0m \u001b[38;5;28;01mtry\u001b[39;00m:    \u001b[38;5;66;03m# restore state no matter what (e.g., KeyboardInterrupt)\u001b[39;00m\n\u001b[1;32m    326\u001b[0m     \u001b[38;5;28;01mif\u001b[39;00m timeout \u001b[38;5;129;01mis\u001b[39;00m \u001b[38;5;28;01mNone\u001b[39;00m:\n\u001b[0;32m--> 327\u001b[0m         \u001b[43mwaiter\u001b[49m\u001b[38;5;241;43m.\u001b[39;49m\u001b[43macquire\u001b[49m\u001b[43m(\u001b[49m\u001b[43m)\u001b[49m\n\u001b[1;32m    328\u001b[0m         gotit \u001b[38;5;241m=\u001b[39m \u001b[38;5;28;01mTrue\u001b[39;00m\n\u001b[1;32m    329\u001b[0m     \u001b[38;5;28;01melse\u001b[39;00m:\n",
            "\u001b[0;31mKeyboardInterrupt\u001b[0m: "
          ]
        }
      ],
      "source": [
        "subs = []\n",
        "subs_len = 0\n",
        "while len(subs) <= 100:\n",
        "    final_population = run_ga(initial_population, generations=10)\n",
        "    fin_pop = [sf.decoder(i) for i in final_population]\n",
        "    fin_pop = list(set(fin_pop))\n",
        "    \n",
        "    can_fin_pop = [Chem.MolToSmiles(Chem.MolFromSmiles(m), isomericSmiles=True, canonical=True) for m in fin_pop]\n",
        "    can_fin_pop = list(set(can_fin_pop))\n",
        "    \n",
        "    subs += can_fin_pop\n",
        "    \n",
        "    subs = list(set(subs))\n",
        "    \n",
        "    # logging\n",
        "    if subs_len != len(subs):\n",
        "        print(len(subs))\n",
        "        print(subs)\n",
        "        \n",
        "    subs_len = len(subs)\n",
        "    \n",
        "    pppps = model.predict_lgK(pd.DataFrame({'smiles': subs}))\n",
        "    \n",
        "    \n",
        "    for l in range(len(pppps)):\n",
        "        if pppps[l] > 22 and check_molecule(subs[l]):\n",
        "            initial_population.append(subs[l])\n",
        "\n",
        "subs"
      ]
    },
    {
      "cell_type": "code",
      "execution_count": 215,
      "metadata": {},
      "outputs": [
        {
          "name": "stdout",
          "output_type": "stream",
          "text": [
            "# 3. Суммарно не более 12 атомов элементов O, N, P, S\n",
            "# 3. Суммарно не более 12 атомов элементов O, N, P, S\n",
            "# 3. Суммарно не более 12 атомов элементов O, N, P, S\n",
            "# 3. Суммарно не более 12 атомов элементов O, N, P, S\n",
            "# 3. Суммарно не более 12 атомов элементов O, N, P, S\n",
            "# 3. Суммарно не более 12 атомов элементов O, N, P, S\n",
            "# 3. Суммарно не более 12 атомов элементов O, N, P, S\n",
            "# 2. Молекула должна включать не менее трех разных элементов из списка\n",
            "# 3. Суммарно не более 12 атомов элементов O, N, P, S\n",
            "# 3. Суммарно не более 12 атомов элементов O, N, P, S\n",
            "# 3. Суммарно не более 12 атомов элементов O, N, P, S\n",
            "# 3. Суммарно не более 12 атомов элементов O, N, P, S\n",
            "# 3. Суммарно не более 12 атомов элементов O, N, P, S\n",
            "# 3. Суммарно не более 12 атомов элементов O, N, P, S\n",
            "# 3. Суммарно не более 12 атомов элементов O, N, P, S\n",
            "# 3. Суммарно не более 12 атомов элементов O, N, P, S\n",
            "# 3. Суммарно не более 12 атомов элементов O, N, P, S\n",
            "# 3. Суммарно не более 12 атомов элементов O, N, P, S\n",
            "# 3. Суммарно не более 12 атомов элементов O, N, P, S\n",
            "# 3. Суммарно не более 12 атомов элементов O, N, P, S\n",
            "# 3. Суммарно не более 12 атомов элементов O, N, P, S\n",
            "# 3. Суммарно не более 12 атомов элементов O, N, P, S\n",
            "# 3. Суммарно не более 12 атомов элементов O, N, P, S\n",
            "# 3. Суммарно не более 12 атомов элементов O, N, P, S\n",
            "# 3. Суммарно не более 12 атомов элементов O, N, P, S\n",
            "# 3. Суммарно не более 12 атомов элементов O, N, P, S\n",
            "# 2. Молекула должна включать не менее трех разных элементов из списка\n"
          ]
        }
      ],
      "source": [
        "valid_smiles = []\n",
        "\n",
        "subs1 = subs#['O=C(O)N1CCN(CP(=O)(O)O)CCN(C(=O)O)CCN(C(=O)O)CC1']\n",
        "# valid checking\n",
        "for sm in subs1:\n",
        "    if check_molecule(sm):\n",
        "        valid_smiles.append(sm)\n",
        "    else:\n",
        "        #print('Failed check')\n",
        "        pass"
      ]
    },
    {
      "cell_type": "code",
      "execution_count": 216,
      "metadata": {},
      "outputs": [
        {
          "data": {
            "text/plain": [
              "['NC(=O)CN1CCN(CC(=O)O)CCN(CC(=O)O)CCN(CC(=O)O)CC1',\n",
              " 'CCON(CC=O)CCN(CCNCC(=O)O)CC(=O)O',\n",
              " 'O=CN=CCN1CCN(CC(=O)O)CCC(NCC(=O)O)CN(CC(=O)O)CC1',\n",
              " 'CC(C=O)NCCN(CCN(CCNCC(=O)O)CC(=O)O)CC(=O)O',\n",
              " 'O=CNCC(=O)O',\n",
              " 'O=C(O)CC1CCN(CC(=O)O)CCN(CC(=O)O)CCN(CC(=O)O)CC1',\n",
              " 'O=CCN(C=O)CCN(CCNCC(=O)O)CC(=O)O',\n",
              " 'O=CCN(C=O)CCNCC(=O)O',\n",
              " 'CCCN(CCN(CCN(CCNCC(=O)O)CC(=O)O)CC(=O)O)CC(=O)O',\n",
              " 'O=CN(CCN(CCNCC(=O)O)CC(=O)O)CC(=O)O',\n",
              " 'O=CCNCCN(CCNCC(=O)O)CC(=O)O',\n",
              " 'O=C(O)CN1CCC(=O)OCN(CCNCCO)CCN(CC(=O)O)CC1',\n",
              " 'O=C(O)CN1CCN(CCO)CCN(CC(=O)O)CCN(CC(=O)O)CC1',\n",
              " 'CC(O)CN1CCN(CC(=O)O)CCN(CC(=O)O)CCN(CC(=O)O)CC1',\n",
              " 'O=COCN1CCN(CC(=O)O)CCN(CC(=O)O)CCN(CC(=O)O)CC1',\n",
              " 'O=C(O)CNCCN(CCN(CC(=O)O)CC1CCN1CC(=O)O)CC(=O)O',\n",
              " 'O=CNCCN1CCN(CC(=O)O)CCC(NCC(=O)O)CN(CC(=O)O)CC1',\n",
              " 'O=C(O)CNCCOC(=O)CN1CCN(CC(=O)O)CCN(CC(=O)O)CC1',\n",
              " 'O=CNCCN1CCC(NCC(=O)O)CN(CC(=O)O)CCN(CC(=O)O)CC1',\n",
              " 'CN1CCN(CC(=O)O)CCN(CC(=O)O)CCN(CC(=O)O)CCOC1=O',\n",
              " 'O=CSCCN1CCN(CC(=O)O)CCC(NCC(=O)O)CN(CC(=O)O)CC1',\n",
              " 'CCN(CCON(CC=O)CCNCC(=O)O)CC(=O)O',\n",
              " 'O=CCN(CCN(CCNCC(=O)O)CC(=O)O)CC(=O)O',\n",
              " 'O=NCCNCC(=O)O',\n",
              " 'O=CNCCN1CCN(CC(=O)O)CCN(CC(=O)O)CCC(NCC(=O)O)C1',\n",
              " 'O=CCCOCN1CCN(CC(=O)O)CCN(CC(=O)O)CCN(CC(=O)O)CC1',\n",
              " 'N=C(O)CN1CCN(CC(=O)O)CCN(CC(=O)O)CCN(CC(=O)O)CC1',\n",
              " 'O=C(O)CN1CCOC(=O)CN=CCN(CCCO)CCN(CC(=O)O)CC1',\n",
              " 'O=CCN1CCNC(C(=O)O)CCN(CC(=O)O)CCN(CC(=O)O)CC1',\n",
              " 'O=CN=CN1CCN(CC(=O)O)CCN(CC(=O)O)CCN(CC(=O)O)CC1',\n",
              " 'O=CN(CCNCC(=O)O)CC(=O)O',\n",
              " 'O=C(O)CN1CCN(CCCO)CCN(CC(=O)O)CCN(CC(=O)O)CC1',\n",
              " 'O=C(O)CN1CCOCC(=O)OCCN(CC(=O)O)CCN(CC(=O)O)CC1',\n",
              " 'O=C(O)CNCCN1CCN(CC(=O)O)CCN(CC(=O)O)CCC(=O)OC1',\n",
              " 'O=CSCCN1CCC(NCC(=O)O)CN(CC(=O)O)CCN(CC(=O)O)CC1',\n",
              " 'O=COCCN1CCN(CC(=O)O)CCC(NCC(=O)O)CN(CC(=O)O)CC1',\n",
              " 'CN(C=O)NCCN(CCN(CCNCC(=O)O)CC(=O)O)CC(=O)O',\n",
              " 'O=COCCN1CCN(CC(=O)O)CCN(CC(=O)O)CCC(NCC(=O)O)C1',\n",
              " 'O=C(O)CN1CCN(CC(=O)O)CCN(CCO)NCN(CC(=O)O)CC1',\n",
              " 'O=CN=CN1CCN(CC(=O)O)CCN(CCCO)CCN(CC(=O)O)CC1',\n",
              " 'CC(=O)CN1CCN(CC(=O)O)CCN(CC(=O)O)CCN(CC(=O)O)CC1',\n",
              " 'NC(O)CN1CCN(CC(=O)O)CCN(CC(=O)O)CCN(CC(=O)O)CC1',\n",
              " 'CCOON(CC=O)CCN(CCNCC(=O)O)CC(=O)O',\n",
              " 'O=C(O)CN1CCN(CC(=O)O)CCN(CC(=O)O)CCN(CC(=O)O)CC1',\n",
              " 'O=CN=CCN1CCN(CC(=O)O)CCN(CC(=O)O)CCC(NCC(=O)O)C1',\n",
              " 'O=CCN1CCN(CC(=O)O)CCNC(C(=O)O)CCN(CC(=O)O)CC1',\n",
              " 'CN(C=O)NCCN(CCNCC(=O)O)CC(=O)O',\n",
              " 'CCN(CCN(CCN(CCNCC(=O)O)CC(=O)O)CC(=O)O)CC(=O)O',\n",
              " 'O=C(O)CN1CCN(CCCO)CCN(CC(=O)O)CCN(SC(=O)O)CC1',\n",
              " 'CCN(CC(=O)O)N(CC=O)CCNCC(=O)O',\n",
              " 'O=CCCCN1CCN(CC(=O)O)CCC(NCC(=O)O)CN(CC(=O)O)CC1',\n",
              " 'O=C(O)CN1CCN(CC(=O)O)CCN(CC(O)O)CCN(CC(=O)O)CC1',\n",
              " 'O=CCNCCN(CCN(CCNCC(=O)O)CC(=O)O)CC(=O)O',\n",
              " 'O=COCCN1CCC(NCC(=O)O)CN(CC(=O)O)CCN(CC(=O)O)CC1',\n",
              " 'O=CSCCN1CCN(CC(=O)O)CCN(CC(=O)O)CCC(NCC(=O)O)C1',\n",
              " 'O=C(O)CN1CCN(CC(=O)O)CCN(CC(=O)S)CCN(CC(=O)O)CC1',\n",
              " 'O=C(O)CN1CCN(CC(=O)O)CC[SH](CC(=O)O)CCN(CC(=O)O)CC1',\n",
              " 'CCN(CCN(CCN(CCOCC(=O)O)CC(=O)O)CC(=O)O)CC(=O)O',\n",
              " 'O=C(O)CN1CCN(CC(=O)O)CCN(CC(O)S)CCN(CC(=O)O)CC1',\n",
              " 'O=C(O)CN1CCNCC(=O)OCCN(CC(=O)O)CCN(CC(=O)O)CC1',\n",
              " 'O=NCC(=O)O',\n",
              " 'CC(C=O)NCCN(CCNCC(=O)O)CC(=O)O',\n",
              " 'CC(C=O)NCCNCC(=O)O',\n",
              " 'O=C(O)CN1CC=NCC(=O)OCCN(CC(=O)O)CCN(CC(=O)O)CC1',\n",
              " 'O=NCCN(CCNCC(=O)O)CC(=O)O',\n",
              " 'O=CCN1CCC(C(=O)O)NCCN(CC(=O)O)CCN(CC(=O)O)CC1',\n",
              " 'O=C(O)CNC1CCOC(=O)CONCCN(CC(=O)O)CCN(CCO)C1',\n",
              " 'O=C(O)CN1CCN(CCO)CCN(CC(=O)S)CCN(CC(=O)O)CC1',\n",
              " 'CCN(CCN(CCN(CCN=CC(=O)O)CC(=O)O)CC(=O)O)CC(=O)O',\n",
              " 'CN(CCN1CCN(CC(=O)O)CCN(CC(=O)O)CC(=O)OC1)CC(=O)O',\n",
              " 'O=CNCCN1CCN(CC(=O)O)CCC(NCC(=O)O)CN(CCO)CC1',\n",
              " 'O=CN1CCNCC(=O)OCCN(CC(=O)O)CCN(CC(=O)O)CC1',\n",
              " 'O=CN=CCN1CCC(NCC(=O)O)CN(CC(=O)O)CCN(CC(=O)O)CC1',\n",
              " 'O=CCN(CCNCC(=O)O)CC(=O)O']"
            ]
          },
          "execution_count": 216,
          "metadata": {},
          "output_type": "execute_result"
        }
      ],
      "source": [
        "valid_smiles"
      ]
    },
    {
      "cell_type": "code",
      "execution_count": null,
      "metadata": {},
      "outputs": [],
      "source": []
    },
    {
      "cell_type": "code",
      "execution_count": 221,
      "metadata": {
        "colab": {
          "base_uri": "https://localhost:8080/"
        },
        "id": "ExoW0VvYWTo7",
        "outputId": "1626496e-6c26-40f5-e008-4abfecd934ba"
      },
      "outputs": [
        {
          "data": {
            "text/plain": [
              "(15.787529734567205, 23.66438330270838, 2.7723748210109918)"
            ]
          },
          "execution_count": 221,
          "metadata": {},
          "output_type": "execute_result"
        }
      ],
      "source": [
        "test = subs1\n",
        "\n",
        "test_preds = model.predict_lgK(pd.DataFrame({'smiles': test}))\n",
        "\n",
        "np.mean(test_preds), max(test_preds), min(test_preds)"
      ]
    },
    {
      "cell_type": "code",
      "execution_count": 222,
      "metadata": {},
      "outputs": [
        {
          "data": {
            "text/plain": [
              "array([21.57022254, 13.83100141, 11.91941799, 15.5036588 , 15.1132445 ,\n",
              "        4.00789015, 16.16919841, 13.08086257, 22.38263835,  8.47394937,\n",
              "       18.14284851, 14.72714812, 15.30034042, 15.9434888 , 11.81598301,\n",
              "       15.91349265, 15.99285921, 23.18534941, 21.84365797, 20.70319968,\n",
              "       18.49318416, 18.20225194, 15.06930016, 15.964637  , 14.71164729,\n",
              "       21.32696449, 16.64233253, 15.82024323, 11.94540109, 15.8272425 ,\n",
              "        4.10823764,  5.8659555 , 21.76091866, 15.07557392, 17.81295625,\n",
              "       21.91288279, 14.26807495, 14.97028299, 18.47917924, 10.08521438,\n",
              "       23.16037854, 15.43651274, 13.479259  , 15.8753586 , 15.29740946,\n",
              "       14.76476152, 15.79788826, 15.47319672, 16.96223595, 15.75602402,\n",
              "       19.22906311, 16.84586464, 20.49241215, 21.16970415, 20.93944664,\n",
              "       20.85409315, 11.8067929 , 14.19841916, 23.6643833 , 16.57172358,\n",
              "       15.20148295, 16.20329878, 14.93955052, 12.31917042, 16.57954113,\n",
              "       19.2943202 , 18.56808576, 19.05697136, 11.99854263, 14.40665295,\n",
              "       21.90848109, 14.49420613, 14.0459305 , 15.00454683, 15.50766579,\n",
              "       20.43178324, 19.14357321, 19.4714499 , 16.24239001, 20.22320007,\n",
              "       15.67809176,  2.77237482, 11.37368047,  7.60589066, 14.11598026,\n",
              "       11.30149437, 17.21179273, 15.24954227, 13.44288113, 18.22134932,\n",
              "       18.62562116, 19.69366432, 19.44950632, 14.64968119, 15.94995467,\n",
              "       13.67945224,  4.21263399, 14.45267905, 13.62348644, 15.56820829,\n",
              "       10.88383406])"
            ]
          },
          "execution_count": 222,
          "metadata": {},
          "output_type": "execute_result"
        }
      ],
      "source": [
        "test_preds"
      ]
    },
    {
      "cell_type": "code",
      "execution_count": 223,
      "metadata": {},
      "outputs": [
        {
          "data": {
            "text/plain": [
              "(22.17141648296809, 23.66438330270838, 21.169704145215093)"
            ]
          },
          "execution_count": 223,
          "metadata": {},
          "output_type": "execute_result"
        }
      ],
      "source": [
        "test = subs1\n",
        "\n",
        "test_preds = model.predict_lgK(pd.DataFrame({'smiles': test}))\n",
        "p, predds = [], []\n",
        "for s in range(len(test)):\n",
        "    if test_preds[s] > 21:\n",
        "        p.append(test[s])\n",
        "        predds.append(test_preds[s])\n",
        "\n",
        "np.mean(predds), max(predds), min(predds)"
      ]
    },
    {
      "cell_type": "code",
      "execution_count": 225,
      "metadata": {},
      "outputs": [
        {
          "data": {
            "text/html": [
              "<div>\n",
              "<style scoped>\n",
              "    .dataframe tbody tr th:only-of-type {\n",
              "        vertical-align: middle;\n",
              "    }\n",
              "\n",
              "    .dataframe tbody tr th {\n",
              "        vertical-align: top;\n",
              "    }\n",
              "\n",
              "    .dataframe thead th {\n",
              "        text-align: right;\n",
              "    }\n",
              "</style>\n",
              "<table border=\"1\" class=\"dataframe\">\n",
              "  <thead>\n",
              "    <tr style=\"text-align: right;\">\n",
              "      <th></th>\n",
              "      <th>smiles</th>\n",
              "      <th>lgK</th>\n",
              "    </tr>\n",
              "  </thead>\n",
              "  <tbody>\n",
              "    <tr>\n",
              "      <th>0</th>\n",
              "      <td>NC(=O)CN1CCN(CC(=O)O)CCN(CC(=O)O)CCN(CC(=O)O)CC1</td>\n",
              "      <td>21.570223</td>\n",
              "    </tr>\n",
              "    <tr>\n",
              "      <th>1</th>\n",
              "      <td>O=C(O)CN1CCN(CC(=O)O)CCN(OC(=O)O)CCN(CC(=O)O)CC1</td>\n",
              "      <td>22.382638</td>\n",
              "    </tr>\n",
              "    <tr>\n",
              "      <th>2</th>\n",
              "      <td>O=C(O)CN1CCN(CCO)CCN(CC(=O)O)CCN(CC(=O)O)CC1</td>\n",
              "      <td>23.185349</td>\n",
              "    </tr>\n",
              "    <tr>\n",
              "      <th>3</th>\n",
              "      <td>CC(O)CN1CCN(CC(=O)O)CCN(CC(=O)O)CCN(CC(=O)O)CC1</td>\n",
              "      <td>21.843658</td>\n",
              "    </tr>\n",
              "    <tr>\n",
              "      <th>4</th>\n",
              "      <td>O=C(O)CN1CCN(CC(=O)O)CCN(CS(=O)O)CCN(CC(=O)O)CC1</td>\n",
              "      <td>21.326964</td>\n",
              "    </tr>\n",
              "    <tr>\n",
              "      <th>5</th>\n",
              "      <td>O=C(O)CN1CCN(CC(=O)O)CCN(NC(=O)O)CCN(CC(=O)O)CC1</td>\n",
              "      <td>21.760919</td>\n",
              "    </tr>\n",
              "    <tr>\n",
              "      <th>6</th>\n",
              "      <td>N=C(O)CN1CCN(CC(=O)O)CCN(CC(=O)O)CCN(CC(=O)O)CC1</td>\n",
              "      <td>21.912883</td>\n",
              "    </tr>\n",
              "    <tr>\n",
              "      <th>7</th>\n",
              "      <td>O=C(O)CN1CCN(CCCO)CCN(CC(=O)O)CCN(CC(=O)O)CC1</td>\n",
              "      <td>23.160379</td>\n",
              "    </tr>\n",
              "    <tr>\n",
              "      <th>8</th>\n",
              "      <td>NC(O)CN1CCN(CC(=O)O)CCN(CC(=O)O)CCN(CC(=O)O)CC1</td>\n",
              "      <td>21.169704</td>\n",
              "    </tr>\n",
              "    <tr>\n",
              "      <th>9</th>\n",
              "      <td>O=C(O)CN1CCN(CC(=O)O)CCN(CC(=O)O)CCN(CC(=O)O)CC1</td>\n",
              "      <td>23.664383</td>\n",
              "    </tr>\n",
              "    <tr>\n",
              "      <th>10</th>\n",
              "      <td>O=C(O)CN1CCN(CC(=O)O)CCN(CC(O)O)CCN(CC(=O)O)CC1</td>\n",
              "      <td>21.908481</td>\n",
              "    </tr>\n",
              "  </tbody>\n",
              "</table>\n",
              "</div>"
            ],
            "text/plain": [
              "                                              smiles        lgK\n",
              "0   NC(=O)CN1CCN(CC(=O)O)CCN(CC(=O)O)CCN(CC(=O)O)CC1  21.570223\n",
              "1   O=C(O)CN1CCN(CC(=O)O)CCN(OC(=O)O)CCN(CC(=O)O)CC1  22.382638\n",
              "2       O=C(O)CN1CCN(CCO)CCN(CC(=O)O)CCN(CC(=O)O)CC1  23.185349\n",
              "3    CC(O)CN1CCN(CC(=O)O)CCN(CC(=O)O)CCN(CC(=O)O)CC1  21.843658\n",
              "4   O=C(O)CN1CCN(CC(=O)O)CCN(CS(=O)O)CCN(CC(=O)O)CC1  21.326964\n",
              "5   O=C(O)CN1CCN(CC(=O)O)CCN(NC(=O)O)CCN(CC(=O)O)CC1  21.760919\n",
              "6   N=C(O)CN1CCN(CC(=O)O)CCN(CC(=O)O)CCN(CC(=O)O)CC1  21.912883\n",
              "7      O=C(O)CN1CCN(CCCO)CCN(CC(=O)O)CCN(CC(=O)O)CC1  23.160379\n",
              "8    NC(O)CN1CCN(CC(=O)O)CCN(CC(=O)O)CCN(CC(=O)O)CC1  21.169704\n",
              "9   O=C(O)CN1CCN(CC(=O)O)CCN(CC(=O)O)CCN(CC(=O)O)CC1  23.664383\n",
              "10   O=C(O)CN1CCN(CC(=O)O)CCN(CC(O)O)CCN(CC(=O)O)CC1  21.908481"
            ]
          },
          "execution_count": 225,
          "metadata": {},
          "output_type": "execute_result"
        }
      ],
      "source": [
        "generated_df = pd.DataFrame({'smiles': p, 'lgK': predds})\n",
        "generated_df"
      ]
    },
    {
      "cell_type": "code",
      "execution_count": 226,
      "metadata": {},
      "outputs": [],
      "source": [
        "generated_df.to_csv('./generated/semivalid_enhanced.csv', index=False)"
      ]
    },
    {
      "cell_type": "code",
      "execution_count": null,
      "metadata": {},
      "outputs": [],
      "source": []
    }
  ],
  "metadata": {
    "colab": {
      "provenance": []
    },
    "kernelspec": {
      "display_name": "Python 3",
      "language": "python",
      "name": "python3"
    },
    "language_info": {
      "codemirror_mode": {
        "name": "ipython",
        "version": 3
      },
      "file_extension": ".py",
      "mimetype": "text/x-python",
      "name": "python",
      "nbconvert_exporter": "python",
      "pygments_lexer": "ipython3",
      "version": "3.11.8"
    }
  },
  "nbformat": 4,
  "nbformat_minor": 0
}
