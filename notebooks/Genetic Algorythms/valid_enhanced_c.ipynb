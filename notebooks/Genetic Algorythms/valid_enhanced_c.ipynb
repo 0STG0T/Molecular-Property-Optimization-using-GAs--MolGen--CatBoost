{
  "cells": [
    {
      "cell_type": "code",
      "execution_count": 3,
      "metadata": {
        "colab": {
          "base_uri": "https://localhost:8080/"
        },
        "id": "VRJtK9VOx5ZH",
        "outputId": "a66cce95-4d08-4482-c948-b55ee6caf95d"
      },
      "outputs": [],
      "source": [
        "! pip install rdkit catboost selfies -q"
      ]
    },
    {
      "cell_type": "code",
      "execution_count": null,
      "metadata": {},
      "outputs": [],
      "source": []
    },
    {
      "cell_type": "code",
      "execution_count": 4,
      "metadata": {},
      "outputs": [],
      "source": [
        "from rdkit import Chem\n",
        "from rdkit.Chem import AllChem, Descriptors\n",
        "import pandas as pd\n",
        "from sklearn.model_selection import train_test_split\n",
        "from catboost import CatBoostRegressor\n",
        "from rdkit.Chem.Descriptors import ExactMolWt\n",
        "from pred import CatLgKPredictor\n",
        "import selfies as sf\n",
        "\n",
        "import numpy as np"
      ]
    },
    {
      "cell_type": "code",
      "execution_count": 5,
      "metadata": {
        "colab": {
          "base_uri": "https://localhost:8080/"
        },
        "id": "S0VXCr4v-J1x",
        "outputId": "4adc855e-853c-40a7-e888-c8e29a5d73b0"
      },
      "outputs": [
        {
          "name": "stderr",
          "output_type": "stream",
          "text": [
            "[09:57:27] SMILES Parse Error: syntax error while parsing: C@@1(OC=2C=C(O)C=C(O)C2C[C@H]1O)([H])C3=CC(=O)C(=C4C(=C3)C([C@]5(OC=6C=C(O)C=C(O)C6C[C@H]5O)[H])=CC(O)=C4O)OOC(=O)CC(O)(CC(O)=O)C(O)=O\n",
            "[09:57:27] SMILES Parse Error: Failed parsing SMILES 'C@@1(OC=2C=C(O)C=C(O)C2C[C@H]1O)([H])C3=CC(=O)C(=C4C(=C3)C([C@]5(OC=6C=C(O)C=C(O)C6C[C@H]5O)[H])=CC(O)=C4O)OOC(=O)CC(O)(CC(O)=O)C(O)=O' for input: 'C@@1(OC=2C=C(O)C=C(O)C2C[C@H]1O)([H])C3=CC(=O)C(=C4C(=C3)C([C@]5(OC=6C=C(O)C=C(O)C6C[C@H]5O)[H])=CC(O)=C4O)OOC(=O)CC(O)(CC(O)=O)C(O)=O'\n",
            "[09:57:27] SMILES Parse Error: syntax error while parsing: OC[C@@HC@@HC@HC@@HC(O)=O\n",
            "[09:57:27] SMILES Parse Error: Failed parsing SMILES 'OC[C@@HC@@HC@HC@@HC(O)=O' for input: 'OC[C@@HC@@HC@HC@@HC(O)=O'\n",
            "[09:57:27] SMILES Parse Error: syntax error while parsing: OC(=O)C@@HC@@HC(O)=O\n",
            "[09:57:27] SMILES Parse Error: Failed parsing SMILES 'OC(=O)C@@HC@@HC(O)=O' for input: 'OC(=O)C@@HC@@HC(O)=O'\n",
            "[09:57:27] SMILES Parse Error: syntax error while parsing: CC(C)(S)C@@HC(O)=O\n",
            "[09:57:27] SMILES Parse Error: Failed parsing SMILES 'CC(C)(S)C@@HC(O)=O' for input: 'CC(C)(S)C@@HC(O)=O'\n",
            "[09:57:27] SMILES Parse Error: syntax error while parsing: H+].[Cl-].C[C@@HNC(=O)C1)N1CC(=O)NC(=O)C1\n",
            "[09:57:27] SMILES Parse Error: Failed parsing SMILES 'H+].[Cl-].C[C@@HNC(=O)C1)N1CC(=O)NC(=O)C1' for input: 'H+].[Cl-].C[C@@HNC(=O)C1)N1CC(=O)NC(=O)C1'\n",
            "[09:57:27] SMILES Parse Error: syntax error while parsing: O=C(O)CN1CCN(CC(=O)O)CCN(C[C+O)CCN(CC(=O)O)CC1\n",
            "[09:57:27] SMILES Parse Error: Failed parsing SMILES 'O=C(O)CN1CCN(CC(=O)O)CCN(C[C+O)CCN(CC(=O)O)CC1' for input: 'O=C(O)CN1CCN(CC(=O)O)CCN(C[C+O)CCN(CC(=O)O)CC1'\n",
            "[09:57:27] SMILES Parse Error: syntax error while parsing: O=C(O)CN1CCH]N(CCCO)CCN(CC(=O)O)CCN(CC(=O)O)CC1\n",
            "[09:57:27] SMILES Parse Error: Failed parsing SMILES 'O=C(O)CN1CCH]N(CCCO)CCN(CC(=O)O)CCN(CC(=O)O)CC1' for input: 'O=C(O)CN1CCH]N(CCCO)CCN(CC(=O)O)CCN(CC(=O)O)CC1'\n",
            "[09:57:27] SMILES Parse Error: syntax error while parsing: O=C(O)CN1CCN(CCCO)CCN(CC(=O)O)CCN(C[C+O)CC1\n",
            "[09:57:27] SMILES Parse Error: Failed parsing SMILES 'O=C(O)CN1CCN(CCCO)CCN(CC(=O)O)CCN(C[C+O)CC1' for input: 'O=C(O)CN1CCN(CCCO)CCN(CC(=O)O)CCN(C[C+O)CC1'\n",
            "[09:57:27] SMILES Parse Error: syntax error while parsing: CCCC@@HO)CC(=O)O)N(CC(=O)O)CC(=O)O\n",
            "[09:57:27] SMILES Parse Error: Failed parsing SMILES 'CCCC@@HO)CC(=O)O)N(CC(=O)O)CC(=O)O' for input: 'CCCC@@HO)CC(=O)O)N(CC(=O)O)CC(=O)O'\n",
            "[09:57:27] SMILES Parse Error: syntax error while parsing: CCC[C@@HO)CC(=O)O)N(CC(=O)O)CC(=O)O\n",
            "[09:57:27] SMILES Parse Error: Failed parsing SMILES 'CCC[C@@HO)CC(=O)O)N(CC(=O)O)CC(=O)O' for input: 'CCC[C@@HO)CC(=O)O)N(CC(=O)O)CC(=O)O'\n"
          ]
        }
      ],
      "source": [
        "chelates = ['CC(=O)NC1=C2SSC=C2NC1=O', 'OC(CS)C(O)CS','C@@1(OC=2C=C(O)C=C(O)C2C[C@H]1O)([H])C3=CC(=O)C(=C4C(=C3)C([C@]5(OC=6C=C(O)C=C(O)C6C[C@H]5O)[H])=CC(O)=C4O)O' 'OC(=O)CC(O)(CC(O)=O)C(O)=O', 'OC[C@@HC@@HC@HC@@HC(O)=O', 'OC(=O)C@@HC@@HC(O)=O', 'Oc1c(I)cc(Cl)c2cccnc12', 'O=C(O)CN(CC1)CCN(CC(=O)O)CCN(CC(=O)O)CCN1CC(=O)O', 'OCC(S)CS', 'C1CSCCSCCS1', 'CC(C)(S)C@@HC(O)=O', 'C1=CN=C(C=C1)C1=CC=CC=N1', 'CCCCC(O)(Cn1cncn1)c1ccc(Cl)cc1Cl', 'H+].[Cl-].C[C@@HNC(=O)C1)N1CC(=O)NC(=O)C1', 'C(=S)(S)N(CC)CC', 'Cc1cc(-c2ccc(cc2)S(O)(=O)=O)c2ccc3c(cc(C)nc3c2n1)-c1ccc(cc1)S(O)(=O)=O', 'OC(=O)CN(CCOCCOCCN(CC(O)=O)CC(O)=O)CC(O)=O', 'OC(=O)CN(CCN(CC(O)=O)CC(O)=O)CC(O)=O', 'CC(O)(P(O)(O)=O)P(O)(O)=O', 'OC(=O)CNCC(O)=O', 'OP(O)(=O)CP(O)(O)=O', 'N1=C(C=CC2=CC=C3C=CC(=NC3=C12)C)C', 'OC(=O)CN1CCCN(CCN(CCCN(CC1)CC(O)=O)CC(O)=O)CC(O)=O', 'CN1C(=O)C(NC(C)=O)=C2SSC=C12', 'CCCCCCCc1cc(O)c2ccccc2n1']\n",
        "additional_chelates = ['O=C(O)CN1CCN(CC(=O)O)CCN(CC(=O)O)CCN(CC(=O)O)CC1', 'O=C(O)CN1CCN(CCCO)CCN(CC(=O)O)CCN(CC(=O)O)CC1', 'O=C(O)CN1CCN(CC(=O)O)CCN(C(=O)O)CCN(CC(=O)O)CC1', 'O=C(O)CN1CCN(CC(=O)O)CCN(CC(O)O)CCN(CC(=O)O)CC1', 'C=C(O)CN1CCN(CC(=O)O)CCN(CC(=O)O)CCN(CC(=O)O)CC1', 'O=C(O)CN1CCN(CC[CH]O)CCN(CC(=O)O)CCN(CC(=O)O)CC1', 'O=C(O)CN1CCN(CC(=O)O)CCN(C[C+O)CCN(CC(=O)O)CC1', 'O=C(O)CN1CCH]N(CCCO)CCN(CC(=O)O)CCN(CC(=O)O)CC1', 'O=C(O)CN1CCN(CC=NO)CCN(CC(=O)O)CCN(CC(=O)O)CC1', 'O=C(O)CN(CC(=O)O)C1CCCCC1N(CC(=O)O)CC(=O)O', 'O=C(O)CN(CC(=O)O)[C@@H]1CCCC[C@H]1N(CC(=O)O)CC(=O)O', 'O=C(O)CN1CCNCCN(CC(=O)O)CCN(CC(=O)O)CC1', 'O=C(O)CN1[CH]CN(CCCO)CCN(CC(=O)O)CCN(CC(=O)O)CC1', 'O=C(O)CN1CCN(CC=PO)CCN(CC(=O)O)CCN(CC(=O)O)CC1', 'O=C(O)[CH]N1CCN(CC(=O)O)CCN(CC(=O)O)CCN(CC(=O)O)CC1', 'O=C(O)CN1[CH]CN(CC(=O)O)CCN(CCCO)CCN(CC(=O)O)CC1', 'O=C(O)CN1[CH]CN(CC(=O)O)CCN(CC(=O)O)CCN(CCCO)CC1', 'O=C(O)CN1[CH]CN(CC(=O)O)CCN(CC(=O)O)CCN(CC(=O)O)CC1', 'O=C(O)[C]N1CCN(CC(=O)O)CCN(CC(=O)O)CCN(CC(=O)O)CC1', 'O=C(O)CN1CCN(CCCO)CCN(C(=O)O)CCN(CC(=O)O)CC1', 'O=C(O)[CH]N1CCN(CCCO)CCN(CC(=O)O)CCN(CC(=O)O)CC1', 'O=C(O)CN1CCN(CCCO)CCN(CC(=O)O)CCN(C[C+O)CC1', 'CCCC@@HO)CC(=O)O)N(CC(=O)O)CC(=O)O', 'O=C(O)CN1CCN(CCCO)CCN([N]C(=O)O)CCN(CC(=O)O)CC1', 'O=C(O)CN1CCN(CC(=O)O)CCN(CC(=O)CO)CCN(CC(=O)O)CC1', 'O=C(O)CN1[C]CN(CCCO)CCN(CC(=O)O)CCN(CC(=O)O)CC1', 'O=COCN1CCN(CC(=O)O)CCN(CC(=O)O)CCN(CC(=O)O)CC1', 'O=C(O)CN1CCN(CCCO)CCN(OC(=O)O)CCN(CC(=O)O)CC1', 'O=C(O)CN1[C]CN(CC(=O)O)CCN(CC(=O)O)CCN(CC(=O)O)CC1', 'CCCCCC(CN(CC(=O)O)CC(=O)O)N(CC(=O)O)CC(=O)O', 'O=C(O)[C]N1CCN(CCCO)CCN(CC(=O)O)CCN(CC(=O)O)CC1', 'O=C(O)CN1[C]CN(CC(=O)O)CCN(CC(=O)O)CCN(CCCO)CC1', 'O=C(O)CN1CCN(CCCO)CCN(NC(=O)O)CCN(CC(=O)O)CC1', 'O=C(O)CN(C[C]1CCCCC1N(CC(=O)O)CC(=O)O)CC(=O)O', 'CC1N(CC(=O)O)CCN(CC(=O)O)CCN(CC(=O)O)CCN1CC(=O)O', 'O=C(O)CN1CCN(CCCO)CCN([O+]C(=O)O)CCN(CC(=O)O)CC1', 'O=C(O)CN1CCN(CCCO)C[N]N(CC(=O)O)CCN(CC(=O)O)CC1', 'O=C(O)CN1CCN(C=C(O)O)CCN(CC(=O)O)CCN(CC(=O)O)CC1', 'CC=CCCC(CN(CC(=O)O)CC(=O)O)N(CC(=O)O)CC(=O)O', 'O=C(O)CN1CCN(CCCO)CCN(CNC(=O)O)CCN(CC(=O)O)CC1', 'O=C(O)CNN1CCN(CCCO)CCN(CC(=O)O)CCN(CC(=O)O)CC1', 'O=C(O)CN(CC(=O)O)[C@@H]1CC=CC[C@H]1N(CC(=O)O)CC(=O)O', 'O=C(O)CN1CCN(CC(=O)O)CCN(CCCO)OCN(CC(=O)O)CC1', 'O=C(O)COCN1CCN(CCCO)CCN(CC(=O)O)CCN(CC(=O)O)CC1', 'CC1N(CCCO)CCN(CC(=O)O)CCN(CC(=O)O)CCN1CC(=O)O', 'O=C(O)[CH-]N1CCN(CC(=O)O)CCN(CC(=O)O)CCN(CC(=O)O)CC1', 'O=C(O)CN(CCN(CC(=O)O)CC(=O)O)CC(=O)O', 'O=C(O)CN1C[CH]NCCN(CC(=O)O)CCN(CC(=O)O)CC1', 'O=C(O)CN1CCNCCN(NC(=O)O)CCN(CC(=O)O)CC1', 'O=C(O)[C-]N1CCN(CC(=O)O)CCN(CC(=O)O)CCN(CC(=O)O)CC1']\n",
        "new_add =['O=C(O)CN1CCN(CC(=O)O)CCN(CC(=O)O)CCN(CC(=O)O)CC1', 'O=C(O)CN1CCN(CCO)CCN(CC(=O)O)CCN(CC(=O)O)CC1', 'O=C(O)CN1CCN(CCCO)CCN(CC(=O)O)CCN(CC(=O)O)CC1', 'O=C(O)CN1CCN(CC(=O)O)CCN(C(=O)O)CCN(CC(=O)O)CC1', 'N=C(O)CN1CCN(CC(=O)O)CCN(CC(=O)O)CCN(CC(=O)O)CC1', 'O=C(O)CN1CCN(CC(=O)O)CCN(CC(O)O)CCN(CC(=O)O)CC1', 'C=C(O)CN1CCN(CC(=O)O)CCN(CC(=O)O)CCN(CC(=O)O)CC1', 'O=C(O)CN1CCN(CC[CH]O)CCN(CC(=O)O)CCN(CC(=O)O)CC1', 'O=C(O)CN1CCN(CC[N]O)CCN(CC(=O)O)CCN(CC(=O)O)CC1', 'O=C(O)CN1CCN(CCNO)CCN(CC(=O)O)CCN(CC(=O)O)CC1', 'O=C(O)CN1C[CH]N(CCCO)CCN(CC(=O)O)CCN(CC(=O)O)CC1', 'O=C(O)CN1CCN(CC=NO)CCN(CC(=O)O)CCN(CC(=O)O)CC1', 'O=C(O)CN1CCN(CC[N+]O)CCN(CC(=O)O)CCN(CC(=O)O)CC1', 'O=C(O)CN1CCN(CC[C]O)CCN(CC(=O)O)CCN(CC(=O)O)CC1', 'O=C(O)CN(CC(=O)O)[C@@H]1CCCC[C@H]1N(CC(=O)O)CC(=O)O', 'O=C(O)CN1CCN(CCOO)CCN(CC(=O)O)CCN(CC(=O)O)CC1', 'O=C(O)CN1CCNCCN(CC(=O)O)CCN(CC(=O)O)CC1', 'O=C(O)CN1[CH]CN(CCCO)CCN(CC(=O)O)CCN(CC(=O)O)CC1', 'O=C(O)CN1CCN(CC=PO)CCN(CC(=O)O)CCN(CC(=O)O)CC1', 'O=C(O)CN1CCN(CC#CO)CCN(CC(=O)O)CCN(CC(=O)O)CC1', 'O=C(O)[CH]N1CCN(CC(=O)O)CCN(CC(=O)O)CCN(CC(=O)O)CC1', 'O=C(O)CN1CCN(CCSO)CCN(CC(=O)O)CCN(CC(=O)O)CC1', 'O=C(O)CN1[CH]CN(CC(=O)O)CCN(CCCO)CCN(CC(=O)O)CC1', 'O=C(O)CN1[CH]CN(CC(=O)O)CCN(CC(=O)O)CCN(CCCO)CC1', 'O=C(O)CN1[CH]CN(CC(=O)O)CCN(CC(=O)O)CCN(CC(=O)O)CC1', 'O=C(O)[C]N1CCN(CC(=O)O)CCN(CC(=O)O)CCN(CC(=O)O)CC1', 'O=C(O)CN1C[C]N(CCCO)CCN(CC(=O)O)CCN(CC(=O)O)CC1', 'O=C(O)CN1C[CH]N(C(=O)O)CCN(CC(=O)O)CCN(CC(=O)O)CC1', 'O=C(O)CN1CCN(CCCO)CCN(C(=O)O)CCN(CC(=O)O)CC1', 'O=C(O)CN1CCN(CC#[PH]O)CCN(CC(=O)O)CCN(CC(=O)O)CC1', 'O=C(O)[CH]N1CCN(CCCO)CCN(CC(=O)O)CCN(CC(=O)O)CC1', 'O=C(O)CN1CCN(CC=[S]O)CCN(CC(=O)O)CCN(CC(=O)O)CC1', 'O=CNCN1CCN(CC(=O)O)CCN(CC(=O)O)CCN(CC(=O)O)CC1', 'O=C(O)CN1CCN(CC[P]O)CCN(CC(=O)O)CCN(CC(=O)O)CC1', 'O=C(O)CN1CCN(CC[CH-]O)CCN(CC(=O)O)CCN(CC(=O)O)CC1', 'O=C(O)CN1CCN(CC[SH]O)CCN(CC(=O)O)CCN(CC(=O)O)CC1', 'O=C(O)CN1CCN(CC[P@H]O)CCN(CC(=O)O)CCN(CC(=O)O)CC1', 'CCCC(CN(CC(=O)O)CC(=O)O)N(CC(=O)O)CC(=O)O', 'CCC[C@@HO)CC(=O)O)N(CC(=O)O)CC(=O)O', 'O=C(O)CN1CCN(NC(=O)O)CCN(CCCO)CCN(C(=O)O)CC1', 'O=C(O)CN1CCN(CCCO)CCN([N]C(=O)O)CCN(CC(=O)O)CC1', 'O=C(O)CN1CCN(CNC(=O)O)CCN(CCCO)CCN(C(=O)O)CC1', 'O=C(O)CN1CCN(CC(=O)O)CCN(CC(=O)CO)CCN(CC(=O)O)CC1', 'O=C(O)CN1[C]CN(CCCO)CCN(CC(=O)O)CCN(CC(=O)O)CC1', 'O=COCN1CCN(CC(=O)O)CCN(CC(=O)O)CCN(CC(=O)O)CC1', 'O=C(O)CN1CCN(CC=[N+]O)CCN(CC(=O)O)CCN(CC(=O)O)CC1', 'O=C(O)CN1CCN(CCCO)CCN(OC(=O)O)CCN(CC(=O)O)CC1', 'O=C(O)CN1[C]CN(CC(=O)O)CCN(CC(=O)O)CCN(CC(=O)O)CC1', 'CCCCCC(CN(CC(=O)O)CC(=O)O)N(CC(=O)O)CC(=O)O', 'O=C(O)[C]N1CCN(CCCO)CCN(CC(=O)O)CCN(CC(=O)O)CC1']\n",
        "\n",
        "\n",
        "chelates+=additional_chelates\n",
        "chelates+=new_add\n",
        "\n",
        "\n",
        "al = []\n",
        "for i in chelates:\n",
        "  try:\n",
        "    if Chem.MolFromSmiles(i):\n",
        "      al.append(i)\n",
        "  except Exception:\n",
        "    pass\n",
        "\n",
        "chelates = al"
      ]
    },
    {
      "cell_type": "code",
      "execution_count": 6,
      "metadata": {
        "id": "OzisvhJzzVoD"
      },
      "outputs": [],
      "source": [
        "from collections import Counter\n",
        "from rdkit.Contrib.SA_Score import sascorer\n",
        "\n",
        "data = pd.read_csv(\"logK.csv\")\n",
        "\n",
        "def check_molecule(smiles):\n",
        "    # Разрешенные элементы и элементы для подсчета атомов\n",
        "    allowed_elements = {'C', 'H', 'O', 'N', 'P', 'S'}\n",
        "    count_elements = {'O', 'N', 'P', 'S'}\n",
        "\n",
        "    # Счетчик элементов в молекуле\n",
        "    elements_counter = Counter()\n",
        "    temp_element = '' # Временная переменная для хранения элементов более одного символа\n",
        "\n",
        "    for char in smiles:\n",
        "        if char.isalpha():\n",
        "            # Проверяем, является ли элемент двухбуквенным (например, Cl) - не применимо к данным элементам, но полезно для общности\n",
        "            if temp_element:\n",
        "                # Предыдущий элемент был начат, завершаем его\n",
        "                elements_counter[temp_element] += 1\n",
        "                temp_element = ''\n",
        "            if char.isupper():\n",
        "                # Начало нового элемента\n",
        "                elements_counter[char] += 1\n",
        "            else:\n",
        "                # Продолжение текущего элемента\n",
        "                temp_element += char\n",
        "        elif temp_element:\n",
        "            # Если был накоплен временный элемент, добавляем его в счетчик\n",
        "            elements_counter[temp_element] += 1\n",
        "            temp_element = '' # Сброс временного элемента\n",
        "\n",
        "    # Проверяем, входит ли последний элемент в счетчик, если цикл завершился на букве\n",
        "    if temp_element:\n",
        "        elements_counter[temp_element] += 1\n",
        "\n",
        "    # Проверка условий\n",
        "    # 1. Все элементы в молекуле должны быть из разрешенного списка\n",
        "    if not all(element in allowed_elements for element in elements_counter):\n",
        "        print('# 1. Все элементы в молекуле должны быть из разрешенного списка')\n",
        "        return False\n",
        "\n",
        "    # 2. Молекула должна включать не менее трех разных элементов из списка\n",
        "    if sum(element in allowed_elements for element in elements_counter) < 3:\n",
        "        print('# 2. Молекула должна включать не менее трех разных элементов из списка')\n",
        "        return False\n",
        "\n",
        "    # 3. Суммарно не более 12 атомов элементов O, N, P, S\n",
        "    if sum(count for element, count in elements_counter.items() if element in count_elements) > 12:\n",
        "        print('# 3. Суммарно не более 12 атомов элементов O, N, P, S')\n",
        "        return False\n",
        "    \n",
        "    if smiles in data[\"smiles\"].tolist():\n",
        "      return True\n",
        "\n",
        "    weight = ExactMolWt(Chem.MolFromSmiles(smiles))\n",
        "    if weight > 500: \n",
        "        print('Вес: ', weight)\n",
        "        return False\n",
        "\n",
        "    if sascorer.calculateScore(Chem.MolFromSmiles(smiles))>5: \n",
        "        print('Sas > 5', sascorer.calculateScore(Chem.MolFromSmiles(smiles)))\n",
        "        return False\n",
        "        \n",
        "\n",
        "    return True\n",
        "\n",
        "# Тестирование функции на нескольких молекулах из датасета\n"
      ]
    },
    {
      "cell_type": "code",
      "execution_count": 20,
      "metadata": {
        "id": "9d0kvitu7MGl"
      },
      "outputs": [
        {
          "data": {
            "text/plain": [
              "(25, 1)"
            ]
          },
          "execution_count": 20,
          "metadata": {},
          "output_type": "execute_result"
        }
      ],
      "source": [
        "sub = pd.DataFrame({\"smiles\": chelates})\n",
        "\n",
        "sub = sub.rename(columns={0:\"smiles\"})\n",
        "\n",
        "sub.shape"
      ]
    },
    {
      "cell_type": "code",
      "execution_count": 21,
      "metadata": {
        "id": "kC0wBfnkTCt3"
      },
      "outputs": [
        {
          "name": "stdout",
          "output_type": "stream",
          "text": [
            "# 3. Суммарно не более 12 атомов элементов O, N, P, S\n",
            "# 1. Все элементы в молекуле должны быть из разрешенного списка\n",
            "# 2. Молекула должна включать не менее трех разных элементов из списка\n",
            "# 2. Молекула должна включать не менее трех разных элементов из списка\n",
            "# 1. Все элементы в молекуле должны быть из разрешенного списка\n",
            "# 1. Все элементы в молекуле должны быть из разрешенного списка\n",
            "# 1. Все элементы в молекуле должны быть из разрешенного списка\n",
            "# 2. Молекула должна включать не менее трех разных элементов из списка\n",
            "# 1. Все элементы в молекуле должны быть из разрешенного списка\n"
          ]
        },
        {
          "data": {
            "text/plain": [
              "(16, 1)"
            ]
          },
          "execution_count": 21,
          "metadata": {},
          "output_type": "execute_result"
        }
      ],
      "source": [
        "checked = [check_molecule(smiles) for smiles in sub[\"smiles\"]]\n",
        "\n",
        "sub = sub.iloc[checked]\n",
        "\n",
        "can_smiles = [Chem.MolToSmiles(Chem.MolFromSmiles(m), isomericSmiles=True, canonical=True) for m in sub.smiles.tolist()]\n",
        "\n",
        "can_smiles = list(set(can_smiles))\n",
        "sub_can = pd.DataFrame({\"smiles\": can_smiles})\n",
        "\n",
        "sub_can.shape"
      ]
    },
    {
      "cell_type": "code",
      "execution_count": 22,
      "metadata": {
        "id": "WT3pOKv-CEqv"
      },
      "outputs": [
        {
          "data": {
            "text/plain": [
              "(16, 2)"
            ]
          },
          "execution_count": 22,
          "metadata": {},
          "output_type": "execute_result"
        }
      ],
      "source": [
        "model = CatLgKPredictor('./mymodel')\n",
        "sub_can[\"lgk\"] = model.predict_lgK(pd.DataFrame({'smiles': sub_can[\"smiles\"].values}))\n",
        "\n",
        "sub_can.reset_index(drop=True, inplace=True)\n",
        "\n",
        "sub_can.shape"
      ]
    },
    {
      "cell_type": "code",
      "execution_count": 23,
      "metadata": {},
      "outputs": [],
      "source": [
        "from rdkit import DataStructs\n",
        "\n",
        "def return_unsimilar(sub: pd.DataFrame):\n",
        "    sub = sub.copy()\n",
        "    \n",
        "    ms = [Chem.MolFromSmiles(sm) for sm in sub['smiles']]\n",
        "    fpgen = AllChem.GetRDKitFPGenerator()\n",
        "    fps = [fpgen.GetFingerprint(x) for x in ms]\n",
        "    sim = 0\n",
        "    for i in range(len(fps)):\n",
        "        for j in range(i+1, len(fps)):\n",
        "            try:\n",
        "                if DataStructs.TanimotoSimilarity(fps[i], fps[j]) > 0.5:\n",
        "                    if sub[\"lgk\"][i]>=sub[\"lgk\"][j]: #and sub[\"lgk\"][j]<sub['lgk'].mean():\n",
        "                        sub.drop(labels=[j], inplace=True)\n",
        "                    elif sub[\"lgk\"][i]<sub[\"lgk\"][j]: #and sub[\"lgk\"][i]<sub['lgk'].mean():\n",
        "                        sub.drop(labels=[i], inplace=True)\n",
        "            except KeyError:\n",
        "                pass\n",
        "    return sub"
      ]
    },
    {
      "cell_type": "code",
      "execution_count": 24,
      "metadata": {},
      "outputs": [
        {
          "data": {
            "text/html": [
              "<div>\n",
              "<style scoped>\n",
              "    .dataframe tbody tr th:only-of-type {\n",
              "        vertical-align: middle;\n",
              "    }\n",
              "\n",
              "    .dataframe tbody tr th {\n",
              "        vertical-align: top;\n",
              "    }\n",
              "\n",
              "    .dataframe thead th {\n",
              "        text-align: right;\n",
              "    }\n",
              "</style>\n",
              "<table border=\"1\" class=\"dataframe\">\n",
              "  <thead>\n",
              "    <tr style=\"text-align: right;\">\n",
              "      <th></th>\n",
              "      <th>smiles</th>\n",
              "      <th>lgk</th>\n",
              "    </tr>\n",
              "  </thead>\n",
              "  <tbody>\n",
              "    <tr>\n",
              "      <th>0</th>\n",
              "      <td>CC(O)(P(=O)(O)O)P(=O)(O)O</td>\n",
              "      <td>6.272198</td>\n",
              "    </tr>\n",
              "    <tr>\n",
              "      <th>1</th>\n",
              "      <td>OCC(S)CS</td>\n",
              "      <td>5.154835</td>\n",
              "    </tr>\n",
              "    <tr>\n",
              "      <th>2</th>\n",
              "      <td>N[C@@H](CCN[C@@H](CCN1CC[C@H]1C(=O)O)C(=O)O)C(...</td>\n",
              "      <td>13.484349</td>\n",
              "    </tr>\n",
              "    <tr>\n",
              "      <th>4</th>\n",
              "      <td>O=C(O)CN(CCOCCOCCN(CC(=O)O)CC(=O)O)CC(=O)O</td>\n",
              "      <td>14.461277</td>\n",
              "    </tr>\n",
              "    <tr>\n",
              "      <th>5</th>\n",
              "      <td>CC(C)(S)[C@@H](N)C(=O)O</td>\n",
              "      <td>3.754721</td>\n",
              "    </tr>\n",
              "  </tbody>\n",
              "</table>\n",
              "</div>"
            ],
            "text/plain": [
              "                                              smiles        lgk\n",
              "0                          CC(O)(P(=O)(O)O)P(=O)(O)O   6.272198\n",
              "1                                           OCC(S)CS   5.154835\n",
              "2  N[C@@H](CCN[C@@H](CCN1CC[C@H]1C(=O)O)C(=O)O)C(...  13.484349\n",
              "4         O=C(O)CN(CCOCCOCCN(CC(=O)O)CC(=O)O)CC(=O)O  14.461277\n",
              "5                            CC(C)(S)[C@@H](N)C(=O)O   3.754721"
            ]
          },
          "execution_count": 24,
          "metadata": {},
          "output_type": "execute_result"
        }
      ],
      "source": [
        "sub_can_sim = return_unsimilar(sub_can)\n",
        "sub_can_sim.head()"
      ]
    },
    {
      "cell_type": "code",
      "execution_count": 25,
      "metadata": {
        "colab": {
          "base_uri": "https://localhost:8080/"
        },
        "id": "QP1w-egVLbo6",
        "outputId": "806df12a-4887-49ed-c258-64d792d3cdb8"
      },
      "outputs": [
        {
          "data": {
            "text/plain": [
              "8.116932610668679"
            ]
          },
          "execution_count": 25,
          "metadata": {},
          "output_type": "execute_result"
        }
      ],
      "source": [
        "sub_can_sim.sort_values(by=\"lgk\", ascending=False)[\"lgk\"][:100].mean()"
      ]
    },
    {
      "cell_type": "code",
      "execution_count": 26,
      "metadata": {
        "colab": {
          "base_uri": "https://localhost:8080/",
          "height": 245
        },
        "id": "rJ5NKcSNIWZO",
        "outputId": "ccc662f1-15c2-4ba6-cfa6-cb611e2f0c1c"
      },
      "outputs": [
        {
          "data": {
            "text/html": [
              "<div>\n",
              "<style scoped>\n",
              "    .dataframe tbody tr th:only-of-type {\n",
              "        vertical-align: middle;\n",
              "    }\n",
              "\n",
              "    .dataframe tbody tr th {\n",
              "        vertical-align: top;\n",
              "    }\n",
              "\n",
              "    .dataframe thead th {\n",
              "        text-align: right;\n",
              "    }\n",
              "</style>\n",
              "<table border=\"1\" class=\"dataframe\">\n",
              "  <thead>\n",
              "    <tr style=\"text-align: right;\">\n",
              "      <th></th>\n",
              "      <th>id</th>\n",
              "      <th>smiles</th>\n",
              "      <th>lgK</th>\n",
              "    </tr>\n",
              "  </thead>\n",
              "  <tbody>\n",
              "    <tr>\n",
              "      <th>191</th>\n",
              "      <td>193</td>\n",
              "      <td>O=P(O)(O)CN(Cc1cccc(CN(CP(=O)(O)O)CP(=O)(O)O)n...</td>\n",
              "      <td>29.30</td>\n",
              "    </tr>\n",
              "    <tr>\n",
              "      <th>149</th>\n",
              "      <td>151</td>\n",
              "      <td>O=C(O)N1CCN(CP(=O)(O)O)CCN(C(=O)O)CCN(C(=O)O)CC1</td>\n",
              "      <td>28.60</td>\n",
              "    </tr>\n",
              "    <tr>\n",
              "      <th>150</th>\n",
              "      <td>152</td>\n",
              "      <td>O=C(O)CCP(=O)(O)CN1CCN(C(=O)O)CCN(C(=O)O)CCN(C...</td>\n",
              "      <td>25.50</td>\n",
              "    </tr>\n",
              "    <tr>\n",
              "      <th>136</th>\n",
              "      <td>137</td>\n",
              "      <td>O=P(O)(O)CN1CCN(CP(=O)(O)O)CCN(CP(=O)(O)O)CCN(...</td>\n",
              "      <td>24.78</td>\n",
              "    </tr>\n",
              "    <tr>\n",
              "      <th>71</th>\n",
              "      <td>72</td>\n",
              "      <td>O=C(O)CN1CCN(CC(=O)O)CCN(CC(=O)O)CCN(CC(=O)O)C...</td>\n",
              "      <td>24.26</td>\n",
              "    </tr>\n",
              "  </tbody>\n",
              "</table>\n",
              "</div>"
            ],
            "text/plain": [
              "      id                                             smiles    lgK\n",
              "191  193  O=P(O)(O)CN(Cc1cccc(CN(CP(=O)(O)O)CP(=O)(O)O)n...  29.30\n",
              "149  151   O=C(O)N1CCN(CP(=O)(O)O)CCN(C(=O)O)CCN(C(=O)O)CC1  28.60\n",
              "150  152  O=C(O)CCP(=O)(O)CN1CCN(C(=O)O)CCN(C(=O)O)CCN(C...  25.50\n",
              "136  137  O=P(O)(O)CN1CCN(CP(=O)(O)O)CCN(CP(=O)(O)O)CCN(...  24.78\n",
              "71    72  O=C(O)CN1CCN(CC(=O)O)CCN(CC(=O)O)CCN(CC(=O)O)C...  24.26"
            ]
          },
          "execution_count": 26,
          "metadata": {},
          "output_type": "execute_result"
        }
      ],
      "source": [
        "data.sort_values(by=\"lgK\", ascending=False).head()"
      ]
    },
    {
      "cell_type": "code",
      "execution_count": 27,
      "metadata": {
        "id": "bSit9SrfvSva"
      },
      "outputs": [],
      "source": [
        "from pred import CatLgKPredictor\n",
        "model = CatLgKPredictor(\"./mymodel\")"
      ]
    },
    {
      "cell_type": "code",
      "execution_count": 28,
      "metadata": {
        "id": "FXVoQWsB5iFq"
      },
      "outputs": [],
      "source": [
        "da = pd.read_csv(\"./logK.csv\")"
      ]
    },
    {
      "cell_type": "code",
      "execution_count": 53,
      "metadata": {
        "id": "5XmUf1Ci-QDO"
      },
      "outputs": [],
      "source": [
        "da = data.sort_values(by=\"lgK\", ascending=False).loc[data[\"lgK\"]>21.5]\n",
        "ind = []\n",
        "for i in da[\"smiles\"].tolist():\n",
        "    try:\n",
        "        predicted_log_k = model.predict_lgK(pd.DataFrame({\"smiles\": [sf.decoder(sf.encoder(i))]}))\n",
        "        ind.append(sf.encoder(i))\n",
        "    except Exception:\n",
        "        pass\n",
        "\n",
        "initial_population = ind\n",
        "\n",
        "#ind += chelates\n",
        "\n",
        "best_sub = pd.read_csv(\"./BBBEST_SUB.csv\", header=None)\n",
        "best_sub['lgk'] = model.predict_lgK(best_sub.rename(columns={0:\"smiles\"}))\n",
        "best_sub = best_sub.sort_values(by=\"lgk\", ascending=False).loc[best_sub[\"lgk\"]>21.5]\n",
        "ind_bs = []\n",
        "\n",
        "for i in best_sub[0].tolist():\n",
        "    try:\n",
        "        predicted_log_k = model.predict_lgK(pd.DataFrame({\"smiles\": [sf.decoder(sf.encoder(i))]}))\n",
        "        ind_bs.append(sf.encoder(i))\n",
        "    except Exception:\n",
        "        pass\n",
        "    \n",
        "ind+=ind_bs\n",
        "\n",
        "ind += ['O=C(O)CN(CC1)CCN(CC(=O)O)CCN(CC(=O)O)CCN1CC(=O)O']"
      ]
    },
    {
      "cell_type": "code",
      "execution_count": 54,
      "metadata": {},
      "outputs": [
        {
          "data": {
            "text/plain": [
              "26"
            ]
          },
          "execution_count": 54,
          "metadata": {},
          "output_type": "execute_result"
        }
      ],
      "source": [
        "len(ind)"
      ]
    },
    {
      "cell_type": "code",
      "execution_count": 55,
      "metadata": {},
      "outputs": [],
      "source": [
        "chelates = ['CC(=O)NC1=C2SSC=C2NC1=O', 'N[C@@H](CCN[C@@H](CCN1CC[C@H]1C(O)=O)C(O)=O)C(O)=O', 'OC(CS)C(O)CS','[C@@]1(OC=2C=C(O)C=C(O)C2C[C@H]1O)([H])C3=CC(=O)C(=C4C(=C3)C([C@]5(OC=6C=C(O)C=C(O)C6C[C@H]5O)[H])=CC(O)=C4O)O' 'OC(=O)CC(O)(CC(O)=O)C(O)=O', 'OC[C@@H](O)[C@@H](O)[C@H](O)[C@@H](O)C(O)=O', 'OC(=O)[C@@H](S)[C@@H](S)C(O)=O', 'Oc1c(I)cc(Cl)c2cccnc12', 'O=C(O)CN(CC1)CCN(CC(=O)O)CCN(CC(=O)O)CCN1CC(=O)O', 'OCC(S)CS', 'C1CSCCSCCS1', 'CC(C)(S)[C@@H](N)C(O)=O', 'C1=CN=C(C=C1)C1=CC=CC=N1', 'CCCCC(O)(Cn1cncn1)c1ccc(Cl)cc1Cl', '[H+].[Cl-].C[C@@H](CN1CC(=O)NC(=O)C1)N1CC(=O)NC(=O)C1', 'C(=S)(S)N(CC)CC', 'Cc1cc(-c2ccc(cc2)S(O)(=O)=O)c2ccc3c(cc(C)nc3c2n1)-c1ccc(cc1)S(O)(=O)=O', 'OC(=O)CN(CCOCCOCCN(CC(O)=O)CC(O)=O)CC(O)=O', 'OC(=O)CN(CCN(CC(O)=O)CC(O)=O)CC(O)=O', 'CC(O)(P(O)(O)=O)P(O)(O)=O', 'OC(=O)CNCC(O)=O', 'OP(O)(=O)CP(O)(O)=O', 'N1=C(C=CC2=CC=C3C=CC(=NC3=C12)C)C', 'OC(=O)CN1CCCN(CCN(CCCN(CC1)CC(O)=O)CC(O)=O)CC(O)=O', 'CN1C(=O)C(NC(C)=O)=C2SSC=C12', 'CCCCCCCc1cc(O)c2ccccc2n1']"
      ]
    },
    {
      "cell_type": "code",
      "execution_count": null,
      "metadata": {},
      "outputs": [],
      "source": []
    },
    {
      "cell_type": "code",
      "execution_count": 56,
      "metadata": {},
      "outputs": [
        {
          "data": {
            "text/plain": [
              "'[O][=P][Branch1][C][O][Branch1][C][O][C][N][Branch2][Ring2][Ring2][C][C][=C][C][=C][C][Branch2][Ring1][#Branch1][C][N][Branch1][#Branch2][C][P][=Branch1][C][=O][Branch1][C][O][O][C][P][=Branch1][C][=O][Branch1][C][O][O][=N][Ring2][Ring1][C][C][P][=Branch1][C][=O][Branch1][C][O][O]'"
            ]
          },
          "execution_count": 56,
          "metadata": {},
          "output_type": "execute_result"
        }
      ],
      "source": [
        "initial_population[0]"
      ]
    },
    {
      "cell_type": "code",
      "execution_count": 57,
      "metadata": {
        "id": "c003svIpAmzb"
      },
      "outputs": [
        {
          "data": {
            "text/plain": [
              "[]"
            ]
          },
          "execution_count": 57,
          "metadata": {},
          "output_type": "execute_result"
        }
      ],
      "source": [
        "from concurrent.futures import ThreadPoolExecutor\n",
        "from rdkit.Chem.Descriptors import MolWt\n",
        "\n",
        "valid_fragments = ['[O]', '[N]', '[C]', '[=O]', '[=N]', '[S]']\n",
        "\n",
        "def count_onps_atoms(mol):\n",
        "    \"\"\"Count the total number of O, N, P, and S atoms in a molecule.\"\"\"\n",
        "    atom_counts = {symbol: 0 for symbol in ['O', 'N', 'P', 'S']}\n",
        "    for atom in mol.GetAtoms():\n",
        "        symbol = atom.GetSymbol()\n",
        "        if symbol in atom_counts:\n",
        "            atom_counts[symbol] += 1\n",
        "    return sum(atom_counts.values())\n",
        "\n",
        "def evaluate_fitness(selfie, model):\n",
        "    try:\n",
        "        smi = sf.decoder(selfie)\n",
        "        mol = Chem.MolFromSmiles(smi)\n",
        "        if mol is None:\n",
        "            return -1  # Use negative fitness for invalid molecules\n",
        "        \n",
        "        # Additional check for the number of O, N, P, S atoms\n",
        "        onps_count = count_onps_atoms(mol)\n",
        "        if onps_count > 12:\n",
        "            return -1  # Penalize molecules with more than 12 O, N, P, S atoms\n",
        "        \n",
        "        predicted_log_k = model.predict_lgK(pd.DataFrame({\"smiles\": [smi]}))\n",
        "        \n",
        "        # You might want to further differentiate fitness for lgK > 21.\n",
        "        # This example simply returns the lgK value as the fitness score,\n",
        "        # but you could scale it or add additional criteria.\n",
        "        fitness_score = predicted_log_k\n",
        "    except Exception:\n",
        "        return -1\n",
        "    return fitness_score\n",
        "\n",
        "\n",
        "def parallel_evaluate_fitness(population, model):\n",
        "    with ThreadPoolExecutor() as executor:\n",
        "        scores = list(executor.map(evaluate_fitness, population, [model] * len(population)))\n",
        "    return scores\n",
        "\n",
        "def tournament_selection(population, scores, k=3):\n",
        "    # Ensure k does not exceed the size of the population\n",
        "    k = min(k, len(population))\n",
        "    \n",
        "    if len(population) == 0:\n",
        "        raise ValueError(\"Population is empty.\")\n",
        "    \n",
        "    selection_idxs = random.sample(range(len(population)), k)\n",
        "    selected_scores = [scores[idx] for idx in selection_idxs]\n",
        "    winner_idx = selection_idxs[selected_scores.index(max(selected_scores))]\n",
        "    return population[winner_idx]\n",
        "\n",
        "import selfies as sf\n",
        "import random\n",
        "\n",
        "def split_selfie_into_fragments(selfie):\n",
        "    \"\"\"Split a SELFIES string into a list of fragments (individual symbols).\"\"\"\n",
        "    return sf.split_selfies(selfie)\n",
        "\n",
        "def combine_fragments_into_selfie(fragments):\n",
        "    \"\"\"Combine a list of SELFIES fragments into a single SELFIES string.\"\"\"\n",
        "    return ''.join(fragments)\n",
        "\n",
        "def crossover_enhanced(parent1, parent2):\n",
        "    # Decode parents to SELFIES and split into fragments\n",
        "    fragments1 = list(sf.split_selfies(parent1))\n",
        "    fragments2 = list(sf.split_selfies(parent2))\n",
        "    common_fragments = set(fragments1) & set(fragments2)\n",
        "\n",
        "    if not common_fragments:\n",
        "        return parent1, parent2  # No common fragments\n",
        "\n",
        "    # Example: Swap multiple common fragments\n",
        "    to_swap = random.sample(list(common_fragments), min(len(common_fragments), 2))  # Swap up to 2 fragments\n",
        "    offspring1, offspring2 = fragments1[:], fragments2[:]  # Clone fragments list for manipulation\n",
        "\n",
        "    for fragment in to_swap:\n",
        "        idx1, idx2 = offspring1.index(fragment), offspring2.index(fragment)\n",
        "        offspring1[idx1], offspring2[idx2] = offspring2[idx2], offspring1[idx1]  # Perform the swap\n",
        "    \n",
        "    # Combine back into SELFIES strings\n",
        "    new_offspring1 = ''.join(offspring1)\n",
        "    new_offspring2 = ''.join(offspring2)\n",
        "    \n",
        "    return new_offspring1, new_offspring2\n",
        "\n",
        "def find_common_fragments(parent1, parent2):\n",
        "    \"\"\"Find common fragments between two SELFIES strings.\"\"\"\n",
        "    fragments1 = set(split_selfie_into_fragments(parent1))\n",
        "    fragments2 = set(split_selfie_into_fragments(parent2))\n",
        "    common = fragments1.intersection(fragments2)\n",
        "    return list(common) if common else None\n",
        "\n",
        "def crossover(parent1, parent2):\n",
        "    common_fragments = find_common_fragments(parent1, parent2)\n",
        "    if not common_fragments:\n",
        "        return parent1, parent2\n",
        "    fragment_to_swap = random.choice(common_fragments)\n",
        "    index1 = parent1.find(fragment_to_swap)\n",
        "    index2 = parent2.find(fragment_to_swap)\n",
        "    if index1 == -1 or index2 == -1:\n",
        "        return parent1, parent2\n",
        "    new_offspring1 = parent1[:index1] + parent2[index2:]\n",
        "    new_offspring2 = parent2[:index2] + parent1[index1:]\n",
        "    return new_offspring1, new_offspring2\n",
        "\n",
        "def find_common_fragments(parent1, parent2):\n",
        "    \"\"\"Identify common SELFIES fragments between two parent molecules.\"\"\"\n",
        "    fragments1 = set(sf.split_selfies(parent1))\n",
        "    fragments2 = set(sf.split_selfies(parent2))\n",
        "    return list(fragments1.intersection(fragments2))\n",
        "\n",
        "\n",
        "def mutate(selfie, mutation_rate=0.1):\n",
        "    if random.random() > mutation_rate:\n",
        "        return selfie  # No mutation occurs\n",
        "\n",
        "    fragments = list(sf.split_selfies(selfie))  # Convert generator to list\n",
        "    if not fragments:\n",
        "        return selfie  # No mutation if the SELFIES is invalid or empty\n",
        "\n",
        "    # Select a random fragment to replace\n",
        "    mutation_index = random.randint(0, len(fragments) - 1)\n",
        "\n",
        "    # Select a new random fragment from the valid list\n",
        "    new_fragment = random.choice(valid_fragments)\n",
        "    \n",
        "    # Replace the fragment\n",
        "    fragments[mutation_index] = new_fragment\n",
        "    mutated_selfie = ''.join(fragments)  # This results in a valid SELFIES string, no need to encode\n",
        "\n",
        "    # Decode to SMILES for chemical validity and molecular weight checks\n",
        "    smi = sf.decoder(mutated_selfie)  # Convert mutated SELFIES back to SMILES for RDKit processing\n",
        "    mol = Chem.MolFromSmiles(smi)\n",
        "\n",
        "    return mutated_selfie\n",
        "\n",
        "def run_ga(population, generations=40):\n",
        "    for generation in range(generations):\n",
        "        scores = parallel_evaluate_fitness(population, model)\n",
        "        # Ensure only valid scores are selected for breeding\n",
        "        valid_indices = [i for i, score in enumerate(scores) if score > -1]\n",
        "        valid_population = [population[i] for i in valid_indices]\n",
        "        valid_scores = [scores[i] for i in valid_indices]\n",
        "        \n",
        "        new_population = []\n",
        "        while len(new_population) < len(valid_population):\n",
        "            parent1 = tournament_selection(valid_population, valid_scores)\n",
        "            parent2 = tournament_selection(valid_population, valid_scores)\n",
        "            offspring1, offspring2 = crossover_enhanced(parent1, parent2)\n",
        "            offspring1 = mutate(offspring1)\n",
        "            offspring2 = mutate(offspring2)\n",
        "            new_population.extend([offspring1, offspring2])\n",
        "        population = new_population[:len(valid_population)]  # Adjust population size\n",
        "    return population\n",
        "\n",
        "run_ga(initial_population, 40)"
      ]
    },
    {
      "cell_type": "code",
      "execution_count": 58,
      "metadata": {
        "colab": {
          "base_uri": "https://localhost:8080/"
        },
        "id": "f2p8OCplUGTQ",
        "outputId": "4ecc7997-0539-4a33-ef96-a316bdc74976"
      },
      "outputs": [
        {
          "data": {
            "text/plain": [
              "26"
            ]
          },
          "execution_count": 58,
          "metadata": {},
          "output_type": "execute_result"
        }
      ],
      "source": [
        "len(ind)"
      ]
    },
    {
      "cell_type": "code",
      "execution_count": null,
      "metadata": {},
      "outputs": [],
      "source": []
    },
    {
      "cell_type": "code",
      "execution_count": 59,
      "metadata": {
        "id": "-IBm436XTBxZ"
      },
      "outputs": [
        {
          "data": {
            "text/plain": [
              "26"
            ]
          },
          "execution_count": 59,
          "metadata": {},
          "output_type": "execute_result"
        }
      ],
      "source": [
        "initial_population = ind\n",
        "\n",
        "len(initial_population)"
      ]
    },
    {
      "cell_type": "code",
      "execution_count": null,
      "metadata": {},
      "outputs": [],
      "source": []
    },
    {
      "cell_type": "code",
      "execution_count": 60,
      "metadata": {},
      "outputs": [],
      "source": [
        "initial_population += chelates"
      ]
    },
    {
      "cell_type": "code",
      "execution_count": 62,
      "metadata": {},
      "outputs": [],
      "source": [
        "initial_population += ['CP(O)CN1CCN(C(=O)O)CCN(C(=O)O)CCN(C(=O)O)CC1', 'O=C(O)CN1CCN(CC(=O)O)CCN(CC(=O)O)CCN(CC(=O)O)CC1', 'O=C(O)CN1CCN(CCO)CCN(CC(=O)O)CCN(CC(=O)O)CC1', 'O=CC(O)CN1CCN(C(=O)O)CCN(C(=O)O)CCN(C(=O)O)CC1', 'O=C(O)N1CCN(C[CH+](=O)O)CCN(C(=O)O)CCN(C(=O)O)CC1', 'O=C(O)CN1CCN(C(=O)O)CCN(C(=O)O)CCN(C(=O)O)CC1', 'NC(C=O)CN1CCN(C(=O)O)CCN(C(=O)O)CCN(C(=O)O)CC1', 'O=C(O)CN1CCN(CC(=O)O)CCN(C(=O)O)CCN(CC(=O)O)CC1', 'CCN1CCN(CP(=O)(O)O)CCN(C(=O)O)CCN(C(=O)O)CC1', 'O=C(O)N1CCN(CC(O)O)CCN(C(=O)O)CCN(C(=O)O)CC1', 'O=C(O)CN1CCN(C[CH]O)CCN(CC(=O)O)CCN(CC(=O)O)CC1', 'C[PH](=O)N1CCN(C(=O)O)CCN(C(=O)O)CCN(C(=O)O)CC1', 'O=C(O)N1CCN(C[C+](=O)O)CCN(C(=O)O)CCN(C(=O)O)CC1', 'O=CNCN1CCN(C(=O)O)CCN(C(=O)O)CCN(C(=O)O)CC1', 'O=CC(CO)CN1CCN(C(=O)O)CCN(C(=O)O)CCN(C(=O)O)CC1', 'CCCN1CCN(CP(=O)(O)O)CCN(C(=O)O)CCN(C(=O)O)CC1', 'O=C(O)CN1CCN(CC(=O)O)CCN(CC(O)O)CCN(CC(=O)O)CC1', 'O=CC(CCO)CN1CCN(C(=O)O)CCN(C(=O)O)CCN(C(=O)O)CC1', 'C=C(O)CN1CCN(CC(=O)O)CCN(CC(=O)O)CCN(CC(=O)O)CC1', 'CP(C=O)CN1CCN(C(=O)O)CCN(C(=O)O)CCN(C(=O)O)CC1', 'C=CC1CN(C(=O)O)CCN(C(=O)O)CCN(C(=O)O)CCN1C[CH+](=O)O', 'O=C(O)N1CCN(C=C(O)O)CCN(C(=O)O)CCN(C(=O)O)CC1', 'CP1(=O)CCN(C(=O)O)CCN(C(=O)O)CCN(CCNC(=O)O)C1', 'C=CC1CN(C(=O)O)CCN(C(=O)O)CCN(C(=O)O)CCN1CC(=O)O', 'C=C(O)COCN1CCN(C(=O)O)CCN(C(=O)O)CCN(C(=O)O)CC1', 'CN1CCN(CP(=O)(O)O)CCN(C(=O)O)CCN(C(=O)O)CC1', 'CC=CN1CCN(CP(=O)(O)O)CCN(C(=O)O)CCN(C(=O)O)CC1', 'CC(C)N1CCN(CP(=O)(O)O)CCN(C(=O)O)CCN(C(=O)O)CC1', 'O=C(O)CN1[CH]CN(CCO)CCN(CC(=O)O)CCN(CC(=O)O)CC1', 'O=C(O)CN1CCN(CCO)CCN(C(=O)O)CCN(CC(=O)O)CC1', 'NCC(C=O)CN1CCN(C(=O)O)CCN(C(=O)O)CCN(C(=O)O)CC1', 'O=CC(=CO)CN1CCN(C(=O)O)CCN(C(=O)O)CCN(C(=O)O)CC1', 'O=C(O)CN1C[CH]N(CCO)CCN(CC(=O)O)CCN(CC(=O)O)CC1', 'C=CC1CN(C(=O)O)CCN(C(=O)O)CCN(C(=O)O)CCN1C[18OH]', 'CCCCN1CCN(CP(=O)(O)O)CCN(C(=O)O)CCN(C(=O)O)CC1', 'O=C(O)CN1CCN(CCO)CCN(NC(=O)O)CCN(CC(=O)O)CC1', 'CP(=O)(O)C1CCN(C(=O)O)CCN(C(=O)O)CCN1CCNC=O', 'O=C(O)CN1[CH]CN(CC(=O)O)CCN(CCO)CCN(CC(=O)O)CC1', 'O=C(O)[CH]N1CCN(CC(=O)O)CCN(CC(=O)O)CCN(CC(=O)O)CC1', 'O=C(O)CN1[CH]CN(CC(=O)O)CCN(CC(=O)O)CCN(CCO)CC1', 'O=CN=CN1CCN(C(=O)O)CCN(C(=O)O)CCN(C(=O)O)CC1', 'O=C(O)CN1[CH]CN(CC(=O)O)CCN(CC(=O)O)CCN(CC(=O)O)CC1', 'O=C(O)[CH]N1CCN(CCO)CCN(CC(=O)O)CCN(CC(=O)O)CC1', 'O=C[CH-]CN1CCNN(C(=O)O)CCN(C(=O)O)CCN(C(=O)O)CC1', 'O=CCCN1CCNN(C(=O)O)CCN(C(=O)O)CCN(C(=O)O)CC1', 'C=CC1CN(C(=O)O)CCN(C(=O)O)CCN(C(=O)O)CCN1CNC=O', 'C=CC1CN(C(=O)O)CCN(C(=O)O)CCN(C(=O)O)CCN1CP=O', 'O=C(O)CN1CCN(CCO)CCN(CNC(=O)O)CCN(CC(=O)O)CC1', 'CC(=O)OCN1CCN(C(=O)O)CCN(C(=O)O)CCN(C(=O)O)CC1', 'CP(=O)(O)C1CCN(C(=O)O)CCN(C(=O)O)CN(CC=O)CCN1', 'CCC[CH]N1CCN(CP(=O)(O)O)CCN(C(=O)O)CCN(C(=O)O)CC1', 'CP(=O)(O)C1CCN(C(=O)O)CN(CC=O)CCN(C(=O)O)CCN1', 'O=C(O)CN1CCN(CCO)CCN(OC(=O)O)CCN(CC(=O)O)CC1', 'C=CC1CN(C(=O)O)CCN(C(=O)O)CCN(C(=O)O)CCN1CC(O)O', 'NCCC(C=O)CN1CCN(C(=O)O)CCN(C(=O)O)CCN(C(=O)O)CC1', 'CC(O)C(CCO)N1CCN(C(=O)O)CCN(C(=O)O)CCN(C(=O)O)CC1', 'O=C(O)CN1CCN(CC(=O)O)CCN(CC(=O)CO)CCN(CC(=O)O)CC1', 'O=COCN1CCN(CC(=O)O)CCN(CC(=O)O)CCN(CC(=O)O)CC1', 'O=CC#CN1CCN(C(=O)O)CCN(C(=O)O)CCN(C(=O)O)CC1', 'O=CCCCOCN1CCN(C(=O)O)CCN(C(=O)O)CCN(C(=O)O)CC1', 'O=CCCN1CCN(C(=O)O)CCN(C(=O)O)CCN(C(=O)O)CC1', 'O=C[CH-]CN1CCN(C(=O)O)CCN(C(=O)O)CCN(C(=O)O)CC1', 'O=C(O)CN1CCN(C=NO)CCN(CC(=O)O)CCN(CC(=O)O)CC1', 'O=COCN1CCN(C(=O)O)CCN(C(=O)O)CCN(C(=O)O)CC1', 'O=C(O)CN1CCN(C=CO)CCN(CC(=O)O)CCN(CC(=O)O)CC1', 'CCC=CN1CCN(CP(=O)(O)O)CCN(C(=O)O)CCN(C(=O)O)CC1', 'O=C[CH-]CCOCN1CCN(C(=O)O)CCN(C(=O)O)CCN(C(=O)O)CC1', 'O=CC#CCOCN1CCN(C(=O)O)CCN(C(=O)O)CCN(C(=O)O)CC1', 'O=C(O)N1CCN(C[C-](O)O)CCN(C(=O)O)CCN(C(=O)O)CC1', 'C=C1CCN(C(=O)O)CCN(C(=O)O)CCN1CCNCP(=O)(O)O', 'C=CC1CN(C(=O)O)CCN(C(=O)O)CCN(C(=O)O)CCN1C(=O)O', 'CC1N(CC(=O)O)CCN(CC(=O)O)CCN(CC(=O)O)CCN1CC(=O)O', 'O=C(O)CN1CCN(C=C(O)O)CCN(CC(=O)O)CCN(CC(=O)O)CC1', 'O=C1CCN(C(=O)O)CCN(C(=O)O)CCN(C(=O)O)CCNCOC1', 'C=C1CCN(CP(=O)(O)O)CCN(C(=O)O)CCN(C(=O)O)CCN1', 'O=PCN1CCN(C(=O)O)CCN(C(=O)O)CCC1CNC(=O)O', 'O=CC(CCCO)CN1CCN(C(=O)O)CCN(C(=O)O)CCN(C(=O)O)CC1', 'O=C(O)COCN1CCN(CCO)CCN(CC(=O)O)CCN(CC(=O)O)CC1', 'C=CC1CN(C(=O)O)CCN(C(=O)O)CCN(C(=O)O)CCN1COC=O', 'CCCCCN1CCN(CP(=O)(O)O)CCN(C(=O)O)CCN(C(=O)O)CC1', 'C=CC1CN(C(=O)O)CCN(C(=O)O)CCN(C(=O)O)CCN1C[C-](O)O', 'C=CC1CN(C(=O)O)CCN(C(=O)O)CCN(C(=O)O)CCN1CC=O', 'O=C[N-]CN1CCN(C(=O)O)CCN(C(=O)O)CCN(C(=O)O)CC1', 'O=CN=CN1CCN(C(=O)O)CCN(C(=O)O)CCC1CNC(=O)O', 'O=CCN1CCN(C(=O)O)CCN(C(=O)O)CCNC(OCC(=O)O)C1', 'O=C(O)N1CCN(CC(O)CCCCO)CCN(C(=O)O)CCN(C(=O)O)CC1', 'C=CC1CN(C(=O)O)CCN(C(=O)O)CCN(C(=O)O)CCN1C[CH-]C=O', 'C=CC1CN(C(=O)O)CCN(C(=O)O)CCN(C(=O)O)CCN1C#CC=O', 'O=CCN1CCN(C(=O)O)CCNC(OCC(=O)O)CCN(C(=O)O)C1', 'CC1N(CCO)CCN(CC(=O)O)CCN(CC(=O)O)CCN1CC(=O)O', 'CCN(CCN(CCN(CCNC(=O)O)CP(O)CC)C(=O)O)C(=O)O', 'C=C(O)C=C(C=O)CN1CCN(C(=O)O)CCN(C(=O)O)CCN(C(=O)O)CC1', 'O=C(O)CCOCNCCN1CCN(C(=O)O)CCN(C(=O)O)CCC1=O', 'O=C(O)N1CCN(C(=O)O)CCN2C(=O)C=CC2CN(C(=O)O)CC1', 'O=C(O)N1CCN(C(=O)O)CCN2C(OO)=C=CC2CN(C(=O)O)CC1', 'O=C(O)[C-]N1CCN(CC(=O)O)CCN(CC(=O)O)CCN(CC(=O)O)CC1', 'C=CC1CN(C(=O)O)CCN(C(=O)O)CCN(C(=O)O)CCN1C=NC=O', '[CH2-]CCP(O)CN(CCNC(=O)O)CCN(CCN(CC)C(=O)O)C(=O)O', 'CC(=O)N1CCN(CC(=O)O)CCN(CC(=O)O)CCN(CC(=O)O)CC1', 'O=C(O)CN1CCN(CC(=O)O)CC[S](CC(=O)O)CCN(CC(=O)O)CC1']"
      ]
    },
    {
      "cell_type": "code",
      "execution_count": 63,
      "metadata": {
        "colab": {
          "base_uri": "https://localhost:8080/"
        },
        "id": "bFRY3PhZR3-J",
        "outputId": "b4401a11-e949-4c64-bed8-130f9c47c6fb"
      },
      "outputs": [
        {
          "name": "stdout",
          "output_type": "stream",
          "text": [
            "1\n",
            "['O=C(O)CN1CCN(CC(=O)O)CCN(CC(=O)O)CCN(CC(=O)O)CC1']\n",
            "2\n",
            "['O=C(O)CN1CCN(CC(=O)O)CCN(CC(=O)O)CCN(CC(=O)O)CC1', 'O=C(O)CN1CCN(CCO)CCN(C[SH](O)O)CCN(CC(=O)O)CC1']\n",
            "3\n",
            "['O=C(O)CN1CCN(CC(=O)O)CCN(CC(=O)O)CCN(CC(=O)O)CC1', 'O=C(O)CN1CCN(CCO)CCN(C[SH](O)O)CCN(CC(=O)O)CC1', 'O=C(O)CN1CCN(CCO)CCN(CC(=O)O)CCN(CC(=O)O)CC1']\n",
            "4\n",
            "['O=C(O)CN1CCN(CC(=O)O)CCN(CC(=O)O)CCN(CC(=O)O)CC1', 'O=C(O)CN1CCN(CCCO)CCN(CC(=O)O)CCN(CC(=O)O)CC1', 'O=C(O)CN1CCN(CCO)CCN(C[SH](O)O)CCN(CC(=O)O)CC1', 'O=C(O)CN1CCN(CCO)CCN(CC(=O)O)CCN(CC(=O)O)CC1']\n",
            "5\n",
            "['O=C(O)CN1CCN(CCO)CCN(CC(=O)O)CCN(CC(=O)O)CC1', 'O=C(O)CN1CCN(CCCO)CCN(CC(=O)O)CCN(CC(=O)O)CC1', 'O=C(O)CN1CCN(CCO)CCN(C[SH](O)O)CCN(CC(=O)O)CC1', 'O=CN1CCNCC(=O)OCCN(CC(=O)O)CCN(CC(=O)O)CC1', 'O=C(O)CN1CCN(CC(=O)O)CCN(CC(=O)O)CCN(CC(=O)O)CC1']\n",
            "Object info sizes: 1 1234\n",
            "6\n",
            "['O=C(O)CN1CCN(CCO)CCN(CC(=O)O)CCN(CC(=O)O)CC1', 'O=C(O)CN1CCN(CCCO)CCN(CC(=O)O)CCN(CC(=O)O)CC1', 'CC(O)CN1CCN(CC(=O)O)CCN(CC(=O)O)CCN(CC(=O)O)CC1', 'O=C(O)CN1CCN(CCO)CCN(C[SH](O)O)CCN(CC(=O)O)CC1', 'O=CN1CCNCC(=O)OCCN(CC(=O)O)CCN(CC(=O)O)CC1', 'O=C(O)CN1CCN(CC(=O)O)CCN(CC(=O)O)CCN(CC(=O)O)CC1']\n",
            "8\n",
            "['O=C(O)CN1CCN(CCO)CCN(CC(=O)O)CCN(CC(=O)O)CC1', 'O=C(O)CN1CCN(CCCO)CCN(CC(=O)O)CCN(CC(=O)O)CC1', 'CC(O)CN1CCN(CC(=O)O)CCN(CC(=O)O)CCN(CC(=O)O)CC1', 'O=CCN(CCN(CCNCC(=O)O)CC(=O)O)CC(=O)O', 'O=C(O)CN1CCN(CCO)CCN(C[SH](O)O)CCN(CC(=O)O)CC1', 'O=C(O)CN1CCN(CC(=O)O)CCN(CC(=O)O)SCN(CC(=O)O)CC1', 'O=CN1CCNCC(=O)OCCN(CC(=O)O)CCN(CC(=O)O)CC1', 'O=C(O)CN1CCN(CC(=O)O)CCN(CC(=O)O)CCN(CC(=O)O)CC1']\n",
            "9\n",
            "['O=C(O)CN1CCN(CCO)CCN(CC(=O)O)CCN(CC(=O)O)CC1', 'O=C(O)CN1CCN(CCCO)CCN(CC(=O)O)CCN(CC(=O)O)CC1', 'CC(O)CN1CCN(CC(=O)O)CCN(CC(=O)O)CCN(CC(=O)O)CC1', 'NC(=O)CN1CCN(CC(=O)O)CCN(CC(=O)O)CCN(CC(=O)O)CC1', 'O=CCN(CCN(CCNCC(=O)O)CC(=O)O)CC(=O)O', 'O=C(O)CN1CCN(CCO)CCN(C[SH](O)O)CCN(CC(=O)O)CC1', 'O=C(O)CN1CCN(CC(=O)O)CCN(CC(=O)O)SCN(CC(=O)O)CC1', 'O=CN1CCNCC(=O)OCCN(CC(=O)O)CCN(CC(=O)O)CC1', 'O=C(O)CN1CCN(CC(=O)O)CCN(CC(=O)O)CCN(CC(=O)O)CC1']\n",
            "Object info sizes: 1 1234\n",
            "10\n",
            "['O=C(O)CN1CCN(CCO)CCN(CC(=O)O)CCN(CC(=O)O)CC1', 'O=C(O)CN1CCN(CCCO)CCN(CC(=O)O)CCN(CC(=O)O)CC1', 'CC(O)CN1CCN(CC(=O)O)CCN(CC(=O)O)CCN(CC(=O)O)CC1', 'NC(=O)CN1CCN(CC(=O)O)CCN(CC(=O)O)CCN(CC(=O)O)CC1', 'O=CCN(CCN(CCNCC(=O)O)CC(=O)O)CC(=O)O', 'O=C(O)CN1CCN(CC(=O)O)CCN(CN(O)O)CCN(CC(=O)O)CC1', 'O=C(O)CN1CCN(CCO)CCN(C[SH](O)O)CCN(CC(=O)O)CC1', 'O=C(O)CN1CCN(CC(=O)O)CCN(CC(=O)O)SCN(CC(=O)O)CC1', 'O=CN1CCNCC(=O)OCCN(CC(=O)O)CCN(CC(=O)O)CC1', 'O=C(O)CN1CCN(CC(=O)O)CCN(CC(=O)O)CCN(CC(=O)O)CC1']\n",
            "11\n",
            "['O=C(O)CN1CCN(CCO)CCN(CC(=O)O)CCN(CC(=O)O)CC1', 'O=C(O)CN1CCN(CCCO)CCN(CC(=O)O)CCN(CC(=O)O)CC1', 'CC(O)CN1CCN(CC(=O)O)CCN(CC(=O)O)CCN(CC(=O)O)CC1', 'NC(=O)CN1CCN(CC(=O)O)CCN(CC(=O)O)CCN(CC(=O)O)CC1', 'O=CCN(CCN(CCNCC(=O)O)CC(=O)O)CC(=O)O', 'O=C(O)CN1CCN(CC(=O)O)CCN(CN(O)O)CCN(CC(=O)O)CC1', 'O=C(O)CN1CCN(CC(=O)O)CCN(CC(=O)O)OCN(CC(=O)O)CC1', 'O=C(O)CN1CCN(CCO)CCN(C[SH](O)O)CCN(CC(=O)O)CC1', 'O=C(O)CN1CCN(CC(=O)O)CCN(CC(=O)O)SCN(CC(=O)O)CC1', 'O=CN1CCNCC(=O)OCCN(CC(=O)O)CCN(CC(=O)O)CC1', 'O=C(O)CN1CCN(CC(=O)O)CCN(CC(=O)O)CCN(CC(=O)O)CC1']\n",
            "12\n",
            "['O=C(O)CN1CCN(CCO)CCN(CC(=O)O)CCN(CC(=O)O)CC1', 'O=C(O)CN1CCN(CCCO)CCN(CC(=O)O)CCN(CC(=O)O)CC1', 'NC(=O)CN1CCN(CC(=O)O)CCN(CC(=O)O)CCN(CC(=O)O)CC1', 'CC(O)CN1CCN(CC(=O)O)CCN(CC(=O)O)CCN(CC(=O)O)CC1', 'O=CCN(CCN(CCNCC(=O)O)CC(=O)O)CC(=O)O', 'O=C(O)CN1CCN(CC(=O)O)CCN(CN(O)O)CCN(CC(=O)O)CC1', 'O=C(O)CN1CCN(CC(=O)O)CCN(CC(=O)O)OCN(CC(=O)O)CC1', 'O=C(O)CN1CCN(CCO)CCN(C[SH](O)O)CCN(CC(=O)O)CC1', 'O=C(O)CN1CCN(CC(=O)O)CCN(CC(=O)O)SCN(CC(=O)O)CC1', 'CCN(C=NC=O)CCN(CCN(CCO)CCNCC(=O)O)CC(=O)O', 'O=CN1CCNCC(=O)OCCN(CC(=O)O)CCN(CC(=O)O)CC1', 'O=C(O)CN1CCN(CC(=O)O)CCN(CC(=O)O)CCN(CC(=O)O)CC1']\n",
            "13\n",
            "['O=C(O)CN1CCN(CCO)CCN(CC(=O)O)CCN(CC(=O)O)CC1', 'O=C(O)CN1CCN(CCCO)CCN(CC(=O)O)CCN(CC(=O)O)CC1', 'NC(=O)CN1CCN(CC(=O)O)CCN(CC(=O)O)CCN(CC(=O)O)CC1', 'CC(O)CN1CCN(CC(=O)O)CCN(CC(=O)O)CCN(CC(=O)O)CC1', 'O=CCN1CCN(CC(=O)O)CCNC(C(=O)O)CCN(CC(=O)O)CC1', 'O=CCN(CCN(CCNCC(=O)O)CC(=O)O)CC(=O)O', 'O=C(O)CN1CCN(CC(=O)O)CCN(CN(O)O)CCN(CC(=O)O)CC1', 'O=C(O)CN1CCN(CC(=O)O)CCN(CC(=O)O)OCN(CC(=O)O)CC1', 'O=C(O)CN1CCN(CCO)CCN(C[SH](O)O)CCN(CC(=O)O)CC1', 'O=C(O)CN1CCN(CC(=O)O)CCN(CC(=O)O)SCN(CC(=O)O)CC1', 'CCN(C=NC=O)CCN(CCN(CCO)CCNCC(=O)O)CC(=O)O', 'O=CN1CCNCC(=O)OCCN(CC(=O)O)CCN(CC(=O)O)CC1', 'O=C(O)CN1CCN(CC(=O)O)CCN(CC(=O)O)CCN(CC(=O)O)CC1']\n",
            "Object info sizes: 1 1234\n",
            "14\n",
            "['O=C(O)CN1CCN(CCO)CCN(CC(=O)O)CCN(CC(=O)O)CC1', 'O=C(O)CN1CCN(CCCO)CCN(CC(=O)O)CCN(CC(=O)O)CC1', 'CC(O)CN1CCN(CC(=O)O)CCN(CC(=O)O)CCN(CC(=O)O)CC1', 'NC(=O)CN1CCN(CC(=O)O)CCN(CC(=O)O)CCN(CC(=O)O)CC1', 'O=C(O)CNCCOC(=O)CN1CCN(CC(=O)O)CCN(CC(=O)O)CC1', 'O=CCN(CCN(CCNCC(=O)O)CC(=O)O)CC(=O)O', 'O=C(O)CN1CCN(CC(=O)O)CCN(CN(O)O)CCN(CC(=O)O)CC1', 'O=C(O)CN1CCN(CC(=O)O)CCN(CC(=O)O)OCN(CC(=O)O)CC1', 'O=C(O)CN1CCN(CCO)CCN(C[SH](O)O)CCN(CC(=O)O)CC1', 'O=CN1CCNCC(=O)OCCN(CC(=O)O)CCN(CC(=O)O)CC1', 'O=C(O)CN1CCN(CC(=O)O)CCN(CC(=O)O)SCN(CC(=O)O)CC1', 'CCN(C=NC=O)CCN(CCN(CCO)CCNCC(=O)O)CC(=O)O', 'O=CCN1CCN(CC(=O)O)CCNC(C(=O)O)CCN(CC(=O)O)CC1', 'O=C(O)CN1CCN(CC(=O)O)CCN(CC(=O)O)CCN(CC(=O)O)CC1']\n",
            "Object info sizes: 1 1234\n"
          ]
        },
        {
          "ename": "KeyboardInterrupt",
          "evalue": "",
          "output_type": "error",
          "traceback": [
            "\u001b[1;31m---------------------------------------------------------------------------\u001b[0m",
            "\u001b[1;31mKeyboardInterrupt\u001b[0m                         Traceback (most recent call last)",
            "Cell \u001b[1;32mIn[63], line 4\u001b[0m\n\u001b[0;32m      2\u001b[0m subs_len \u001b[38;5;241m=\u001b[39m \u001b[38;5;241m0\u001b[39m\n\u001b[0;32m      3\u001b[0m \u001b[38;5;28;01mwhile\u001b[39;00m \u001b[38;5;28mlen\u001b[39m(subs) \u001b[38;5;241m<\u001b[39m\u001b[38;5;241m=\u001b[39m \u001b[38;5;241m100\u001b[39m:\n\u001b[1;32m----> 4\u001b[0m     final_population \u001b[38;5;241m=\u001b[39m \u001b[43mrun_ga\u001b[49m\u001b[43m(\u001b[49m\u001b[43minitial_population\u001b[49m\u001b[43m,\u001b[49m\u001b[43m \u001b[49m\u001b[43mgenerations\u001b[49m\u001b[38;5;241;43m=\u001b[39;49m\u001b[38;5;241;43m10\u001b[39;49m\u001b[43m)\u001b[49m\n\u001b[0;32m      5\u001b[0m     fin_pop \u001b[38;5;241m=\u001b[39m [sf\u001b[38;5;241m.\u001b[39mdecoder(i) \u001b[38;5;28;01mfor\u001b[39;00m i \u001b[38;5;129;01min\u001b[39;00m final_population]\n\u001b[0;32m      6\u001b[0m     fin_pop \u001b[38;5;241m=\u001b[39m \u001b[38;5;28mlist\u001b[39m(\u001b[38;5;28mset\u001b[39m(fin_pop))\n",
            "Cell \u001b[1;32mIn[57], line 142\u001b[0m, in \u001b[0;36mrun_ga\u001b[1;34m(population, generations)\u001b[0m\n\u001b[0;32m    140\u001b[0m \u001b[38;5;28;01mdef\u001b[39;00m \u001b[38;5;21mrun_ga\u001b[39m(population, generations\u001b[38;5;241m=\u001b[39m\u001b[38;5;241m40\u001b[39m):\n\u001b[0;32m    141\u001b[0m     \u001b[38;5;28;01mfor\u001b[39;00m generation \u001b[38;5;129;01min\u001b[39;00m \u001b[38;5;28mrange\u001b[39m(generations):\n\u001b[1;32m--> 142\u001b[0m         scores \u001b[38;5;241m=\u001b[39m \u001b[43mparallel_evaluate_fitness\u001b[49m\u001b[43m(\u001b[49m\u001b[43mpopulation\u001b[49m\u001b[43m,\u001b[49m\u001b[43m \u001b[49m\u001b[43mmodel\u001b[49m\u001b[43m)\u001b[49m\n\u001b[0;32m    143\u001b[0m         \u001b[38;5;66;03m# Ensure only valid scores are selected for breeding\u001b[39;00m\n\u001b[0;32m    144\u001b[0m         valid_indices \u001b[38;5;241m=\u001b[39m [i \u001b[38;5;28;01mfor\u001b[39;00m i, score \u001b[38;5;129;01min\u001b[39;00m \u001b[38;5;28menumerate\u001b[39m(scores) \u001b[38;5;28;01mif\u001b[39;00m score \u001b[38;5;241m>\u001b[39m \u001b[38;5;241m-\u001b[39m\u001b[38;5;241m1\u001b[39m]\n",
            "Cell \u001b[1;32mIn[57], line 40\u001b[0m, in \u001b[0;36mparallel_evaluate_fitness\u001b[1;34m(population, model)\u001b[0m\n\u001b[0;32m     38\u001b[0m \u001b[38;5;28;01mdef\u001b[39;00m \u001b[38;5;21mparallel_evaluate_fitness\u001b[39m(population, model):\n\u001b[0;32m     39\u001b[0m     \u001b[38;5;28;01mwith\u001b[39;00m ThreadPoolExecutor() \u001b[38;5;28;01mas\u001b[39;00m executor:\n\u001b[1;32m---> 40\u001b[0m         scores \u001b[38;5;241m=\u001b[39m \u001b[38;5;28mlist\u001b[39m(executor\u001b[38;5;241m.\u001b[39mmap(evaluate_fitness, population, [model] \u001b[38;5;241m*\u001b[39m \u001b[38;5;28mlen\u001b[39m(population)))\n\u001b[0;32m     41\u001b[0m     \u001b[38;5;28;01mreturn\u001b[39;00m scores\n",
            "File \u001b[1;32mc:\\Users\\user\\miniconda3\\envs\\py311\\Lib\\concurrent\\futures\\_base.py:619\u001b[0m, in \u001b[0;36mExecutor.map.<locals>.result_iterator\u001b[1;34m()\u001b[0m\n\u001b[0;32m    616\u001b[0m \u001b[38;5;28;01mwhile\u001b[39;00m fs:\n\u001b[0;32m    617\u001b[0m     \u001b[38;5;66;03m# Careful not to keep a reference to the popped future\u001b[39;00m\n\u001b[0;32m    618\u001b[0m     \u001b[38;5;28;01mif\u001b[39;00m timeout \u001b[38;5;129;01mis\u001b[39;00m \u001b[38;5;28;01mNone\u001b[39;00m:\n\u001b[1;32m--> 619\u001b[0m         \u001b[38;5;28;01myield\u001b[39;00m \u001b[43m_result_or_cancel\u001b[49m\u001b[43m(\u001b[49m\u001b[43mfs\u001b[49m\u001b[38;5;241;43m.\u001b[39;49m\u001b[43mpop\u001b[49m\u001b[43m(\u001b[49m\u001b[43m)\u001b[49m\u001b[43m)\u001b[49m\n\u001b[0;32m    620\u001b[0m     \u001b[38;5;28;01melse\u001b[39;00m:\n\u001b[0;32m    621\u001b[0m         \u001b[38;5;28;01myield\u001b[39;00m _result_or_cancel(fs\u001b[38;5;241m.\u001b[39mpop(), end_time \u001b[38;5;241m-\u001b[39m time\u001b[38;5;241m.\u001b[39mmonotonic())\n",
            "File \u001b[1;32mc:\\Users\\user\\miniconda3\\envs\\py311\\Lib\\concurrent\\futures\\_base.py:317\u001b[0m, in \u001b[0;36m_result_or_cancel\u001b[1;34m(***failed resolving arguments***)\u001b[0m\n\u001b[0;32m    315\u001b[0m \u001b[38;5;28;01mtry\u001b[39;00m:\n\u001b[0;32m    316\u001b[0m     \u001b[38;5;28;01mtry\u001b[39;00m:\n\u001b[1;32m--> 317\u001b[0m         \u001b[38;5;28;01mreturn\u001b[39;00m \u001b[43mfut\u001b[49m\u001b[38;5;241;43m.\u001b[39;49m\u001b[43mresult\u001b[49m\u001b[43m(\u001b[49m\u001b[43mtimeout\u001b[49m\u001b[43m)\u001b[49m\n\u001b[0;32m    318\u001b[0m     \u001b[38;5;28;01mfinally\u001b[39;00m:\n\u001b[0;32m    319\u001b[0m         fut\u001b[38;5;241m.\u001b[39mcancel()\n",
            "File \u001b[1;32mc:\\Users\\user\\miniconda3\\envs\\py311\\Lib\\concurrent\\futures\\_base.py:451\u001b[0m, in \u001b[0;36mFuture.result\u001b[1;34m(self, timeout)\u001b[0m\n\u001b[0;32m    448\u001b[0m \u001b[38;5;28;01melif\u001b[39;00m \u001b[38;5;28mself\u001b[39m\u001b[38;5;241m.\u001b[39m_state \u001b[38;5;241m==\u001b[39m FINISHED:\n\u001b[0;32m    449\u001b[0m     \u001b[38;5;28;01mreturn\u001b[39;00m \u001b[38;5;28mself\u001b[39m\u001b[38;5;241m.\u001b[39m__get_result()\n\u001b[1;32m--> 451\u001b[0m \u001b[38;5;28;43mself\u001b[39;49m\u001b[38;5;241;43m.\u001b[39;49m\u001b[43m_condition\u001b[49m\u001b[38;5;241;43m.\u001b[39;49m\u001b[43mwait\u001b[49m\u001b[43m(\u001b[49m\u001b[43mtimeout\u001b[49m\u001b[43m)\u001b[49m\n\u001b[0;32m    453\u001b[0m \u001b[38;5;28;01mif\u001b[39;00m \u001b[38;5;28mself\u001b[39m\u001b[38;5;241m.\u001b[39m_state \u001b[38;5;129;01min\u001b[39;00m [CANCELLED, CANCELLED_AND_NOTIFIED]:\n\u001b[0;32m    454\u001b[0m     \u001b[38;5;28;01mraise\u001b[39;00m CancelledError()\n",
            "File \u001b[1;32mc:\\Users\\user\\miniconda3\\envs\\py311\\Lib\\threading.py:327\u001b[0m, in \u001b[0;36mCondition.wait\u001b[1;34m(self, timeout)\u001b[0m\n\u001b[0;32m    325\u001b[0m \u001b[38;5;28;01mtry\u001b[39;00m:    \u001b[38;5;66;03m# restore state no matter what (e.g., KeyboardInterrupt)\u001b[39;00m\n\u001b[0;32m    326\u001b[0m     \u001b[38;5;28;01mif\u001b[39;00m timeout \u001b[38;5;129;01mis\u001b[39;00m \u001b[38;5;28;01mNone\u001b[39;00m:\n\u001b[1;32m--> 327\u001b[0m         \u001b[43mwaiter\u001b[49m\u001b[38;5;241;43m.\u001b[39;49m\u001b[43macquire\u001b[49m\u001b[43m(\u001b[49m\u001b[43m)\u001b[49m\n\u001b[0;32m    328\u001b[0m         gotit \u001b[38;5;241m=\u001b[39m \u001b[38;5;28;01mTrue\u001b[39;00m\n\u001b[0;32m    329\u001b[0m     \u001b[38;5;28;01melse\u001b[39;00m:\n",
            "\u001b[1;31mKeyboardInterrupt\u001b[0m: "
          ]
        }
      ],
      "source": [
        "subs = []\n",
        "subs_len = 0\n",
        "while len(subs) <= 100:\n",
        "    final_population = run_ga(initial_population, generations=10)\n",
        "    fin_pop = [sf.decoder(i) for i in final_population]\n",
        "    fin_pop = list(set(fin_pop))\n",
        "    \n",
        "    can_fin_pop = [Chem.MolToSmiles(Chem.MolFromSmiles(m), isomericSmiles=True, canonical=True) for m in fin_pop]\n",
        "    can_fin_pop = list(set(can_fin_pop))\n",
        "    \n",
        "    subs += can_fin_pop\n",
        "    \n",
        "    subs = list(set(subs))\n",
        "    \n",
        "    # logging\n",
        "    if subs_len != len(subs):\n",
        "        print(len(subs))\n",
        "        print(subs)\n",
        "        \n",
        "    subs_len = len(subs)\n",
        "    \n",
        "    pppps = model.predict_lgK(pd.DataFrame({'smiles': subs}))\n",
        "    \n",
        "    \n",
        "    for l in range(len(pppps)):\n",
        "        if pppps[l] > 22 and check_molecule(subs[l]):\n",
        "            initial_population.append(subs[l])\n",
        "\n",
        "subs"
      ]
    },
    {
      "cell_type": "code",
      "execution_count": 64,
      "metadata": {},
      "outputs": [
        {
          "name": "stdout",
          "output_type": "stream",
          "text": [
            "# 3. Суммарно не более 12 атомов элементов O, N, P, S\n",
            "# 3. Суммарно не более 12 атомов элементов O, N, P, S\n",
            "# 3. Суммарно не более 12 атомов элементов O, N, P, S\n"
          ]
        }
      ],
      "source": [
        "valid_smiles = []\n",
        "\n",
        "subs1 = subs#['O=C(O)N1CCN(CP(=O)(O)O)CCN(C(=O)O)CCN(C(=O)O)CC1']\n",
        "# valid checking\n",
        "for sm in subs1:\n",
        "    if check_molecule(sm):\n",
        "        valid_smiles.append(sm)\n",
        "    else:\n",
        "        #print('Failed check')\n",
        "        pass"
      ]
    },
    {
      "cell_type": "code",
      "execution_count": 65,
      "metadata": {},
      "outputs": [
        {
          "data": {
            "text/plain": [
              "['O=C(O)CN1CCN(CCO)CCN(CC(=O)O)CCN(CC(=O)O)CC1',\n",
              " 'O=C(O)CN1CCN(CCCO)CCN(CC(=O)O)CCN(CC(=O)O)CC1',\n",
              " 'NC(=O)CN1CCN(CC(=O)O)CCN(CC(=O)O)CCN(CC(=O)O)CC1',\n",
              " 'CC(O)CN1CCN(CC(=O)O)CCN(CC(=O)O)CCN(CC(=O)O)CC1',\n",
              " 'O=CCN1CCN(CC(=O)O)CCNC(C(=O)O)CCN(CC(=O)O)CC1',\n",
              " 'O=C(O)CNCCOC(=O)CN1CCN(CC(=O)O)CCN(CC(=O)O)CC1',\n",
              " 'O=CCN(CCN(CCNCC(=O)O)CC(=O)O)CC(=O)O',\n",
              " 'O=C(O)CN1CCN(CCO)CCN(C[SH](O)O)CCN(CC(=O)O)CC1',\n",
              " 'CCN(C=NC=O)CCN(CCN(CCO)CCNCC(=O)O)CC(=O)O',\n",
              " 'O=CN1CCNCC(=O)OCCN(CC(=O)O)CCN(CC(=O)O)CC1',\n",
              " 'O=C(O)CN1CCN(CC(=O)O)CCN(CC(=O)O)CCN(CC(=O)O)CC1']"
            ]
          },
          "execution_count": 65,
          "metadata": {},
          "output_type": "execute_result"
        }
      ],
      "source": [
        "valid_smiles"
      ]
    },
    {
      "cell_type": "code",
      "execution_count": null,
      "metadata": {},
      "outputs": [],
      "source": []
    },
    {
      "cell_type": "code",
      "execution_count": 66,
      "metadata": {
        "colab": {
          "base_uri": "https://localhost:8080/"
        },
        "id": "ExoW0VvYWTo7",
        "outputId": "1626496e-6c26-40f5-e008-4abfecd934ba"
      },
      "outputs": [
        {
          "data": {
            "text/plain": [
              "(18.911798163382976, 23.66438330270838, 13.623486440278008)"
            ]
          },
          "execution_count": 66,
          "metadata": {},
          "output_type": "execute_result"
        }
      ],
      "source": [
        "test = subs1\n",
        "\n",
        "test_preds = model.predict_lgK(pd.DataFrame({'smiles': test}))\n",
        "\n",
        "np.mean(test_preds), max(test_preds), min(test_preds)"
      ]
    },
    {
      "cell_type": "code",
      "execution_count": 67,
      "metadata": {},
      "outputs": [
        {
          "data": {
            "text/plain": [
              "array([23.18534941, 23.16037854, 21.57022254, 21.84365797, 14.93955052,\n",
              "       15.964637  , 15.8272425 , 20.93944664, 18.49318416, 18.22774056,\n",
              "       18.62562116, 14.70027353, 13.62348644, 23.6643833 ])"
            ]
          },
          "execution_count": 67,
          "metadata": {},
          "output_type": "execute_result"
        }
      ],
      "source": [
        "test_preds"
      ]
    },
    {
      "cell_type": "code",
      "execution_count": 68,
      "metadata": {},
      "outputs": [
        {
          "data": {
            "text/plain": [
              "(22.68479835487126, 23.66438330270838, 21.570222539110226)"
            ]
          },
          "execution_count": 68,
          "metadata": {},
          "output_type": "execute_result"
        }
      ],
      "source": [
        "test = subs1\n",
        "\n",
        "test_preds = model.predict_lgK(pd.DataFrame({'smiles': test}))\n",
        "p, predds = [], []\n",
        "for s in range(len(test)):\n",
        "    if test_preds[s] > 21:\n",
        "        p.append(test[s])\n",
        "        predds.append(test_preds[s])\n",
        "\n",
        "np.mean(predds), max(predds), min(predds)"
      ]
    },
    {
      "cell_type": "code",
      "execution_count": 69,
      "metadata": {},
      "outputs": [
        {
          "data": {
            "text/html": [
              "<div>\n",
              "<style scoped>\n",
              "    .dataframe tbody tr th:only-of-type {\n",
              "        vertical-align: middle;\n",
              "    }\n",
              "\n",
              "    .dataframe tbody tr th {\n",
              "        vertical-align: top;\n",
              "    }\n",
              "\n",
              "    .dataframe thead th {\n",
              "        text-align: right;\n",
              "    }\n",
              "</style>\n",
              "<table border=\"1\" class=\"dataframe\">\n",
              "  <thead>\n",
              "    <tr style=\"text-align: right;\">\n",
              "      <th></th>\n",
              "      <th>smiles</th>\n",
              "      <th>lgK</th>\n",
              "    </tr>\n",
              "  </thead>\n",
              "  <tbody>\n",
              "    <tr>\n",
              "      <th>0</th>\n",
              "      <td>O=C(O)CN1CCN(CCO)CCN(CC(=O)O)CCN(CC(=O)O)CC1</td>\n",
              "      <td>23.185349</td>\n",
              "    </tr>\n",
              "    <tr>\n",
              "      <th>1</th>\n",
              "      <td>O=C(O)CN1CCN(CCCO)CCN(CC(=O)O)CCN(CC(=O)O)CC1</td>\n",
              "      <td>23.160379</td>\n",
              "    </tr>\n",
              "    <tr>\n",
              "      <th>2</th>\n",
              "      <td>NC(=O)CN1CCN(CC(=O)O)CCN(CC(=O)O)CCN(CC(=O)O)CC1</td>\n",
              "      <td>21.570223</td>\n",
              "    </tr>\n",
              "    <tr>\n",
              "      <th>3</th>\n",
              "      <td>CC(O)CN1CCN(CC(=O)O)CCN(CC(=O)O)CCN(CC(=O)O)CC1</td>\n",
              "      <td>21.843658</td>\n",
              "    </tr>\n",
              "    <tr>\n",
              "      <th>4</th>\n",
              "      <td>O=C(O)CN1CCN(CC(=O)O)CCN(CC(=O)O)CCN(CC(=O)O)CC1</td>\n",
              "      <td>23.664383</td>\n",
              "    </tr>\n",
              "  </tbody>\n",
              "</table>\n",
              "</div>"
            ],
            "text/plain": [
              "                                             smiles        lgK\n",
              "0      O=C(O)CN1CCN(CCO)CCN(CC(=O)O)CCN(CC(=O)O)CC1  23.185349\n",
              "1     O=C(O)CN1CCN(CCCO)CCN(CC(=O)O)CCN(CC(=O)O)CC1  23.160379\n",
              "2  NC(=O)CN1CCN(CC(=O)O)CCN(CC(=O)O)CCN(CC(=O)O)CC1  21.570223\n",
              "3   CC(O)CN1CCN(CC(=O)O)CCN(CC(=O)O)CCN(CC(=O)O)CC1  21.843658\n",
              "4  O=C(O)CN1CCN(CC(=O)O)CCN(CC(=O)O)CCN(CC(=O)O)CC1  23.664383"
            ]
          },
          "execution_count": 69,
          "metadata": {},
          "output_type": "execute_result"
        }
      ],
      "source": [
        "generated_df = pd.DataFrame({'smiles': p, 'lgK': predds})\n",
        "generated_df"
      ]
    },
    {
      "cell_type": "code",
      "execution_count": 70,
      "metadata": {},
      "outputs": [],
      "source": [
        "generated_df.to_csv(f'./generated/semivalid_enhanced_{generated_df[\"lgK\"].mean()}.csv', index=False)"
      ]
    },
    {
      "cell_type": "code",
      "execution_count": 71,
      "metadata": {},
      "outputs": [
        {
          "data": {
            "text/html": [
              "<div>\n",
              "<style scoped>\n",
              "    .dataframe tbody tr th:only-of-type {\n",
              "        vertical-align: middle;\n",
              "    }\n",
              "\n",
              "    .dataframe tbody tr th {\n",
              "        vertical-align: top;\n",
              "    }\n",
              "\n",
              "    .dataframe thead th {\n",
              "        text-align: right;\n",
              "    }\n",
              "</style>\n",
              "<table border=\"1\" class=\"dataframe\">\n",
              "  <thead>\n",
              "    <tr style=\"text-align: right;\">\n",
              "      <th></th>\n",
              "      <th>smiles</th>\n",
              "    </tr>\n",
              "  </thead>\n",
              "  <tbody>\n",
              "    <tr>\n",
              "      <th>0</th>\n",
              "      <td>CP(O)CN1CCN(C(=O)O)CCN(C(=O)O)CCN(C(=O)O)CC1</td>\n",
              "    </tr>\n",
              "    <tr>\n",
              "      <th>1</th>\n",
              "      <td>O=C(O)CN1CCN(CC(=O)O)CCN(CC(=O)O)CCN(CC(=O)O)CC1</td>\n",
              "    </tr>\n",
              "    <tr>\n",
              "      <th>2</th>\n",
              "      <td>O=C(O)CN1CCN(CCO)CCN(CC(=O)O)CCN(CC(=O)O)CC1</td>\n",
              "    </tr>\n",
              "    <tr>\n",
              "      <th>3</th>\n",
              "      <td>O=CC(O)CN1CCN(C(=O)O)CCN(C(=O)O)CCN(C(=O)O)CC1</td>\n",
              "    </tr>\n",
              "    <tr>\n",
              "      <th>4</th>\n",
              "      <td>O=C(O)N1CCN(C[CH+](=O)O)CCN(C(=O)O)CCN(C(=O)O)CC1</td>\n",
              "    </tr>\n",
              "  </tbody>\n",
              "</table>\n",
              "</div>"
            ],
            "text/plain": [
              "                                              smiles\n",
              "0       CP(O)CN1CCN(C(=O)O)CCN(C(=O)O)CCN(C(=O)O)CC1\n",
              "1   O=C(O)CN1CCN(CC(=O)O)CCN(CC(=O)O)CCN(CC(=O)O)CC1\n",
              "2       O=C(O)CN1CCN(CCO)CCN(CC(=O)O)CCN(CC(=O)O)CC1\n",
              "3     O=CC(O)CN1CCN(C(=O)O)CCN(C(=O)O)CCN(C(=O)O)CC1\n",
              "4  O=C(O)N1CCN(C[CH+](=O)O)CCN(C(=O)O)CCN(C(=O)O)CC1"
            ]
          },
          "execution_count": 71,
          "metadata": {},
          "output_type": "execute_result"
        }
      ],
      "source": [
        "ggg = pd.read_csv('./generated/subasd_20.920576920325306.csv', names=['smiles'])\n",
        "ggg.head()"
      ]
    },
    {
      "cell_type": "code",
      "execution_count": 61,
      "metadata": {},
      "outputs": [
        {
          "name": "stdout",
          "output_type": "stream",
          "text": [
            "['CP(O)CN1CCN(C(=O)O)CCN(C(=O)O)CCN(C(=O)O)CC1', 'O=C(O)CN1CCN(CC(=O)O)CCN(CC(=O)O)CCN(CC(=O)O)CC1', 'O=C(O)CN1CCN(CCO)CCN(CC(=O)O)CCN(CC(=O)O)CC1', 'O=CC(O)CN1CCN(C(=O)O)CCN(C(=O)O)CCN(C(=O)O)CC1', 'O=C(O)N1CCN(C[CH+](=O)O)CCN(C(=O)O)CCN(C(=O)O)CC1', 'O=C(O)CN1CCN(C(=O)O)CCN(C(=O)O)CCN(C(=O)O)CC1', 'NC(C=O)CN1CCN(C(=O)O)CCN(C(=O)O)CCN(C(=O)O)CC1', 'O=C(O)CN1CCN(CC(=O)O)CCN(C(=O)O)CCN(CC(=O)O)CC1', 'CCN1CCN(CP(=O)(O)O)CCN(C(=O)O)CCN(C(=O)O)CC1', 'O=C(O)N1CCN(CC(O)O)CCN(C(=O)O)CCN(C(=O)O)CC1', 'O=C(O)CN1CCN(C[CH]O)CCN(CC(=O)O)CCN(CC(=O)O)CC1', 'C[PH](=O)N1CCN(C(=O)O)CCN(C(=O)O)CCN(C(=O)O)CC1', 'O=C(O)N1CCN(C[C+](=O)O)CCN(C(=O)O)CCN(C(=O)O)CC1', 'O=CNCN1CCN(C(=O)O)CCN(C(=O)O)CCN(C(=O)O)CC1', 'O=CC(CO)CN1CCN(C(=O)O)CCN(C(=O)O)CCN(C(=O)O)CC1', 'CCCN1CCN(CP(=O)(O)O)CCN(C(=O)O)CCN(C(=O)O)CC1', 'O=C(O)CN1CCN(CC(=O)O)CCN(CC(O)O)CCN(CC(=O)O)CC1', 'O=CC(CCO)CN1CCN(C(=O)O)CCN(C(=O)O)CCN(C(=O)O)CC1', 'C=C(O)CN1CCN(CC(=O)O)CCN(CC(=O)O)CCN(CC(=O)O)CC1', 'CP(C=O)CN1CCN(C(=O)O)CCN(C(=O)O)CCN(C(=O)O)CC1', 'C=CC1CN(C(=O)O)CCN(C(=O)O)CCN(C(=O)O)CCN1C[CH+](=O)O', 'O=C(O)N1CCN(C=C(O)O)CCN(C(=O)O)CCN(C(=O)O)CC1', 'CP1(=O)CCN(C(=O)O)CCN(C(=O)O)CCN(CCNC(=O)O)C1', 'C=CC1CN(C(=O)O)CCN(C(=O)O)CCN(C(=O)O)CCN1CC(=O)O', 'C=C(O)COCN1CCN(C(=O)O)CCN(C(=O)O)CCN(C(=O)O)CC1', 'CN1CCN(CP(=O)(O)O)CCN(C(=O)O)CCN(C(=O)O)CC1', 'CC=CN1CCN(CP(=O)(O)O)CCN(C(=O)O)CCN(C(=O)O)CC1', 'CC(C)N1CCN(CP(=O)(O)O)CCN(C(=O)O)CCN(C(=O)O)CC1', 'O=C(O)CN1[CH]CN(CCO)CCN(CC(=O)O)CCN(CC(=O)O)CC1', 'O=C(O)CN1CCN(CCO)CCN(C(=O)O)CCN(CC(=O)O)CC1', 'NCC(C=O)CN1CCN(C(=O)O)CCN(C(=O)O)CCN(C(=O)O)CC1', 'O=CC(=CO)CN1CCN(C(=O)O)CCN(C(=O)O)CCN(C(=O)O)CC1', 'O=C(O)CN1C[CH]N(CCO)CCN(CC(=O)O)CCN(CC(=O)O)CC1', 'C=CC1CN(C(=O)O)CCN(C(=O)O)CCN(C(=O)O)CCN1C[18OH]', 'CCCCN1CCN(CP(=O)(O)O)CCN(C(=O)O)CCN(C(=O)O)CC1', 'O=C(O)CN1CCN(CCO)CCN(NC(=O)O)CCN(CC(=O)O)CC1', 'CP(=O)(O)C1CCN(C(=O)O)CCN(C(=O)O)CCN1CCNC=O', 'O=C(O)CN1[CH]CN(CC(=O)O)CCN(CCO)CCN(CC(=O)O)CC1', 'O=C(O)[CH]N1CCN(CC(=O)O)CCN(CC(=O)O)CCN(CC(=O)O)CC1', 'O=C(O)CN1[CH]CN(CC(=O)O)CCN(CC(=O)O)CCN(CCO)CC1', 'O=CN=CN1CCN(C(=O)O)CCN(C(=O)O)CCN(C(=O)O)CC1', 'O=C(O)CN1[CH]CN(CC(=O)O)CCN(CC(=O)O)CCN(CC(=O)O)CC1', 'O=C(O)[CH]N1CCN(CCO)CCN(CC(=O)O)CCN(CC(=O)O)CC1', 'O=C[CH-]CN1CCNN(C(=O)O)CCN(C(=O)O)CCN(C(=O)O)CC1', 'O=CCCN1CCNN(C(=O)O)CCN(C(=O)O)CCN(C(=O)O)CC1', 'C=CC1CN(C(=O)O)CCN(C(=O)O)CCN(C(=O)O)CCN1CNC=O', 'C=CC1CN(C(=O)O)CCN(C(=O)O)CCN(C(=O)O)CCN1CP=O', 'O=C(O)CN1CCN(CCO)CCN(CNC(=O)O)CCN(CC(=O)O)CC1', 'CC(=O)OCN1CCN(C(=O)O)CCN(C(=O)O)CCN(C(=O)O)CC1', 'CP(=O)(O)C1CCN(C(=O)O)CCN(C(=O)O)CN(CC=O)CCN1', 'CCC[CH]N1CCN(CP(=O)(O)O)CCN(C(=O)O)CCN(C(=O)O)CC1', 'CP(=O)(O)C1CCN(C(=O)O)CN(CC=O)CCN(C(=O)O)CCN1', 'O=C(O)CN1CCN(CCO)CCN(OC(=O)O)CCN(CC(=O)O)CC1', 'C=CC1CN(C(=O)O)CCN(C(=O)O)CCN(C(=O)O)CCN1CC(O)O', 'NCCC(C=O)CN1CCN(C(=O)O)CCN(C(=O)O)CCN(C(=O)O)CC1', 'CC(O)C(CCO)N1CCN(C(=O)O)CCN(C(=O)O)CCN(C(=O)O)CC1', 'O=C(O)CN1CCN(CC(=O)O)CCN(CC(=O)CO)CCN(CC(=O)O)CC1', 'O=COCN1CCN(CC(=O)O)CCN(CC(=O)O)CCN(CC(=O)O)CC1', 'O=CC#CN1CCN(C(=O)O)CCN(C(=O)O)CCN(C(=O)O)CC1', 'O=CCCCOCN1CCN(C(=O)O)CCN(C(=O)O)CCN(C(=O)O)CC1', 'O=CCCN1CCN(C(=O)O)CCN(C(=O)O)CCN(C(=O)O)CC1', 'O=C[CH-]CN1CCN(C(=O)O)CCN(C(=O)O)CCN(C(=O)O)CC1', 'O=C(O)CN1CCN(C=NO)CCN(CC(=O)O)CCN(CC(=O)O)CC1', 'O=COCN1CCN(C(=O)O)CCN(C(=O)O)CCN(C(=O)O)CC1', 'O=C(O)CN1CCN(C=CO)CCN(CC(=O)O)CCN(CC(=O)O)CC1', 'CCC=CN1CCN(CP(=O)(O)O)CCN(C(=O)O)CCN(C(=O)O)CC1', 'O=C[CH-]CCOCN1CCN(C(=O)O)CCN(C(=O)O)CCN(C(=O)O)CC1', 'O=CC#CCOCN1CCN(C(=O)O)CCN(C(=O)O)CCN(C(=O)O)CC1', 'O=C(O)N1CCN(C[C-](O)O)CCN(C(=O)O)CCN(C(=O)O)CC1', 'C=C1CCN(C(=O)O)CCN(C(=O)O)CCN1CCNCP(=O)(O)O', 'C=CC1CN(C(=O)O)CCN(C(=O)O)CCN(C(=O)O)CCN1C(=O)O', 'CC1N(CC(=O)O)CCN(CC(=O)O)CCN(CC(=O)O)CCN1CC(=O)O', 'O=C(O)CN1CCN(C=C(O)O)CCN(CC(=O)O)CCN(CC(=O)O)CC1', 'O=C1CCN(C(=O)O)CCN(C(=O)O)CCN(C(=O)O)CCNCOC1', 'C=C1CCN(CP(=O)(O)O)CCN(C(=O)O)CCN(C(=O)O)CCN1', 'O=PCN1CCN(C(=O)O)CCN(C(=O)O)CCC1CNC(=O)O', 'O=CC(CCCO)CN1CCN(C(=O)O)CCN(C(=O)O)CCN(C(=O)O)CC1', 'O=C(O)COCN1CCN(CCO)CCN(CC(=O)O)CCN(CC(=O)O)CC1', 'C=CC1CN(C(=O)O)CCN(C(=O)O)CCN(C(=O)O)CCN1COC=O', 'CCCCCN1CCN(CP(=O)(O)O)CCN(C(=O)O)CCN(C(=O)O)CC1', 'C=CC1CN(C(=O)O)CCN(C(=O)O)CCN(C(=O)O)CCN1C[C-](O)O', 'C=CC1CN(C(=O)O)CCN(C(=O)O)CCN(C(=O)O)CCN1CC=O', 'O=C[N-]CN1CCN(C(=O)O)CCN(C(=O)O)CCN(C(=O)O)CC1', 'O=CN=CN1CCN(C(=O)O)CCN(C(=O)O)CCC1CNC(=O)O', 'O=CCN1CCN(C(=O)O)CCN(C(=O)O)CCNC(OCC(=O)O)C1', 'O=C(O)N1CCN(CC(O)CCCCO)CCN(C(=O)O)CCN(C(=O)O)CC1', 'C=CC1CN(C(=O)O)CCN(C(=O)O)CCN(C(=O)O)CCN1C[CH-]C=O', 'C=CC1CN(C(=O)O)CCN(C(=O)O)CCN(C(=O)O)CCN1C#CC=O', 'O=CCN1CCN(C(=O)O)CCNC(OCC(=O)O)CCN(C(=O)O)C1', 'CC1N(CCO)CCN(CC(=O)O)CCN(CC(=O)O)CCN1CC(=O)O', 'CCN(CCN(CCN(CCNC(=O)O)CP(O)CC)C(=O)O)C(=O)O', 'C=C(O)C=C(C=O)CN1CCN(C(=O)O)CCN(C(=O)O)CCN(C(=O)O)CC1', 'O=C(O)CCOCNCCN1CCN(C(=O)O)CCN(C(=O)O)CCC1=O', 'O=C(O)N1CCN(C(=O)O)CCN2C(=O)C=CC2CN(C(=O)O)CC1', 'O=C(O)N1CCN(C(=O)O)CCN2C(OO)=C=CC2CN(C(=O)O)CC1', 'O=C(O)[C-]N1CCN(CC(=O)O)CCN(CC(=O)O)CCN(CC(=O)O)CC1', 'C=CC1CN(C(=O)O)CCN(C(=O)O)CCN(C(=O)O)CCN1C=NC=O', '[CH2-]CCP(O)CN(CCNC(=O)O)CCN(CCN(CC)C(=O)O)C(=O)O', 'CC(=O)N1CCN(CC(=O)O)CCN(CC(=O)O)CCN(CC(=O)O)CC1', 'O=C(O)CN1CCN(CC(=O)O)CC[S](CC(=O)O)CCN(CC(=O)O)CC1']\n"
          ]
        }
      ],
      "source": [
        "print(ggg['smiles'].tolist())"
      ]
    },
    {
      "cell_type": "code",
      "execution_count": 47,
      "metadata": {},
      "outputs": [
        {
          "name": "stdout",
          "output_type": "stream",
          "text": [
            "O=C(O)CN1CCN(CCCO)CCN(CC(=O)O)CCN(CC(=O)O)CC1\n",
            "N=C(O)CN1CCN(CC(=O)O)CCN(CC(=O)O)CCN(CC(=O)O)CC1\n",
            "CC(O)CN1CCN(CC(=O)O)CCN(CC(=O)O)CCN(CC(=O)O)CC1\n"
          ]
        }
      ],
      "source": [
        "for g in generated_df['smiles']:\n",
        "    if g not in ggg['smiles'].tolist():\n",
        "        print(g)"
      ]
    },
    {
      "cell_type": "code",
      "execution_count": 48,
      "metadata": {},
      "outputs": [],
      "source": [
        "smlist = ggg.smiles.tolist()\n",
        "smlist[-1] = 'CC(O)CN1CCN(CC(=O)O)CCN(CC(=O)O)CCN(CC(=O)O)CC1'\n",
        "smlist[-2] = 'N=C(O)CN1CCN(CC(=O)O)CCN(CC(=O)O)CCN(CC(=O)O)CC1'\n",
        "smlist[-3] = 'O=C(O)CN1CCN(CCCO)CCN(CC(=O)O)CCN(CC(=O)O)CC1'"
      ]
    },
    {
      "cell_type": "code",
      "execution_count": 49,
      "metadata": {},
      "outputs": [],
      "source": [
        "pd.DataFrame({'smiles': smlist})['smiles'].to_csv('./qqqqq.csv', index=False, header=None)"
      ]
    },
    {
      "cell_type": "code",
      "execution_count": null,
      "metadata": {},
      "outputs": [],
      "source": []
    }
  ],
  "metadata": {
    "colab": {
      "provenance": []
    },
    "kernelspec": {
      "display_name": "Python 3",
      "language": "python",
      "name": "python3"
    },
    "language_info": {
      "codemirror_mode": {
        "name": "ipython",
        "version": 3
      },
      "file_extension": ".py",
      "mimetype": "text/x-python",
      "name": "python",
      "nbconvert_exporter": "python",
      "pygments_lexer": "ipython3",
      "version": "3.11.8"
    }
  },
  "nbformat": 4,
  "nbformat_minor": 0
}
