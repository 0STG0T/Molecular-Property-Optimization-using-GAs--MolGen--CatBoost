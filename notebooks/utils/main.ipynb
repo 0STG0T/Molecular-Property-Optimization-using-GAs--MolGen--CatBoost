{
 "cells": [
  {
   "cell_type": "code",
   "execution_count": 1,
   "metadata": {},
   "outputs": [],
   "source": [
    "from rdkit import Chem\n",
    "from rdkit.Chem import rdmolops\n",
    "import random\n",
    "\n",
    "def crossover(parent1_smiles, parent2_smiles):\n",
    "    parent1_mol = Chem.MolFromSmiles(parent1_smiles)\n",
    "    parent2_mol = Chem.MolFromSmiles(parent2_smiles)\n",
    "\n",
    "    # Identify suitable breaking points (e.g., between donor atoms and the rest of the molecule)\n",
    "    # For simplicity, this example randomly selects bonds to break\n",
    "    bond1 = random.choice([bond.GetIdx() for bond in parent1_mol.GetBonds()])\n",
    "    bond2 = random.choice([bond.GetIdx() for bond in parent2_mol.GetBonds()])\n",
    "\n",
    "    # Split molecules into fragments\n",
    "    frags1 = Chem.GetMolFrags(Chem.FragmentOnBonds(parent1_mol, [bond1]), asMols=True, sanitizeFrags=True)\n",
    "    frags2 = Chem.GetMolFrags(Chem.FragmentOnBonds(parent2_mol, [bond2]), asMols=True, sanitizeFrags=True)\n",
    "\n",
    "    # Randomly pair fragments to form new molecules; you might want to implement logic to preferentially keep chelating parts intact\n",
    "    new_mols = [Chem.CombineMols(frags1[0], frags2[1]), Chem.CombineMols(frags2[0], frags1[1])]\n",
    "\n",
    "    # Convert back to SMILES and ensure validity\n",
    "    new_smiles = [Chem.MolToSmiles(mol) for mol in new_mols if mol]\n",
    "\n",
    "    return new_smiles\n"
   ]
  },
  {
   "cell_type": "code",
   "execution_count": null,
   "metadata": {},
   "outputs": [],
   "source": [
    "def mutate(smiles, mutation_rate):\n",
    "    mol = Chem.MolFromSmiles(smiles)\n",
    "\n",
    "    # Decide randomly whether to mutate, based on mutation rate\n",
    "    if random.random() < mutation_rate:\n",
    "        # Choose a mutation type: addition or modification of a functional group\n",
    "        if random.random() > 0.5:\n",
    "            # For simplicity, consider adding a hydroxyl group; real implementation might add different chelating functionalities\n",
    "            atom_idx = random.randint(0, mol.GetNumAtoms() - 1)\n",
    "            edit_mol = Chem.RWMol(mol)\n",
    "            oxygen_atom = Chem.Atom('O')\n",
    "            oxygen_atom.SetFormalCharge(0)\n",
    "            new_atom_idx = edit_mol.AddAtom(oxygen_atom)\n",
    "            edit_mol.AddBond(atom_idx, new_atom_idx, Chem.BondType.SINGLE)\n",
    "            mol = edit_mol.GetMol()\n",
    "        else:\n",
    "            # Modify an existing atom to a different chelating atom, like turning a carbon into an oxygen or a nitrogen\n",
    "            atom_idx = random.randint(0, mol.GetNumAtoms() - 1)\n",
    "            edit_mol = Chem.RWMol(mol)\n",
    "            target_atom = edit_mol.GetAtomWithIdx(atom_idx)\n",
    "            if target_atom.GetSymbol() == 'C':  # Example: change C to N\n",
    "                target_atom.SetAtomicNum(7)  # Atomic number for Nitrogen\n",
    "            mol = edit_mol.GetMol()\n",
    "\n",
    "    new_smiles = Chem.MolToSmiles(mol) if mol else None\n",
    "    return new_smiles\n"
   ]
  },
  {
   "cell_type": "code",
   "execution_count": 2,
   "metadata": {},
   "outputs": [
    {
     "name": "stdout",
     "output_type": "stream",
     "text": [
      "    id                                     smiles   lgK\n",
      "7    7  O=C(O)[C@H](O)[C@@H](O)[C@H](O)[C@H](O)CO  2.85\n",
      "8    8     O=C([O-])C1(O)C[C@@H](O)C(O)[C@H](O)C1  2.95\n",
      "32  32             O=C(O)[C@H]1CC[C@H](C(=O)O)CC1  4.35\n",
      "35  35                      O=C(O)C[C@H](O)C(=O)O  5.08\n",
      "36  36              O=C(O)[C@H](O)[C@@H](O)C(=O)O  4.32\n"
     ]
    }
   ],
   "source": [
    "import pandas as pd\n",
    "from rdkit import Chem\n",
    "from rdkit.Chem import Descriptors\n",
    "\n",
    "# Load your dataset\n",
    "data = pd.read_csv('./logK.csv')  # Change this to your file path\n",
    "\n",
    "# Function to check if molecule contains only allowed elements\n",
    "def contains_only_allowed_elements(smiles, allowed_elements={'C', 'H', 'O', 'N', 'P', 'S'}):\n",
    "    mol = Chem.MolFromSmiles(smiles)\n",
    "    return all(atom.GetSymbol() in allowed_elements for atom in mol.GetAtoms())\n",
    "\n",
    "# Function to count the number of atoms of certain elements\n",
    "def count_atoms(smiles, elements={'O', 'N', 'P', 'S'}):\n",
    "    mol = Chem.MolFromSmiles(smiles)\n",
    "    return sum(atom.GetSymbol() in elements for atom in mol.GetAtoms())\n",
    "\n",
    "# Filtering the dataset\n",
    "filtered_data = []\n",
    "for _, row in data.iterrows():\n",
    "    smiles = row['smiles']\n",
    "    if contains_only_allowed_elements(smiles):\n",
    "        if len(set(smiles) & {'C', 'H', 'O', 'N', 'P', 'S'}) >= 3:  # At least three different elements\n",
    "            if count_atoms(smiles) <= 12:  # No more than 12 of O, N, P, S\n",
    "                mol = Chem.MolFromSmiles(smiles)\n",
    "                molecular_weight = Descriptors.ExactMolWt(mol)\n",
    "                if molecular_weight <= 500:  # Molecular weight <= 500 Da\n",
    "                    filtered_data.append(row)\n",
    "\n",
    "# Convert filtered data back to a DataFrame\n",
    "filtered_df = pd.DataFrame(filtered_data)\n",
    "\n",
    "# Save the filtered data to a new CSV file\n",
    "filtered_df.to_csv('filtered_logK.csv', index=False)\n",
    "\n",
    "# Display the first few rows of the filtered dataset\n",
    "print(filtered_df.head())\n"
   ]
  },
  {
   "cell_type": "code",
   "execution_count": 3,
   "metadata": {},
   "outputs": [
    {
     "data": {
      "text/plain": [
       "<Axes: >"
      ]
     },
     "execution_count": 3,
     "metadata": {},
     "output_type": "execute_result"
    },
    {
     "data": {
      "image/png": "[encoded data removed]",
      "text/plain": [
       "<Figure size 640x480 with 1 Axes>"
      ]
     },
     "metadata": {},
     "output_type": "display_data"
    }
   ],
   "source": [
    "data.lgK.hist()"
   ]
  },
  {
   "cell_type": "code",
   "execution_count": 18,
   "metadata": {},
   "outputs": [
    {
     "name": "stdout",
     "output_type": "stream",
     "text": [
      "New Molecules (SMILES):\n",
      "CO.N\n",
      "CC=O\n",
      "CCS\n"
     ]
    }
   ],
   "source": [
    "from rdkit import Chem\n",
    "from rdkit.Chem import Descriptors, rdMolDescriptors, AllChem\n",
    "import random\n",
    "\n",
    "# Initialize seed molecules\n",
    "seed_smiles = ['OCCN', 'CC(=O)O', 'NCCS']  # Replace with your initial chelators\n",
    "seed_molecules = [Chem.MolFromSmiles(smile) for smile in seed_smiles]\n",
    "\n",
    "# Mutation function: This is a simple example; you'll need more complex logic.\n",
    "def mutate_molecule(molecule):\n",
    "    # Example: remove a random atom (not a hydrogen atom)\n",
    "    if molecule.GetNumAtoms() > 1:  # Prevent removing all atoms\n",
    "        idx_to_remove = random.choice([atom.GetIdx() for atom in molecule.GetAtoms() if atom.GetSymbol() != 'H'])\n",
    "        edmol = Chem.EditableMol(molecule)\n",
    "        edmol.RemoveAtom(idx_to_remove)\n",
    "        new_mol = edmol.GetMol()\n",
    "        return new_mol\n",
    "    return molecule\n",
    "\n",
    "# Property check function (Example: Molecular Weight)\n",
    "def check_properties(molecule):\n",
    "    mw = Descriptors.MolWt(molecule)\n",
    "    if mw <= 500:  # Check molecular weight\n",
    "        return True\n",
    "    return False\n",
    "\n",
    "# Main loop: mutate and check properties\n",
    "new_molecules = []\n",
    "for mol in seed_molecules:\n",
    "    new_mol = mutate_molecule(mol)\n",
    "    if new_mol and check_properties(new_mol):\n",
    "        new_smiles = Chem.MolToSmiles(new_mol)\n",
    "        new_molecules.append(new_smiles)\n",
    "\n",
    "# Print out new molecules' SMILES\n",
    "print(\"New Molecules (SMILES):\")\n",
    "for smiles in new_molecules:\n",
    "    print(smiles)\n",
    "\n",
    "# Note: Implement lgK prediction and further checks as needed.\n"
   ]
  },
  {
   "cell_type": "code",
   "execution_count": 20,
   "metadata": {},
   "outputs": [],
   "source": [
    "! pip install catboost -q"
   ]
  },
  {
   "cell_type": "code",
   "execution_count": 4,
   "metadata": {},
   "outputs": [],
   "source": [
    "from rdkit import Chem\n",
    "from rdkit.Chem import AllChem, Descriptors\n",
    "import pandas as pd\n",
    "from catboost import CatBoostRegressor\n",
    "\n",
    "\n",
    "class CatLgKPredictor:\n",
    "    \n",
    "    def __init__(self, model_path) -> None:\n",
    "        self.reg = CatBoostRegressor().load_model(model_path)\n",
    "        \n",
    "    \n",
    "    # Функция для расчета всех доступных дескрипторов RDKit для молекулы\n",
    "    def calculate_all_descriptors(self, smiles):\n",
    "        mol = Chem.MolFromSmiles(smiles)\n",
    "        if not mol:  # Если молекула не может быть создана\n",
    "            return {desc[0]: None for desc in Descriptors.descList}\n",
    "        \n",
    "        descriptors = {}\n",
    "        for desc_name, desc_func in Descriptors.descList:\n",
    "            try:\n",
    "                descriptors[desc_name] = desc_func(mol)\n",
    "            except Exception as e:\n",
    "                descriptors[desc_name] = None\n",
    "        return descriptors\n",
    "    \n",
    "    # Функция для добавления Morgan Fingerprints\n",
    "    def add_morgan_fingerprints(self, smiles, n_bits=1024):\n",
    "        mol = Chem.MolFromSmiles(smiles)\n",
    "        if mol:\n",
    "            fp = AllChem.GetMorganFingerprintAsBitVect(mol, 2, nBits=n_bits)\n",
    "            return list(map(int, fp))\n",
    "        else:\n",
    "            return [None] * n_bits\n",
    "        \n",
    "    \n",
    "\n",
    "    def preprocess_data(self, data: pd.DataFrame):\n",
    "        # Добавляем Morgan Fingerprints\n",
    "        morgan_fp_df = pd.DataFrame(data['smiles'].apply(lambda x: self.add_morgan_fingerprints(x, 1024)).tolist())\n",
    "        # Применение функции к каждой SMILES в датасете и создание нового DataFrame с результатами\n",
    "        descriptors_list = data['smiles'].apply(self.calculate_all_descriptors).tolist()\n",
    "        descriptors_df = pd.DataFrame(descriptors_list)\n",
    "        \n",
    "        # Если требуется, можно объединить исходный DataFrame с новым DataFrame дескрипторов\n",
    "        combined_data = pd.concat([data, descriptors_df], axis=1)\n",
    "        \n",
    "        \n",
    "        combined_data = combined_data.drop(columns=[\"smiles\", \"Molecules\"])\n",
    "        \n",
    "    def predict_lgK(self, data: pd.DataFrame):\n",
    "        prep_data = self.preprocess_data(data=data)\n",
    "        \n",
    "        preds = self.reg.predict(prep_data)\n",
    "        \n",
    "        return preds\n"
   ]
  },
  {
   "cell_type": "code",
   "execution_count": null,
   "metadata": {},
   "outputs": [],
   "source": [
    "predictor = CatLgKPredictor()"
   ]
  }
 ],
 "metadata": {
  "kernelspec": {
   "display_name": "DECIMER",
   "language": "python",
   "name": "python3"
  },
  "language_info": {
   "codemirror_mode": {
    "name": "ipython",
    "version": 3
   },
   "file_extension": ".py",
   "mimetype": "text/x-python",
   "name": "python",
   "nbconvert_exporter": "python",
   "pygments_lexer": "ipython3",
   "version": "3.11.8"
  }
 },
 "nbformat": 4,
 "nbformat_minor": 2
}
