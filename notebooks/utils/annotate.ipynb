{
 "cells": [
  {
   "cell_type": "code",
   "execution_count": 17,
   "metadata": {},
   "outputs": [],
   "source": [
    "import pandas as pd\n",
    "import numpy as np\n",
    "import rdkit"
   ]
  },
  {
   "cell_type": "code",
   "execution_count": 18,
   "metadata": {},
   "outputs": [],
   "source": [
    "df = pd.read_csv('./data/aaa.tsv', sep='\\t')\n",
    "\n",
    "all_smiles = df['Smiles'].unique()"
   ]
  },
  {
   "cell_type": "code",
   "execution_count": 19,
   "metadata": {},
   "outputs": [
    {
     "data": {
      "text/html": [
       "<div>\n",
       "<style scoped>\n",
       "    .dataframe tbody tr th:only-of-type {\n",
       "        vertical-align: middle;\n",
       "    }\n",
       "\n",
       "    .dataframe tbody tr th {\n",
       "        vertical-align: top;\n",
       "    }\n",
       "\n",
       "    .dataframe thead th {\n",
       "        text-align: right;\n",
       "    }\n",
       "</style>\n",
       "<table border=\"1\" class=\"dataframe\">\n",
       "  <thead>\n",
       "    <tr style=\"text-align: right;\">\n",
       "      <th></th>\n",
       "      <th>id</th>\n",
       "      <th>smiles</th>\n",
       "      <th>lgK</th>\n",
       "    </tr>\n",
       "  </thead>\n",
       "  <tbody>\n",
       "    <tr>\n",
       "      <th>0</th>\n",
       "      <td>0</td>\n",
       "      <td>CC(C)(O)C(=O)O</td>\n",
       "      <td>3.41</td>\n",
       "    </tr>\n",
       "    <tr>\n",
       "      <th>1</th>\n",
       "      <td>1</td>\n",
       "      <td>CCC(O)(CC)C(=O)O</td>\n",
       "      <td>3.25</td>\n",
       "    </tr>\n",
       "    <tr>\n",
       "      <th>2</th>\n",
       "      <td>2</td>\n",
       "      <td>O=C(O)C1(O)CCCC1</td>\n",
       "      <td>3.22</td>\n",
       "    </tr>\n",
       "    <tr>\n",
       "      <th>3</th>\n",
       "      <td>3</td>\n",
       "      <td>O=C(O)C1(O)CCCCC1</td>\n",
       "      <td>2.78</td>\n",
       "    </tr>\n",
       "    <tr>\n",
       "      <th>4</th>\n",
       "      <td>4</td>\n",
       "      <td>O=C(O)C(O)c1ccccc1</td>\n",
       "      <td>2.82</td>\n",
       "    </tr>\n",
       "  </tbody>\n",
       "</table>\n",
       "</div>"
      ],
      "text/plain": [
       "   id              smiles   lgK\n",
       "0   0      CC(C)(O)C(=O)O  3.41\n",
       "1   1    CCC(O)(CC)C(=O)O  3.25\n",
       "2   2    O=C(O)C1(O)CCCC1  3.22\n",
       "3   3   O=C(O)C1(O)CCCCC1  2.78\n",
       "4   4  O=C(O)C(O)c1ccccc1  2.82"
      ]
     },
     "execution_count": 19,
     "metadata": {},
     "output_type": "execute_result"
    }
   ],
   "source": [
    "data = pd.read_csv('./logK.csv')\n",
    "data.head()"
   ]
  },
  {
   "cell_type": "code",
   "execution_count": 20,
   "metadata": {},
   "outputs": [],
   "source": [
    "from collections import Counter\n",
    "from rdkit.Contrib.SA_Score import sascorer\n",
    "from rdkit import Chem\n",
    "from rdkit.Chem import AllChem, Descriptors\n",
    "import pandas as pd\n",
    "from sklearn.model_selection import train_test_split\n",
    "from catboost import CatBoostRegressor\n",
    "from rdkit.Chem.Descriptors import ExactMolWt\n",
    "\n",
    "def check_molecule(smiles):\n",
    "    # Разрешенные элементы и элементы для подсчета атомов\n",
    "    allowed_elements = {'C', 'H', 'O', 'N', 'P', 'S'}\n",
    "    count_elements = {'O', 'N', 'P', 'S'}\n",
    "\n",
    "    # Счетчик элементов в молекуле\n",
    "    elements_counter = Counter()\n",
    "    temp_element = '' # Временная переменная для хранения элементов более одного символа\n",
    "\n",
    "    for char in smiles:\n",
    "        if char.isalpha():\n",
    "            # Проверяем, является ли элемент двухбуквенным (например, Cl) - не применимо к данным элементам, но полезно для общности\n",
    "            if temp_element:\n",
    "                # Предыдущий элемент был начат, завершаем его\n",
    "                elements_counter[temp_element] += 1\n",
    "                temp_element = ''\n",
    "            if char.isupper():\n",
    "                # Начало нового элемента\n",
    "                elements_counter[char] += 1\n",
    "            else:\n",
    "                # Продолжение текущего элемента\n",
    "                temp_element += char\n",
    "        elif temp_element:\n",
    "            # Если был накоплен временный элемент, добавляем его в счетчик\n",
    "            elements_counter[temp_element] += 1\n",
    "            temp_element = '' # Сброс временного элемента\n",
    "\n",
    "    # Проверяем, входит ли последний элемент в счетчик, если цикл завершился на букве\n",
    "    if temp_element:\n",
    "        elements_counter[temp_element] += 1\n",
    "\n",
    "    # Проверка условий\n",
    "    # 1. Все элементы в молекуле должны быть из разрешенного списка\n",
    "    if not all(element in allowed_elements for element in elements_counter):\n",
    "        return False\n",
    "\n",
    "    # 2. Молекула должна включать не менее трех разных элементов из списка\n",
    "    if sum(element in allowed_elements for element in elements_counter) < 3:\n",
    "        return False\n",
    "\n",
    "    # 3. Суммарно не более 12 атомов элементов O, N, P, S\n",
    "    if sum(count for element, count in elements_counter.items() if element in count_elements) > 12:\n",
    "        return False\n",
    "    \n",
    "    if smiles in data[\"smiles\"].tolist():\n",
    "      return False\n",
    "\n",
    "    weight = ExactMolWt(Chem.MolFromSmiles(smiles))\n",
    "    if weight > 500: return False\n",
    "\n",
    "    if sascorer.calculateScore(Chem.MolFromSmiles(smiles))>5: return False\n",
    "\n",
    "\n",
    "    return True"
   ]
  },
  {
   "cell_type": "code",
   "execution_count": 21,
   "metadata": {},
   "outputs": [
    {
     "name": "stderr",
     "output_type": "stream",
     "text": [
      "100%|██████████| 658524/658524 [02:03<00:00, 5327.66it/s]\n"
     ]
    }
   ],
   "source": [
    "from rdkit import Chem\n",
    "from tqdm.auto import tqdm\n",
    "\n",
    "p = []\n",
    "\n",
    "for s in tqdm(all_smiles):\n",
    "    try: \n",
    "        Chem.MolFromSmiles(s)\n",
    "        if check_molecule(s):\n",
    "            p.append(s)\n",
    "    except:\n",
    "        pass\n",
    "        \n",
    "all_smiles = p"
   ]
  },
  {
   "cell_type": "code",
   "execution_count": 22,
   "metadata": {},
   "outputs": [
    {
     "data": {
      "text/plain": [
       "9639"
      ]
     },
     "execution_count": 22,
     "metadata": {},
     "output_type": "execute_result"
    }
   ],
   "source": [
    "len(p)"
   ]
  },
  {
   "cell_type": "code",
   "execution_count": 23,
   "metadata": {},
   "outputs": [],
   "source": [
    "test_df = pd.DataFrame({'smiles': all_smiles})"
   ]
  },
  {
   "cell_type": "code",
   "execution_count": 24,
   "metadata": {},
   "outputs": [
    {
     "data": {
      "text/html": [
       "<div>\n",
       "<style scoped>\n",
       "    .dataframe tbody tr th:only-of-type {\n",
       "        vertical-align: middle;\n",
       "    }\n",
       "\n",
       "    .dataframe tbody tr th {\n",
       "        vertical-align: top;\n",
       "    }\n",
       "\n",
       "    .dataframe thead th {\n",
       "        text-align: right;\n",
       "    }\n",
       "</style>\n",
       "<table border=\"1\" class=\"dataframe\">\n",
       "  <thead>\n",
       "    <tr style=\"text-align: right;\">\n",
       "      <th></th>\n",
       "      <th>smiles</th>\n",
       "    </tr>\n",
       "  </thead>\n",
       "  <tbody>\n",
       "    <tr>\n",
       "      <th>0</th>\n",
       "      <td>CCCCCCCCCCCCCCCCCCSCC(O)C1OC(O)=C(OC)C1=O</td>\n",
       "    </tr>\n",
       "    <tr>\n",
       "      <th>1</th>\n",
       "      <td>O=C(O)C1CCN(C(=O)C[C@H]2CC[C@]3(CC2)OO[C@]2(O3...</td>\n",
       "    </tr>\n",
       "    <tr>\n",
       "      <th>2</th>\n",
       "      <td>CCOP(=O)(OCC)[C@]1(C#N)SC[C@@H](CN(C)C)CS1.O=C...</td>\n",
       "    </tr>\n",
       "    <tr>\n",
       "      <th>3</th>\n",
       "      <td>CCCCCCCCCCCCCCCC(=O)OCCCOP(=O)(O)OC[C@H](N)C(=O)O</td>\n",
       "    </tr>\n",
       "    <tr>\n",
       "      <th>4</th>\n",
       "      <td>CC(=O)O[C@H]1CC[C@@]2(C)[C@@H](CC[C@@H]3[C@@H]...</td>\n",
       "    </tr>\n",
       "  </tbody>\n",
       "</table>\n",
       "</div>"
      ],
      "text/plain": [
       "                                              smiles\n",
       "0          CCCCCCCCCCCCCCCCCCSCC(O)C1OC(O)=C(OC)C1=O\n",
       "1  O=C(O)C1CCN(C(=O)C[C@H]2CC[C@]3(CC2)OO[C@]2(O3...\n",
       "2  CCOP(=O)(OCC)[C@]1(C#N)SC[C@@H](CN(C)C)CS1.O=C...\n",
       "3  CCCCCCCCCCCCCCCC(=O)OCCCOP(=O)(O)OC[C@H](N)C(=O)O\n",
       "4  CC(=O)O[C@H]1CC[C@@]2(C)[C@@H](CC[C@@H]3[C@@H]..."
      ]
     },
     "execution_count": 24,
     "metadata": {},
     "output_type": "execute_result"
    }
   ],
   "source": [
    "test_df.head()"
   ]
  },
  {
   "cell_type": "code",
   "execution_count": 25,
   "metadata": {},
   "outputs": [],
   "source": [
    "from pred import CatLgKPredictor"
   ]
  },
  {
   "cell_type": "code",
   "execution_count": 26,
   "metadata": {},
   "outputs": [],
   "source": [
    "model = CatLgKPredictor('./mymodel')"
   ]
  },
  {
   "cell_type": "code",
   "execution_count": 27,
   "metadata": {},
   "outputs": [],
   "source": [
    "preds = model.predict_lgK(test_df)"
   ]
  },
  {
   "cell_type": "code",
   "execution_count": 28,
   "metadata": {},
   "outputs": [],
   "source": [
    "new_df = pd.DataFrame({'smiles': all_smiles, 'lgK': preds})"
   ]
  },
  {
   "cell_type": "code",
   "execution_count": 29,
   "metadata": {},
   "outputs": [
    {
     "data": {
      "text/plain": [
       "21.843657974936278"
      ]
     },
     "execution_count": 29,
     "metadata": {},
     "output_type": "execute_result"
    }
   ],
   "source": [
    "new_df.lgK.max()"
   ]
  },
  {
   "cell_type": "code",
   "execution_count": 30,
   "metadata": {},
   "outputs": [
    {
     "data": {
      "text/html": [
       "<div>\n",
       "<style scoped>\n",
       "    .dataframe tbody tr th:only-of-type {\n",
       "        vertical-align: middle;\n",
       "    }\n",
       "\n",
       "    .dataframe tbody tr th {\n",
       "        vertical-align: top;\n",
       "    }\n",
       "\n",
       "    .dataframe thead th {\n",
       "        text-align: right;\n",
       "    }\n",
       "</style>\n",
       "<table border=\"1\" class=\"dataframe\">\n",
       "  <thead>\n",
       "    <tr style=\"text-align: right;\">\n",
       "      <th></th>\n",
       "      <th>smiles</th>\n",
       "      <th>lgK</th>\n",
       "    </tr>\n",
       "  </thead>\n",
       "  <tbody>\n",
       "    <tr>\n",
       "      <th>374</th>\n",
       "      <td>CC(O)CN1CCN(CC(=O)O)CCN(CC(=O)O)CCN(CC(=O)O)CC1</td>\n",
       "      <td>21.843658</td>\n",
       "    </tr>\n",
       "    <tr>\n",
       "      <th>243</th>\n",
       "      <td>O=C(O)CN1CCN(CCN(CC(=O)O)CC(=O)O)CCN(CC(=O)O)CC1</td>\n",
       "      <td>18.389990</td>\n",
       "    </tr>\n",
       "    <tr>\n",
       "      <th>6130</th>\n",
       "      <td>CCOP(=O)(O)CN1CCNCCN(CP(=O)(O)OCC)CCNCC1</td>\n",
       "      <td>17.118992</td>\n",
       "    </tr>\n",
       "    <tr>\n",
       "      <th>8806</th>\n",
       "      <td>O=C(O)CN(CC(=O)O)C1CCCCC1N(CC(=O)O)CC(=O)NCCN=C=S</td>\n",
       "      <td>15.553966</td>\n",
       "    </tr>\n",
       "    <tr>\n",
       "      <th>8277</th>\n",
       "      <td>NCCCN1CCN(CC(=O)O)CCN(CCCN)CCN(CC(=O)O)CC1</td>\n",
       "      <td>15.499535</td>\n",
       "    </tr>\n",
       "    <tr>\n",
       "      <th>...</th>\n",
       "      <td>...</td>\n",
       "      <td>...</td>\n",
       "    </tr>\n",
       "    <tr>\n",
       "      <th>7975</th>\n",
       "      <td>CC(C)=CCC/C(C)=C/CC/C(C)=C/CC/C=C(\\C)CC/C=C(\\C...</td>\n",
       "      <td>5.611275</td>\n",
       "    </tr>\n",
       "    <tr>\n",
       "      <th>7683</th>\n",
       "      <td>CCCCCCCCCCCCCCCCCCOCC(O)COCCC[N+](C)(C)C</td>\n",
       "      <td>5.575373</td>\n",
       "    </tr>\n",
       "    <tr>\n",
       "      <th>8091</th>\n",
       "      <td>CCCCCCCCCCCCCCCCCCOCC(O)COCCC[N+](C)(C)C.[OH-]</td>\n",
       "      <td>5.552443</td>\n",
       "    </tr>\n",
       "    <tr>\n",
       "      <th>3290</th>\n",
       "      <td>CCCCCCCCCCCCCCC1COC(COCCCCCC[N+](C)(C)C)C1</td>\n",
       "      <td>5.330629</td>\n",
       "    </tr>\n",
       "    <tr>\n",
       "      <th>1114</th>\n",
       "      <td>CCCCCCCCCCCCCCCCOCCCOCCCC[N+](C)(C)C</td>\n",
       "      <td>5.313287</td>\n",
       "    </tr>\n",
       "  </tbody>\n",
       "</table>\n",
       "<p>9639 rows × 2 columns</p>\n",
       "</div>"
      ],
      "text/plain": [
       "                                                 smiles        lgK\n",
       "374     CC(O)CN1CCN(CC(=O)O)CCN(CC(=O)O)CCN(CC(=O)O)CC1  21.843658\n",
       "243    O=C(O)CN1CCN(CCN(CC(=O)O)CC(=O)O)CCN(CC(=O)O)CC1  18.389990\n",
       "6130           CCOP(=O)(O)CN1CCNCCN(CP(=O)(O)OCC)CCNCC1  17.118992\n",
       "8806  O=C(O)CN(CC(=O)O)C1CCCCC1N(CC(=O)O)CC(=O)NCCN=C=S  15.553966\n",
       "8277         NCCCN1CCN(CC(=O)O)CCN(CCCN)CCN(CC(=O)O)CC1  15.499535\n",
       "...                                                 ...        ...\n",
       "7975  CC(C)=CCC/C(C)=C/CC/C(C)=C/CC/C=C(\\C)CC/C=C(\\C...   5.611275\n",
       "7683           CCCCCCCCCCCCCCCCCCOCC(O)COCCC[N+](C)(C)C   5.575373\n",
       "8091     CCCCCCCCCCCCCCCCCCOCC(O)COCCC[N+](C)(C)C.[OH-]   5.552443\n",
       "3290         CCCCCCCCCCCCCCC1COC(COCCCCCC[N+](C)(C)C)C1   5.330629\n",
       "1114               CCCCCCCCCCCCCCCCOCCCOCCCC[N+](C)(C)C   5.313287\n",
       "\n",
       "[9639 rows x 2 columns]"
      ]
     },
     "execution_count": 30,
     "metadata": {},
     "output_type": "execute_result"
    }
   ],
   "source": [
    "new_df.sort_values(by='lgK', ascending=False)"
   ]
  },
  {
   "cell_type": "code",
   "execution_count": 31,
   "metadata": {},
   "outputs": [],
   "source": [
    "new_df.to_csv('parsed400_500.csv', index=False)"
   ]
  },
  {
   "cell_type": "code",
   "execution_count": null,
   "metadata": {},
   "outputs": [],
   "source": []
  }
 ],
 "metadata": {
  "kernelspec": {
   "display_name": "torch",
   "language": "python",
   "name": "python3"
  },
  "language_info": {
   "codemirror_mode": {
    "name": "ipython",
    "version": 3
   },
   "file_extension": ".py",
   "mimetype": "text/x-python",
   "name": "python",
   "nbconvert_exporter": "python",
   "pygments_lexer": "ipython3",
   "version": "3.11.8"
  }
 },
 "nbformat": 4,
 "nbformat_minor": 2
}
